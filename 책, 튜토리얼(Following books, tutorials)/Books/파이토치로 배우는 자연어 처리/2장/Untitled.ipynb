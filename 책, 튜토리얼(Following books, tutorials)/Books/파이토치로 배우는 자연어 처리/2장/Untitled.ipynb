{
 "cells": [
  {
   "cell_type": "markdown",
   "id": "2c8b07ed",
   "metadata": {},
   "source": [
    "2.1 말뭉치, 토큰, 타입"
   ]
  },
  {
   "cell_type": "code",
   "execution_count": 1,
   "id": "8c3d4ef4",
   "metadata": {},
   "outputs": [],
   "source": [
    "# !pip install --upgrade spacy\n",
    "# !python -m spacy download en_core_web_sm\n",
    "# !pip install --upgrade tensorflow"
   ]
  },
  {
   "cell_type": "code",
   "execution_count": null,
   "id": "841465f9",
   "metadata": {},
   "outputs": [],
   "source": [
    "# 텍스트 토큰화\n",
    "import spacy\n",
    "\n",
    "nlp = spacy.load('en_core_web_sm')\n",
    "text = \"Mary, don't slap the green witch.\"\n",
    "\n",
    "print([str(token) for token in nlp(text.lower())])"
   ]
  },
  {
   "cell_type": "code",
   "execution_count": null,
   "id": "04bdaa7c",
   "metadata": {},
   "outputs": [],
   "source": [
    "from nltk.tokenize import TweetTokenizer\n",
    "\n",
    "tweet = u\"Snow White and the Seven Degrees #MakeAMovieCold@midnight:-)\"\n",
    "\n",
    "tokenizer = TweetTokenizer()\n",
    "\n",
    "print(tokenizer.tokenize(tweet.lower()))"
   ]
  },
  {
   "cell_type": "markdown",
   "id": "3772c7c3",
   "metadata": {},
   "source": [
    "2.2 유니그램, 바이그램, 트라이그램, ∙∙∙, n-그램"
   ]
  },
  {
   "cell_type": "code",
   "execution_count": null,
   "id": "c8cf30a1",
   "metadata": {},
   "outputs": [],
   "source": [
    "# 텍스트에서 n-그램 만들기\n",
    "def n_grams(text, n):\n",
    "    '''\n",
    "    takes tokens or text, returns a list of n-grams\n",
    "    '''\n",
    "    return [text[i:i+n] for i in range(len(text)-n+1)]\n",
    "\n",
    "cleaned = ['mary', ',', \"n't\", 'slap', 'green', 'witch', '.']\n",
    "n_grams(cleaned, 3)"
   ]
  },
  {
   "cell_type": "code",
   "execution_count": null,
   "id": "9f76f00c",
   "metadata": {},
   "outputs": [],
   "source": []
  }
 ],
 "metadata": {
  "kernelspec": {
   "display_name": "Python 3",
   "language": "python",
   "name": "python3"
  },
  "language_info": {
   "codemirror_mode": {
    "name": "ipython",
    "version": 3
   },
   "file_extension": ".py",
   "mimetype": "text/x-python",
   "name": "python",
   "nbconvert_exporter": "python",
   "pygments_lexer": "ipython3",
   "version": "3.8.8"
  }
 },
 "nbformat": 4,
 "nbformat_minor": 5
}
