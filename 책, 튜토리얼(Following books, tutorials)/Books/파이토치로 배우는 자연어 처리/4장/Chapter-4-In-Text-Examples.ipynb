{
 "cells": [
  {
   "cell_type": "code",
   "execution_count": 1,
   "metadata": {
    "id": "z78IASj2hv-_"
   },
   "outputs": [],
   "source": [
    "import torch\n",
    "import torch.nn as nn\n",
    "import torch.nn.functional as F\n",
    "\n",
    "seed = 1337\n",
    "\n",
    "torch.manual_seed(seed)\n",
    "torch.cuda.manual_seed_all(seed)"
   ]
  },
  {
   "cell_type": "markdown",
   "metadata": {
    "id": "kAUTcwyXhv_A"
   },
   "source": [
    "### 코드 4-1"
   ]
  },
  {
   "cell_type": "code",
   "execution_count": 2,
   "metadata": {
    "id": "ZdGuKzgDhv_A"
   },
   "outputs": [],
   "source": [
    "class MultilayerPerceptron(nn.Module):\n",
    "    def __init__(self, input_dim, hidden_dim, output_dim):\n",
    "        \"\"\"\n",
    "        매개변수:\n",
    "            input_dim (int): 입력 벡터 크기\n",
    "            hidden_dim (int): 첫 번째 Linear 층의 출력 크기\n",
    "            output_dim (int): 두 번째 Linear 층의 출력 크기\n",
    "        \"\"\"\n",
    "        super(MultilayerPerceptron, self).__init__()\n",
    "        \n",
    "        self.fc1 = nn.Linear(input_dim, hidden_dim)\n",
    "        self.fc2 = nn.Linear(hidden_dim, output_dim)\n",
    "\n",
    "    def forward(self, x_in, apply_softmax=False):\n",
    "        \"\"\"MLP의 정방향 계산\n",
    "        \n",
    "        매개변수:\n",
    "            x_in (torch.Tensor): 입력 데이터 텐서\n",
    "                x_in.shape는 (batch, input_dim)입니다.\n",
    "            apply_softmax (bool): 소프트맥스 활성화 함수를 위한 플래그\n",
    "                크로스-엔트로피 손실을 사용하려면 False로 지정해야 합니다.\n",
    "        반환값:\n",
    "            결과 텐서. tensor.shape은 (batch, output_dim)입니다.\n",
    "        \"\"\"\n",
    "        intermediate = F.relu(self.fc1(x_in))\n",
    "        output = self.fc2(intermediate)\n",
    "        \n",
    "        if apply_softmax:\n",
    "            output = F.softmax(output, dim=1)\n",
    "            \n",
    "        return output"
   ]
  },
  {
   "cell_type": "markdown",
   "metadata": {
    "id": "MSCIO9-Thv_A"
   },
   "source": [
    "### 코드 4-2"
   ]
  },
  {
   "cell_type": "code",
   "execution_count": 3,
   "metadata": {
    "colab": {
     "base_uri": "https://localhost:8080/"
    },
    "id": "LjP1Ry_8hv_A",
    "outputId": "d9709b72-43ed-48b1-8add-735dea1e94a2"
   },
   "outputs": [
    {
     "name": "stdout",
     "output_type": "stream",
     "text": [
      "MultilayerPerceptron(\n",
      "  (fc1): Linear(in_features=3, out_features=100, bias=True)\n",
      "  (fc2): Linear(in_features=100, out_features=4, bias=True)\n",
      ")\n"
     ]
    }
   ],
   "source": [
    "batch_size = 2 # 한 번에 입력할 샘플 개수\n",
    "input_dim = 3\n",
    "hidden_dim = 100\n",
    "output_dim = 4\n",
    "\n",
    "# 모델 생성\n",
    "mlp = MultilayerPerceptron(input_dim, hidden_dim, output_dim)\n",
    "print(mlp)"
   ]
  },
  {
   "cell_type": "markdown",
   "metadata": {
    "id": "h2wJ8N4Fhv_B"
   },
   "source": [
    "### 코드 4-3"
   ]
  },
  {
   "cell_type": "code",
   "execution_count": 4,
   "metadata": {
    "id": "osqoUvpThv_B"
   },
   "outputs": [],
   "source": [
    "def describe(x):\n",
    "    print(\"타입: {}\".format(x.type()))\n",
    "    print(\"크기: {}\".format(x.shape))\n",
    "    print(\"값: \\n{}\".format(x))"
   ]
  },
  {
   "cell_type": "code",
   "execution_count": 5,
   "metadata": {
    "colab": {
     "base_uri": "https://localhost:8080/"
    },
    "id": "NVWk-1Tphv_B",
    "outputId": "1454ce2d-9cbc-4d43-e341-0533bd58cc6d"
   },
   "outputs": [
    {
     "name": "stdout",
     "output_type": "stream",
     "text": [
      "타입: torch.FloatTensor\n",
      "크기: torch.Size([2, 3])\n",
      "값: \n",
      "tensor([[0.8329, 0.4277, 0.4363],\n",
      "        [0.9686, 0.6316, 0.8494]])\n"
     ]
    }
   ],
   "source": [
    "# 입력\n",
    "x_input = torch.rand(batch_size, input_dim)\n",
    "describe(x_input)"
   ]
  },
  {
   "cell_type": "code",
   "execution_count": 6,
   "metadata": {
    "colab": {
     "base_uri": "https://localhost:8080/"
    },
    "id": "-b-e_WLChv_C",
    "outputId": "39c9fab6-51c8-4381-c61c-db186d502136"
   },
   "outputs": [
    {
     "name": "stdout",
     "output_type": "stream",
     "text": [
      "타입: torch.FloatTensor\n",
      "크기: torch.Size([2, 4])\n",
      "값: \n",
      "tensor([[-0.2456,  0.0723,  0.1589, -0.3294],\n",
      "        [-0.3497,  0.0828,  0.3391, -0.4271]], grad_fn=<AddmmBackward>)\n"
     ]
    }
   ],
   "source": [
    "y_output = mlp(x_input, apply_softmax=False)\n",
    "describe(y_output)"
   ]
  },
  {
   "cell_type": "markdown",
   "metadata": {
    "id": "dvqIvnn4hv_C"
   },
   "source": [
    "### 코드 4-4"
   ]
  },
  {
   "cell_type": "code",
   "execution_count": 7,
   "metadata": {
    "colab": {
     "base_uri": "https://localhost:8080/"
    },
    "id": "85Fk7RZGhv_C",
    "outputId": "d6eec803-6bda-4250-fa1f-492920ca22c4"
   },
   "outputs": [
    {
     "name": "stdout",
     "output_type": "stream",
     "text": [
      "타입: torch.FloatTensor\n",
      "크기: torch.Size([2, 4])\n",
      "값: \n",
      "tensor([[0.2087, 0.2868, 0.3127, 0.1919],\n",
      "        [0.1832, 0.2824, 0.3649, 0.1696]], grad_fn=<SoftmaxBackward>)\n"
     ]
    }
   ],
   "source": [
    "y_output = mlp(x_input, apply_softmax=True)\n",
    "describe(y_output)"
   ]
  },
  {
   "cell_type": "markdown",
   "metadata": {
    "id": "EtsuXMoLhv_D"
   },
   "source": [
    "### 코드 4-13"
   ]
  },
  {
   "cell_type": "code",
   "execution_count": 8,
   "metadata": {
    "colab": {
     "base_uri": "https://localhost:8080/"
    },
    "id": "q-4ZTi-qhv_D",
    "outputId": "51973c01-3399-4c1a-de04-674c82172789"
   },
   "outputs": [
    {
     "name": "stdout",
     "output_type": "stream",
     "text": [
      "MultilayerPerceptron(\n",
      "  (fc1): Linear(in_features=3, out_features=100, bias=True)\n",
      "  (fc2): Linear(in_features=100, out_features=4, bias=True)\n",
      ")\n",
      "타입: torch.FloatTensor\n",
      "크기: torch.Size([2, 4])\n",
      "값: \n",
      "tensor([[-0.3282,  0.0840,  0.2370,  0.0860],\n",
      "        [-0.1289, -0.0275,  0.2067,  0.3799]], grad_fn=<AddmmBackward>)\n"
     ]
    }
   ],
   "source": [
    "class MultilayerPerceptron(nn.Module):\n",
    "    def __init__(self, input_dim, hidden_dim, output_dim):\n",
    "        \"\"\"\n",
    "        매개변수:\n",
    "            input_dim (int): 입력 벡터 크기\n",
    "            hidden_dim (int): 첫 번째 Linear 층의 출력 크기\n",
    "            output_dim (int): 두 번째 Linear 층의 출력 크기\n",
    "        \"\"\"\n",
    "        super(MultilayerPerceptron, self).__init__()\n",
    "        self.fc1 = nn.Linear(input_dim, hidden_dim)\n",
    "        self.fc2 = nn.Linear(hidden_dim, output_dim)\n",
    "\n",
    "    def forward(self, x_in, apply_softmax=False):\n",
    "        \"\"\"MLP의 정방향 계산\n",
    "        \n",
    "        매개변수:\n",
    "            x_in (torch.Tensor): 입력 데이터 텐서\n",
    "                x_in.shape는 (batch, input_dim)입니다.\n",
    "            apply_softmax (bool): 소프트맥스 활성화 함수를 위한 플래그\n",
    "                크로스-엔트로피 손실을 사용하려면 False로 지정해야 합니다.\n",
    "        반환값:\n",
    "            결과 텐서. tensor.shape은 (batch, output_dim)입니다.\n",
    "        \"\"\"\n",
    "        intermediate = F.relu(self.fc1(x_in))\n",
    "        output = self.fc2(F.dropout(intermediate, p=0.5))\n",
    "        \n",
    "        if apply_softmax:\n",
    "            output = F.softmax(output, dim=1)\n",
    "        return output\n",
    "\n",
    "batch_size = 2 # 동시에 입력될 샘플의 개수\n",
    "input_dim = 3\n",
    "hidden_dim = 100\n",
    "output_dim = 4\n",
    "\n",
    "# 모델 생성\n",
    "mlp = MultilayerPerceptron(input_dim, hidden_dim, output_dim)\n",
    "print(mlp)\n",
    "\n",
    "y_output = mlp(x_input, apply_softmax=False)\n",
    "describe(y_output)"
   ]
  },
  {
   "cell_type": "markdown",
   "metadata": {
    "id": "vJKlIvFghv_D"
   },
   "source": [
    "### 코드 4-14"
   ]
  },
  {
   "cell_type": "code",
   "execution_count": 9,
   "metadata": {
    "colab": {
     "base_uri": "https://localhost:8080/"
    },
    "id": "aU9iVyONhv_D",
    "outputId": "92b91787-1597-41aa-d880-d2cabd5954af"
   },
   "outputs": [
    {
     "name": "stdout",
     "output_type": "stream",
     "text": [
      "torch.Size([2, 10, 7])\n",
      "torch.Size([2, 16, 5])\n"
     ]
    }
   ],
   "source": [
    "batch_size = 2\n",
    "one_hot_size = 10\n",
    "sequence_width = 7\n",
    "\n",
    "data = torch.randn(batch_size, one_hot_size, sequence_width)\n",
    "conv1 = nn.Conv1d(in_channels=one_hot_size, out_channels=16, kernel_size=3)\n",
    "intermediate1 = conv1(data)\n",
    "\n",
    "print(data.size())\n",
    "print(intermediate1.size())"
   ]
  },
  {
   "cell_type": "markdown",
   "metadata": {
    "id": "R_Xi6BYihv_E"
   },
   "source": [
    "### 코드 4-15"
   ]
  },
  {
   "cell_type": "code",
   "execution_count": 10,
   "metadata": {
    "colab": {
     "base_uri": "https://localhost:8080/"
    },
    "id": "kwYl4CP0hv_E",
    "outputId": "80a1bd4b-0492-4566-f23f-5fbaa61dfb74"
   },
   "outputs": [
    {
     "name": "stdout",
     "output_type": "stream",
     "text": [
      "torch.Size([2, 32, 3])\n",
      "torch.Size([2, 64, 1])\n"
     ]
    }
   ],
   "source": [
    "conv2 = nn.Conv1d(in_channels=16, out_channels=32, kernel_size=3)\n",
    "conv3 = nn.Conv1d(in_channels=32, out_channels=64, kernel_size=3)\n",
    "\n",
    "intermediate2 = conv2(intermediate1)\n",
    "intermediate3 = conv3(intermediate2)\n",
    "\n",
    "print(intermediate2.size())\n",
    "print(intermediate3.size())"
   ]
  },
  {
   "cell_type": "code",
   "execution_count": 11,
   "metadata": {
    "colab": {
     "base_uri": "https://localhost:8080/"
    },
    "id": "0TimjVabhv_F",
    "outputId": "41212e5d-3ae2-48be-8bc6-668a99edbd47"
   },
   "outputs": [
    {
     "name": "stdout",
     "output_type": "stream",
     "text": [
      "torch.Size([2, 64])\n"
     ]
    }
   ],
   "source": [
    "y_output = intermediate3.squeeze()\n",
    "\n",
    "print(y_output.size())"
   ]
  },
  {
   "cell_type": "code",
   "execution_count": 12,
   "metadata": {
    "colab": {
     "base_uri": "https://localhost:8080/"
    },
    "id": "WTtWqHluhv_F",
    "outputId": "5248b39b-7f6a-4d0a-a306-7b365a6dd614"
   },
   "outputs": [
    {
     "data": {
      "text/plain": [
       "tensor(1.1735, grad_fn=<SumBackward0>)"
      ]
     },
     "execution_count": 12,
     "metadata": {},
     "output_type": "execute_result"
    }
   ],
   "source": [
    "intermediate2.mean(dim=0).mean(dim=1).sum()"
   ]
  },
  {
   "cell_type": "markdown",
   "metadata": {
    "id": "0L7H2RJQhv_F"
   },
   "source": [
    "### 코드 4-16"
   ]
  },
  {
   "cell_type": "code",
   "execution_count": 13,
   "metadata": {
    "colab": {
     "base_uri": "https://localhost:8080/"
    },
    "id": "dXJcHt8Mhv_G",
    "outputId": "dc5c2ba3-597c-49e9-eb22-765eb26618a6"
   },
   "outputs": [
    {
     "name": "stdout",
     "output_type": "stream",
     "text": [
      "torch.Size([2, 80])\n",
      "torch.Size([2, 16])\n"
     ]
    }
   ],
   "source": [
    "# 특성 벡터를 줄이는 방법 2\n",
    "print(intermediate1.view(batch_size, -1).size())\n",
    "\n",
    "# 특성 벡터를 줄이는 방법 2\n",
    "print(torch.mean(intermediate1, dim=2).size())\n",
    "# print(torch.max(intermediate1, dim=2).size())\n",
    "# print(torch.sum(intermediate1, dim=2).size())"
   ]
  },
  {
   "cell_type": "markdown",
   "metadata": {
    "id": "E525EulUhv_G"
   },
   "source": [
    "### 코드 4-22\n",
    "\n",
    "전체 모델을 다시 만들지 않고 배치 정규화를 사용하는 방법만 소개합니다."
   ]
  },
  {
   "cell_type": "code",
   "execution_count": 14,
   "metadata": {
    "colab": {
     "base_uri": "https://localhost:8080/"
    },
    "id": "hFuZ-K6xhv_G",
    "outputId": "dc0144dd-0d39-4ced-f7d7-51bd3f8b7b4f"
   },
   "outputs": [
    {
     "name": "stdout",
     "output_type": "stream",
     "text": [
      "torch.Size([2, 16, 5])\n",
      "torch.Size([2, 32, 3])\n",
      "torch.Size([2, 64, 1])\n"
     ]
    }
   ],
   "source": [
    "conv1 = nn.Conv1d(in_channels=one_hot_size, out_channels=16, kernel_size=3)\n",
    "conv2 = nn.Conv1d(in_channels=16, out_channels=32, kernel_size=3)\n",
    "conv3 = nn.Conv1d(in_channels=32, out_channels=64, kernel_size=3)\n",
    "\n",
    "conv1_bn = nn.BatchNorm1d(num_features=16)\n",
    "conv2_bn = nn.BatchNorm1d(num_features=32)\n",
    "    \n",
    "intermediate1 = conv1_bn(F.relu(conv1(data)))\n",
    "intermediate2 = conv2_bn(F.relu(conv2(intermediate1)))\n",
    "intermediate3 = conv3(intermediate2)\n",
    "\n",
    "print(intermediate1.size())\n",
    "print(intermediate2.size())\n",
    "print(intermediate3.size())"
   ]
  },
  {
   "cell_type": "markdown",
   "metadata": {
    "id": "5S0Prvi9hv_G"
   },
   "source": [
    "노트: 배치 정규화는 배치와 시퀀스 차원에 대해 통곗값을 계산합니다. 다른 말로하면 `BatchNorm1d`에 입력되는 텐서의 크기는 `(B, C, L)`입니다(여기에서 B는 배치, C는 채널, L은 길이). 각 `(B, L)` 슬라이스마다 원점에 평균을 맞춥니다. 이는 공변량 변화(covariate shift)를 줄입니다."
   ]
  },
  {
   "cell_type": "code",
   "execution_count": 15,
   "metadata": {
    "colab": {
     "base_uri": "https://localhost:8080/"
    },
    "id": "9JkPjJrphv_H",
    "outputId": "76413680-2e84-483a-afcf-ac0469ef0b62"
   },
   "outputs": [
    {
     "data": {
      "text/plain": [
       "tensor([-4.4703e-08,  0.0000e+00, -3.9736e-08,  5.9605e-08,  5.9605e-08,\n",
       "        -3.9736e-08,  0.0000e+00,  0.0000e+00,  3.9736e-08,  3.9736e-08,\n",
       "         0.0000e+00, -1.9868e-08, -3.9736e-08,  0.0000e+00,  1.9868e-08,\n",
       "         1.9868e-08,  1.9868e-08,  2.9802e-08,  0.0000e+00, -3.9736e-08,\n",
       "         7.9473e-08, -1.9868e-08,  3.9736e-08,  1.9868e-08,  9.9341e-09,\n",
       "        -5.9605e-08, -1.9868e-08, -3.9736e-08,  3.9736e-08,  0.0000e+00,\n",
       "        -1.9868e-08, -4.4703e-08], grad_fn=<MeanBackward1>)"
      ]
     },
     "execution_count": 15,
     "metadata": {},
     "output_type": "execute_result"
    }
   ],
   "source": [
    "intermediate2.mean(dim=(0, 2))"
   ]
  },
  {
   "cell_type": "markdown",
   "metadata": {
    "id": "av2B7Cxxhv_H"
   },
   "source": [
    "## 보너스 코드\n",
    "\n",
    "4장에서 합성곱을 다룹니다. 아래 코드는 여러 하이퍼파라미터 설정으로 합성곱을 만듭니다."
   ]
  },
  {
   "cell_type": "code",
   "execution_count": 16,
   "metadata": {
    "colab": {
     "base_uri": "https://localhost:8080/"
    },
    "id": "DcC4MPrbhv_H",
    "outputId": "9aaf1ce8-4b97-4579-8911-a9e92b05b715"
   },
   "outputs": [
    {
     "name": "stdout",
     "output_type": "stream",
     "text": [
      "타입: torch.FloatTensor\n",
      "크기: torch.Size([1, 2, 3, 3])\n",
      "값: \n",
      "tensor([[[[-1.0516,  0.8223, -0.4441],\n",
      "          [ 0.5651,  0.1499,  0.8558],\n",
      "          [ 1.0299, -1.5958, -1.3647]],\n",
      "\n",
      "         [[-1.7112,  0.4895,  1.9279],\n",
      "          [ 2.0921,  0.8010,  0.0450],\n",
      "          [ 1.0441,  0.1169, -1.2539]]]])\n",
      "타입: torch.FloatTensor\n",
      "크기: torch.Size([1, 2, 2, 2])\n",
      "값: \n",
      "Parameter containing:\n",
      "tensor([[[[-0.1961, -0.1264],\n",
      "          [-0.1118, -0.2688]],\n",
      "\n",
      "         [[-0.2124,  0.2460],\n",
      "          [ 0.0133, -0.2928]]]], requires_grad=True)\n",
      "타입: torch.FloatTensor\n",
      "크기: torch.Size([1, 1, 2, 2])\n",
      "값: \n",
      "tensor([[[[ 0.3384,  0.0781],\n",
      "          [-0.0215,  0.6795]]]], grad_fn=<ThnnConv2DBackward>)\n"
     ]
    }
   ],
   "source": [
    "x = torch.randn(1, 2, 3, 3)\n",
    "describe(x)\n",
    "\n",
    "conv1 = nn.Conv2d(in_channels=2, out_channels=1, kernel_size=2)\n",
    "describe(conv1.weight)\n",
    "describe(conv1(x))"
   ]
  },
  {
   "cell_type": "code",
   "execution_count": 17,
   "metadata": {
    "colab": {
     "base_uri": "https://localhost:8080/"
    },
    "id": "G4xHe6kvhv_H",
    "outputId": "b6202bf3-3db1-4838-fa60-f1c31c9a8c1e"
   },
   "outputs": [
    {
     "name": "stdout",
     "output_type": "stream",
     "text": [
      "타입: torch.FloatTensor\n",
      "크기: torch.Size([1, 1, 3, 3])\n",
      "값: \n",
      "tensor([[[[ 0.3394, -1.6743,  0.8440],\n",
      "          [-1.3214, -0.4518,  1.3287],\n",
      "          [ 1.1344, -2.2107, -0.3434]]]])\n",
      "타입: torch.FloatTensor\n",
      "크기: torch.Size([2, 1, 2, 2])\n",
      "값: \n",
      "Parameter containing:\n",
      "tensor([[[[ 0.0684,  0.4659],\n",
      "          [-0.1554, -0.1037]]],\n",
      "\n",
      "\n",
      "        [[[ 0.1786,  0.2361],\n",
      "          [-0.1286, -0.1648]]]], requires_grad=True)\n",
      "타입: torch.FloatTensor\n",
      "크기: torch.Size([1, 2, 2, 2])\n",
      "값: \n",
      "tensor([[[[-0.6095,  0.1063],\n",
      "          [-0.3528,  0.8623]],\n",
      "\n",
      "         [[ 0.3861,  0.2156],\n",
      "          [ 0.3520,  1.0503]]]], grad_fn=<ThnnConv2DBackward>)\n"
     ]
    }
   ],
   "source": [
    "x = torch.randn(1, 1, 3, 3)\n",
    "describe(x)\n",
    "\n",
    "conv1 = nn.Conv2d(in_channels=1, out_channels=2, kernel_size=2)\n",
    "describe(conv1.weight)\n",
    "describe(conv1(x))"
   ]
  },
  {
   "cell_type": "code",
   "execution_count": null,
   "metadata": {},
   "outputs": [],
   "source": []
  }
 ],
 "metadata": {
  "accelerator": "GPU",
  "colab": {
   "name": "Chapter-4-In-Text-Examples.ipynb",
   "provenance": []
  },
  "kernelspec": {
   "display_name": "Python 3",
   "language": "python",
   "name": "python3"
  },
  "language_info": {
   "codemirror_mode": {
    "name": "ipython",
    "version": 3
   },
   "file_extension": ".py",
   "mimetype": "text/x-python",
   "name": "python",
   "nbconvert_exporter": "python",
   "pygments_lexer": "ipython3",
   "version": "3.8.8"
  }
 },
 "nbformat": 4,
 "nbformat_minor": 1
}
