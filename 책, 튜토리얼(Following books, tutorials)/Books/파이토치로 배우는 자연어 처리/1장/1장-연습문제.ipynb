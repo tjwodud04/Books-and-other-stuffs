{
 "cells": [
  {
   "cell_type": "markdown",
   "id": "c4737683",
   "metadata": {},
   "source": [
    "1.5 연습문제"
   ]
  },
  {
   "cell_type": "code",
   "execution_count": 1,
   "id": "2b0eccfc",
   "metadata": {},
   "outputs": [
    {
     "data": {
      "text/plain": [
       "tensor([[[0.4739, 0.0391, 0.0470],\n",
       "         [0.2864, 0.6121, 0.4118],\n",
       "         [0.7225, 0.0479, 0.2685]]])"
      ]
     },
     "execution_count": 1,
     "metadata": {},
     "output_type": "execute_result"
    }
   ],
   "source": [
    "# 1.\n",
    "import torch\n",
    "\n",
    "a = torch.rand(3,3)\n",
    "a.unsqueeze(0)"
   ]
  },
  {
   "cell_type": "code",
   "execution_count": 2,
   "id": "0e28072f",
   "metadata": {},
   "outputs": [
    {
     "data": {
      "text/plain": [
       "tensor([[0.4739, 0.0391, 0.0470],\n",
       "        [0.2864, 0.6121, 0.4118],\n",
       "        [0.7225, 0.0479, 0.2685]])"
      ]
     },
     "execution_count": 2,
     "metadata": {},
     "output_type": "execute_result"
    }
   ],
   "source": [
    "# 2.\n",
    "a.squeeze(0)"
   ]
  },
  {
   "cell_type": "code",
   "execution_count": 3,
   "id": "32bce7d3",
   "metadata": {},
   "outputs": [
    {
     "data": {
      "text/plain": [
       "tensor([[3.3865, 3.9854, 4.0172],\n",
       "        [5.6274, 6.6140, 4.6298],\n",
       "        [6.3609, 4.3075, 6.3066],\n",
       "        [3.6090, 6.2999, 3.6859],\n",
       "        [3.0501, 4.7150, 5.9337]])"
      ]
     },
     "execution_count": 3,
     "metadata": {},
     "output_type": "execute_result"
    }
   ],
   "source": [
    "# 3.\n",
    "3 + torch.rand(5,3) * (7 - 3)"
   ]
  },
  {
   "cell_type": "code",
   "execution_count": 4,
   "id": "110c96e0",
   "metadata": {},
   "outputs": [
    {
     "data": {
      "text/plain": [
       "tensor([[ 0.5740, -1.0429, -1.4335],\n",
       "        [-0.8971,  0.0998, -2.4692],\n",
       "        [ 0.8825,  0.2892, -1.6896]])"
      ]
     },
     "execution_count": 4,
     "metadata": {},
     "output_type": "execute_result"
    }
   ],
   "source": [
    "# 4.\n",
    "a = torch.rand(3,3)\n",
    "a.normal_()"
   ]
  },
  {
   "cell_type": "code",
   "execution_count": 5,
   "id": "27f891bb",
   "metadata": {},
   "outputs": [
    {
     "data": {
      "text/plain": [
       "tensor([[0],\n",
       "        [1],\n",
       "        [2],\n",
       "        [4]])"
      ]
     },
     "execution_count": 5,
     "metadata": {},
     "output_type": "execute_result"
    }
   ],
   "source": [
    "# 5.\n",
    "a = torch.Tensor([1,1,1,0,1])\n",
    "torch.nonzero(a)"
   ]
  },
  {
   "cell_type": "code",
   "execution_count": 6,
   "id": "e1b4d73e",
   "metadata": {},
   "outputs": [
    {
     "data": {
      "text/plain": [
       "tensor([[0.1786, 0.1786, 0.1786, 0.1786],\n",
       "        [0.1231, 0.1231, 0.1231, 0.1231],\n",
       "        [0.1496, 0.1496, 0.1496, 0.1496]])"
      ]
     },
     "execution_count": 6,
     "metadata": {},
     "output_type": "execute_result"
    }
   ],
   "source": [
    "# 6.\n",
    "a = torch.rand(3,1)\n",
    "a.expand(3,4)"
   ]
  },
  {
   "cell_type": "code",
   "execution_count": 7,
   "id": "45815a9a",
   "metadata": {},
   "outputs": [
    {
     "data": {
      "text/plain": [
       "tensor([[[1.0770, 1.5270, 1.5314, 1.2361],\n",
       "         [1.2145, 1.5297, 1.2219, 1.2236],\n",
       "         [1.4142, 2.0833, 1.5695, 1.5547],\n",
       "         [1.9385, 2.2871, 1.9094, 1.9185]],\n",
       "\n",
       "        [[1.2646, 1.3253, 1.3798, 1.4798],\n",
       "         [1.2540, 1.2484, 1.4219, 1.5584],\n",
       "         [1.4521, 1.4089, 1.3735, 1.5900],\n",
       "         [1.1309, 1.3479, 1.1051, 1.3873]],\n",
       "\n",
       "        [[1.7158, 1.3899, 0.6456, 1.7242],\n",
       "         [1.5631, 1.4670, 0.6993, 1.8436],\n",
       "         [1.2543, 0.8897, 0.3306, 0.8398],\n",
       "         [1.2289, 0.9101, 0.4963, 1.4752]]])"
      ]
     },
     "execution_count": 7,
     "metadata": {},
     "output_type": "execute_result"
    }
   ],
   "source": [
    "# 7.\n",
    "a = torch.rand(3,4,5)\n",
    "b = torch.rand(3,5,4)\n",
    "torch.bmm(a,b)"
   ]
  },
  {
   "cell_type": "code",
   "execution_count": 8,
   "id": "38a1efb0",
   "metadata": {},
   "outputs": [
    {
     "data": {
      "text/plain": [
       "tensor([[[1.1458, 0.7423, 0.8487, 0.9926],\n",
       "         [1.8744, 1.4132, 1.1931, 1.6688],\n",
       "         [1.2676, 1.0110, 1.1172, 1.4127],\n",
       "         [1.8298, 1.0770, 1.6513, 1.7615]],\n",
       "\n",
       "        [[1.9016, 1.2229, 1.5348, 1.7132],\n",
       "         [1.7202, 0.9258, 1.4189, 1.4147],\n",
       "         [1.2037, 0.8857, 0.7153, 0.9378],\n",
       "         [2.1269, 1.5949, 1.2925, 1.8104]],\n",
       "\n",
       "        [[0.8565, 0.9903, 0.2989, 0.8421],\n",
       "         [1.7182, 1.1574, 1.1981, 1.4287],\n",
       "         [1.5118, 0.9975, 1.0843, 1.2453],\n",
       "         [0.8142, 0.5374, 0.5436, 0.6453]]])"
      ]
     },
     "execution_count": 8,
     "metadata": {},
     "output_type": "execute_result"
    }
   ],
   "source": [
    "# 8.\n",
    "a = torch.rand(3,4,5)\n",
    "b = torch.rand(5,4)\n",
    "torch.bmm(a, b.unsqueeze(0).expand(a.size(0), *b.size()))"
   ]
  },
  {
   "cell_type": "code",
   "execution_count": null,
   "id": "5e6096d8",
   "metadata": {},
   "outputs": [],
   "source": []
  }
 ],
 "metadata": {
  "hide_input": false,
  "kernelspec": {
   "display_name": "Python 3",
   "language": "python",
   "name": "python3"
  },
  "language_info": {
   "codemirror_mode": {
    "name": "ipython",
    "version": 3
   },
   "file_extension": ".py",
   "mimetype": "text/x-python",
   "name": "python",
   "nbconvert_exporter": "python",
   "pygments_lexer": "ipython3",
   "version": "3.8.8"
  },
  "latex_envs": {
   "LaTeX_envs_menu_present": true,
   "autoclose": false,
   "autocomplete": true,
   "bibliofile": "biblio.bib",
   "cite_by": "apalike",
   "current_citInitial": 1,
   "eqLabelWithNumbers": true,
   "eqNumInitial": 1,
   "hotkeys": {
    "equation": "Ctrl-E",
    "itemize": "Ctrl-I"
   },
   "labels_anchors": false,
   "latex_user_defs": false,
   "report_style_numbering": false,
   "user_envs_cfg": false
  },
  "toc": {
   "base_numbering": 1,
   "nav_menu": {},
   "number_sections": true,
   "sideBar": true,
   "skip_h1_title": false,
   "title_cell": "Table of Contents",
   "title_sidebar": "Contents",
   "toc_cell": false,
   "toc_position": {},
   "toc_section_display": true,
   "toc_window_display": false
  }
 },
 "nbformat": 4,
 "nbformat_minor": 5
}
