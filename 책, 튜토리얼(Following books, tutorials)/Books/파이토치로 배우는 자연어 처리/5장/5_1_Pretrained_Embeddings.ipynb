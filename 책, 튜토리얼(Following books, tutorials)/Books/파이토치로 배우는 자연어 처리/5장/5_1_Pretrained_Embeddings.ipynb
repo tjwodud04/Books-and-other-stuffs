{
 "cells": [
  {
   "cell_type": "code",
   "execution_count": 1,
   "metadata": {
    "colab": {
     "base_uri": "https://localhost:8080/"
    },
    "id": "pNflcE7Xnf4E",
    "outputId": "72163cd8-9c88-4124-bbfc-3ed2cf0d2971"
   },
   "outputs": [
    {
     "name": "stdout",
     "output_type": "stream",
     "text": [
      "Collecting annoy\n",
      "  Downloading annoy-1.17.0.tar.gz (646 kB)\n",
      "\u001b[?25l\r",
      "\u001b[K     |▌                               | 10 kB 36.6 MB/s eta 0:00:01\r",
      "\u001b[K     |█                               | 20 kB 28.5 MB/s eta 0:00:01\r",
      "\u001b[K     |█▌                              | 30 kB 18.5 MB/s eta 0:00:01\r",
      "\u001b[K     |██                              | 40 kB 15.6 MB/s eta 0:00:01\r",
      "\u001b[K     |██▌                             | 51 kB 8.3 MB/s eta 0:00:01\r",
      "\u001b[K     |███                             | 61 kB 8.6 MB/s eta 0:00:01\r",
      "\u001b[K     |███▌                            | 71 kB 7.6 MB/s eta 0:00:01\r",
      "\u001b[K     |████                            | 81 kB 8.5 MB/s eta 0:00:01\r",
      "\u001b[K     |████▋                           | 92 kB 9.4 MB/s eta 0:00:01\r",
      "\u001b[K     |█████                           | 102 kB 8.0 MB/s eta 0:00:01\r",
      "\u001b[K     |█████▋                          | 112 kB 8.0 MB/s eta 0:00:01\r",
      "\u001b[K     |██████                          | 122 kB 8.0 MB/s eta 0:00:01\r",
      "\u001b[K     |██████▋                         | 133 kB 8.0 MB/s eta 0:00:01\r",
      "\u001b[K     |███████                         | 143 kB 8.0 MB/s eta 0:00:01\r",
      "\u001b[K     |███████▋                        | 153 kB 8.0 MB/s eta 0:00:01\r",
      "\u001b[K     |████████▏                       | 163 kB 8.0 MB/s eta 0:00:01\r",
      "\u001b[K     |████████▋                       | 174 kB 8.0 MB/s eta 0:00:01\r",
      "\u001b[K     |█████████▏                      | 184 kB 8.0 MB/s eta 0:00:01\r",
      "\u001b[K     |█████████▋                      | 194 kB 8.0 MB/s eta 0:00:01\r",
      "\u001b[K     |██████████▏                     | 204 kB 8.0 MB/s eta 0:00:01\r",
      "\u001b[K     |██████████▋                     | 215 kB 8.0 MB/s eta 0:00:01\r",
      "\u001b[K     |███████████▏                    | 225 kB 8.0 MB/s eta 0:00:01\r",
      "\u001b[K     |███████████▋                    | 235 kB 8.0 MB/s eta 0:00:01\r",
      "\u001b[K     |████████████▏                   | 245 kB 8.0 MB/s eta 0:00:01\r",
      "\u001b[K     |████████████▊                   | 256 kB 8.0 MB/s eta 0:00:01\r",
      "\u001b[K     |█████████████▏                  | 266 kB 8.0 MB/s eta 0:00:01\r",
      "\u001b[K     |█████████████▊                  | 276 kB 8.0 MB/s eta 0:00:01\r",
      "\u001b[K     |██████████████▏                 | 286 kB 8.0 MB/s eta 0:00:01\r",
      "\u001b[K     |██████████████▊                 | 296 kB 8.0 MB/s eta 0:00:01\r",
      "\u001b[K     |███████████████▏                | 307 kB 8.0 MB/s eta 0:00:01\r",
      "\u001b[K     |███████████████▊                | 317 kB 8.0 MB/s eta 0:00:01\r",
      "\u001b[K     |████████████████▎               | 327 kB 8.0 MB/s eta 0:00:01\r",
      "\u001b[K     |████████████████▊               | 337 kB 8.0 MB/s eta 0:00:01\r",
      "\u001b[K     |█████████████████▎              | 348 kB 8.0 MB/s eta 0:00:01\r",
      "\u001b[K     |█████████████████▊              | 358 kB 8.0 MB/s eta 0:00:01\r",
      "\u001b[K     |██████████████████▎             | 368 kB 8.0 MB/s eta 0:00:01\r",
      "\u001b[K     |██████████████████▊             | 378 kB 8.0 MB/s eta 0:00:01\r",
      "\u001b[K     |███████████████████▎            | 389 kB 8.0 MB/s eta 0:00:01\r",
      "\u001b[K     |███████████████████▊            | 399 kB 8.0 MB/s eta 0:00:01\r",
      "\u001b[K     |████████████████████▎           | 409 kB 8.0 MB/s eta 0:00:01\r",
      "\u001b[K     |████████████████████▉           | 419 kB 8.0 MB/s eta 0:00:01\r",
      "\u001b[K     |█████████████████████▎          | 430 kB 8.0 MB/s eta 0:00:01\r",
      "\u001b[K     |█████████████████████▉          | 440 kB 8.0 MB/s eta 0:00:01\r",
      "\u001b[K     |██████████████████████▎         | 450 kB 8.0 MB/s eta 0:00:01\r",
      "\u001b[K     |██████████████████████▉         | 460 kB 8.0 MB/s eta 0:00:01\r",
      "\u001b[K     |███████████████████████▎        | 471 kB 8.0 MB/s eta 0:00:01\r",
      "\u001b[K     |███████████████████████▉        | 481 kB 8.0 MB/s eta 0:00:01\r",
      "\u001b[K     |████████████████████████▍       | 491 kB 8.0 MB/s eta 0:00:01\r",
      "\u001b[K     |████████████████████████▉       | 501 kB 8.0 MB/s eta 0:00:01\r",
      "\u001b[K     |█████████████████████████▍      | 512 kB 8.0 MB/s eta 0:00:01\r",
      "\u001b[K     |█████████████████████████▉      | 522 kB 8.0 MB/s eta 0:00:01\r",
      "\u001b[K     |██████████████████████████▍     | 532 kB 8.0 MB/s eta 0:00:01\r",
      "\u001b[K     |██████████████████████████▉     | 542 kB 8.0 MB/s eta 0:00:01\r",
      "\u001b[K     |███████████████████████████▍    | 552 kB 8.0 MB/s eta 0:00:01\r",
      "\u001b[K     |███████████████████████████▉    | 563 kB 8.0 MB/s eta 0:00:01\r",
      "\u001b[K     |████████████████████████████▍   | 573 kB 8.0 MB/s eta 0:00:01\r",
      "\u001b[K     |█████████████████████████████   | 583 kB 8.0 MB/s eta 0:00:01\r",
      "\u001b[K     |█████████████████████████████▍  | 593 kB 8.0 MB/s eta 0:00:01\r",
      "\u001b[K     |██████████████████████████████  | 604 kB 8.0 MB/s eta 0:00:01\r",
      "\u001b[K     |██████████████████████████████▍ | 614 kB 8.0 MB/s eta 0:00:01\r",
      "\u001b[K     |███████████████████████████████ | 624 kB 8.0 MB/s eta 0:00:01\r",
      "\u001b[K     |███████████████████████████████▍| 634 kB 8.0 MB/s eta 0:00:01\r",
      "\u001b[K     |████████████████████████████████| 645 kB 8.0 MB/s eta 0:00:01\r",
      "\u001b[K     |████████████████████████████████| 646 kB 8.0 MB/s \n",
      "\u001b[?25hBuilding wheels for collected packages: annoy\n",
      "  Building wheel for annoy (setup.py) ... \u001b[?25l\u001b[?25hdone\n",
      "  Created wheel for annoy: filename=annoy-1.17.0-cp37-cp37m-linux_x86_64.whl size=391692 sha256=02bb8ab1e09a7ef06465010ad0adec50c6154cec3a56b1ae7059fcc69cd96d53\n",
      "  Stored in directory: /root/.cache/pip/wheels/4f/e8/1e/7cc9ebbfa87a3b9f8ba79408d4d31831d67eea918b679a4c07\n",
      "Successfully built annoy\n",
      "Installing collected packages: annoy\n",
      "Successfully installed annoy-1.17.0\n"
     ]
    }
   ],
   "source": [
    "# annoy 패키지를 설치합니다.\n",
    "!pip install annoy"
   ]
  },
  {
   "cell_type": "code",
   "execution_count": 2,
   "metadata": {
    "id": "wce9esK2nbQA"
   },
   "outputs": [],
   "source": [
    "import torch\n",
    "import torch.nn as nn\n",
    "from tqdm import tqdm\n",
    "from annoy import AnnoyIndex\n",
    "import numpy as np"
   ]
  },
  {
   "cell_type": "code",
   "execution_count": 3,
   "metadata": {
    "id": "8ilK5G46nbQB"
   },
   "outputs": [],
   "source": [
    "class PreTrainedEmbeddings(object):\n",
    "    \"\"\" 사전 훈련된 단어 벡터 사용을 위한 래퍼 클래스 \"\"\"\n",
    "    def __init__(self, word_to_index, word_vectors):\n",
    "        \"\"\"\n",
    "        매개변수:\n",
    "            word_to_index (dict): 단어에서 정수로 매핑\n",
    "            word_vectors (numpy 배열의 리스트)\n",
    "        \"\"\"\n",
    "        self.word_to_index = word_to_index\n",
    "        self.word_vectors = word_vectors\n",
    "        self.index_to_word = {v: k for k, v in self.word_to_index.items()}\n",
    "\n",
    "        self.index = AnnoyIndex(len(word_vectors[0]), metric='euclidean')\n",
    "        print(\"인덱스 만드는 중!\")\n",
    "        for _, i in self.word_to_index.items():\n",
    "            self.index.add_item(i, self.word_vectors[i])\n",
    "        self.index.build(50)\n",
    "        print(\"완료!\")\n",
    "        \n",
    "    @classmethod\n",
    "    def from_embeddings_file(cls, embedding_file):\n",
    "        \"\"\"사전 훈련된 벡터 파일에서 객체를 만듭니다.\n",
    "        \n",
    "        벡터 파일은 다음과 같은 포맷입니다:\n",
    "            word0 x0_0 x0_1 x0_2 x0_3 ... x0_N\n",
    "            word1 x1_0 x1_1 x1_2 x1_3 ... x1_N\n",
    "        \n",
    "        매개변수:\n",
    "            embedding_file (str): 파일 위치\n",
    "        반환값:\n",
    "            PretrainedEmbeddings의 인스턴스\n",
    "        \"\"\"\n",
    "        word_to_index = {}\n",
    "        word_vectors = []\n",
    "\n",
    "        with open(embedding_file) as fp:\n",
    "            for line in fp.readlines():\n",
    "                line = line.split(\" \")\n",
    "                word = line[0]\n",
    "                vec = np.array([float(x) for x in line[1:]])\n",
    "                \n",
    "                word_to_index[word] = len(word_to_index)\n",
    "                word_vectors.append(vec)\n",
    "                \n",
    "        return cls(word_to_index, word_vectors)\n",
    "    \n",
    "    def get_embedding(self, word):\n",
    "        \"\"\"\n",
    "        매개변수:\n",
    "            word (str)\n",
    "        반환값\n",
    "            임베딩 (numpy.ndarray)\n",
    "        \"\"\"\n",
    "        return self.word_vectors[self.word_to_index[word]]\n",
    "\n",
    "    def get_closest_to_vector(self, vector, n=1):\n",
    "        \"\"\"벡터가 주어지면 n 개의 최근접 이웃을 반환합니다\n",
    "        매개변수:\n",
    "            vector (np.ndarray): Annoy 인덱스에 있는 벡터의 크기와 같아야 합니다\n",
    "            n (int): 반환될 이웃의 개수\n",
    "        반환값:\n",
    "            [str, str, ...]: 주어진 벡터와 가장 가까운 단어\n",
    "                단어는 거리순으로 정렬되어 있지 않습니다.\n",
    "        \"\"\"\n",
    "        nn_indices = self.index.get_nns_by_vector(vector, n)\n",
    "        return [self.index_to_word[neighbor] for neighbor in nn_indices]\n",
    "    \n",
    "    def compute_and_print_analogy(self, word1, word2, word3):\n",
    "        \"\"\"단어 임베딩을 사용한 유추 결과를 출력합니다\n",
    "\n",
    "        word1이 word2일 때 word3은 __입니다.\n",
    "        이 메서드는 word1 : word2 :: word3 : word4를 출력합니다\n",
    "        \n",
    "        매개변수:\n",
    "            word1 (str)\n",
    "            word2 (str)\n",
    "            word3 (str)\n",
    "        \"\"\"\n",
    "        vec1 = self.get_embedding(word1)\n",
    "        vec2 = self.get_embedding(word2)\n",
    "        vec3 = self.get_embedding(word3)\n",
    "\n",
    "        # 네 번째 단어 임베딩을 계산합니다\n",
    "        spatial_relationship = vec2 - vec1\n",
    "        vec4 = vec3 + spatial_relationship\n",
    "\n",
    "        closest_words = self.get_closest_to_vector(vec4, n=4)\n",
    "        existing_words = set([word1, word2, word3])\n",
    "        closest_words = [word for word in closest_words \n",
    "                             if word not in existing_words] \n",
    "\n",
    "        if len(closest_words) == 0:\n",
    "            print(\"계산된 벡터와 가장 가까운 이웃을 찾을 수 없습니다!\")\n",
    "            return\n",
    "        \n",
    "        for word4 in closest_words:\n",
    "            print(\"{} : {} :: {} : {}\".format(word1, word2, word3, word4))"
   ]
  },
  {
   "cell_type": "code",
   "execution_count": 4,
   "metadata": {
    "colab": {
     "base_uri": "https://localhost:8080/"
    },
    "id": "wzI7893JnbQC",
    "outputId": "b79abd34-e64c-4619-b275-39a9eb1b5b4a"
   },
   "outputs": [
    {
     "name": "stdout",
     "output_type": "stream",
     "text": [
      "--2021-08-22 06:48:02--  http://nlp.stanford.edu/data/glove.6B.zip\n",
      "Resolving nlp.stanford.edu (nlp.stanford.edu)... 171.64.67.140\n",
      "Connecting to nlp.stanford.edu (nlp.stanford.edu)|171.64.67.140|:80... connected.\n",
      "HTTP request sent, awaiting response... 302 Found\n",
      "Location: https://nlp.stanford.edu/data/glove.6B.zip [following]\n",
      "--2021-08-22 06:48:02--  https://nlp.stanford.edu/data/glove.6B.zip\n",
      "Connecting to nlp.stanford.edu (nlp.stanford.edu)|171.64.67.140|:443... connected.\n",
      "HTTP request sent, awaiting response... 301 Moved Permanently\n",
      "Location: http://downloads.cs.stanford.edu/nlp/data/glove.6B.zip [following]\n",
      "--2021-08-22 06:48:02--  http://downloads.cs.stanford.edu/nlp/data/glove.6B.zip\n",
      "Resolving downloads.cs.stanford.edu (downloads.cs.stanford.edu)... 171.64.64.22\n",
      "Connecting to downloads.cs.stanford.edu (downloads.cs.stanford.edu)|171.64.64.22|:80... connected.\n",
      "HTTP request sent, awaiting response... 200 OK\n",
      "Length: 862182613 (822M) [application/zip]\n",
      "Saving to: ‘glove.6B.zip’\n",
      "\n",
      "glove.6B.zip        100%[===================>] 822.24M  5.15MB/s    in 2m 39s  \n",
      "\n",
      "2021-08-22 06:50:42 (5.16 MB/s) - ‘glove.6B.zip’ saved [862182613/862182613]\n",
      "\n",
      "Archive:  glove.6B.zip\n",
      "  inflating: glove.6B.50d.txt        \n",
      "  inflating: glove.6B.100d.txt       \n",
      "  inflating: glove.6B.200d.txt       \n",
      "  inflating: glove.6B.300d.txt       \n"
     ]
    }
   ],
   "source": [
    "# # GloVe 데이터를 다운로드합니다.\n",
    "# !wget http://nlp.stanford.edu/data/glove.6B.zip\n",
    "# !unzip glove.6B.zip\n",
    "# !mkdir -p data/glove\n",
    "# !mv glove.6B.100d.txt data/glove"
   ]
  },
  {
   "cell_type": "code",
   "execution_count": 5,
   "metadata": {
    "colab": {
     "base_uri": "https://localhost:8080/"
    },
    "id": "jAjjduj4nbQC",
    "outputId": "aded8ba4-3ff2-445c-9e6a-83955c4416af",
    "scrolled": true
   },
   "outputs": [
    {
     "name": "stdout",
     "output_type": "stream",
     "text": [
      "인덱스 만드는 중!\n",
      "완료!\n"
     ]
    }
   ],
   "source": [
    "embeddings = PreTrainedEmbeddings.from_embeddings_file('data/glove/glove.6B.100d.txt')"
   ]
  },
  {
   "cell_type": "code",
   "execution_count": 6,
   "metadata": {
    "colab": {
     "base_uri": "https://localhost:8080/"
    },
    "id": "-vkPwR1WnbQD",
    "outputId": "55d556c3-3e09-4d6c-e3d9-0fe13b96be6c"
   },
   "outputs": [
    {
     "name": "stdout",
     "output_type": "stream",
     "text": [
      "man : he :: woman : she\n",
      "man : he :: woman : her\n"
     ]
    }
   ],
   "source": [
    "embeddings.compute_and_print_analogy('man', 'he', 'woman')"
   ]
  },
  {
   "cell_type": "code",
   "execution_count": 7,
   "metadata": {
    "colab": {
     "base_uri": "https://localhost:8080/"
    },
    "id": "qdW0ALNwnbQD",
    "outputId": "b3861170-5994-4427-bd53-d478f0c96304"
   },
   "outputs": [
    {
     "name": "stdout",
     "output_type": "stream",
     "text": [
      "fly : plane :: sail : ship\n",
      "fly : plane :: sail : vessel\n",
      "fly : plane :: sail : boat\n"
     ]
    }
   ],
   "source": [
    "embeddings.compute_and_print_analogy('fly', 'plane', 'sail')"
   ]
  },
  {
   "cell_type": "code",
   "execution_count": 8,
   "metadata": {
    "colab": {
     "base_uri": "https://localhost:8080/"
    },
    "id": "7BPECjEWnbQD",
    "outputId": "d9aa9b74-b953-4fb4-c423-def6aa86a381"
   },
   "outputs": [
    {
     "name": "stdout",
     "output_type": "stream",
     "text": [
      "cat : kitten :: dog : puppy\n",
      "cat : kitten :: dog : puppies\n",
      "cat : kitten :: dog : junkyard\n"
     ]
    }
   ],
   "source": [
    "embeddings.compute_and_print_analogy('cat', 'kitten', 'dog')"
   ]
  },
  {
   "cell_type": "code",
   "execution_count": 9,
   "metadata": {
    "colab": {
     "base_uri": "https://localhost:8080/"
    },
    "id": "GTePW8TUnbQD",
    "outputId": "d348c0c8-4bdd-446d-ddba-9fbe88a46ac6"
   },
   "outputs": [
    {
     "name": "stdout",
     "output_type": "stream",
     "text": [
      "blue : color :: dog : animal\n",
      "blue : color :: dog : pet\n",
      "blue : color :: dog : taste\n",
      "blue : color :: dog : touch\n"
     ]
    }
   ],
   "source": [
    "embeddings.compute_and_print_analogy('blue', 'color', 'dog')"
   ]
  },
  {
   "cell_type": "code",
   "execution_count": 10,
   "metadata": {
    "colab": {
     "base_uri": "https://localhost:8080/"
    },
    "id": "qS2ZTE2gnbQE",
    "outputId": "0885cf97-288c-41c7-b7a6-f68466c927d9"
   },
   "outputs": [
    {
     "name": "stdout",
     "output_type": "stream",
     "text": [
      "leg : legs :: hand : stick\n",
      "leg : legs :: hand : eyes\n",
      "leg : legs :: hand : instead\n"
     ]
    }
   ],
   "source": [
    "embeddings.compute_and_print_analogy('leg', 'legs', 'hand')"
   ]
  },
  {
   "cell_type": "code",
   "execution_count": 11,
   "metadata": {
    "colab": {
     "base_uri": "https://localhost:8080/"
    },
    "id": "BjoDo_0tnbQE",
    "outputId": "aa2c7ba6-136c-4a6c-df9e-707ba37f1a13"
   },
   "outputs": [
    {
     "name": "stdout",
     "output_type": "stream",
     "text": [
      "toe : foot :: finger : hand\n",
      "toe : foot :: finger : kept\n",
      "toe : foot :: finger : ground\n"
     ]
    }
   ],
   "source": [
    "embeddings.compute_and_print_analogy('toe', 'foot', 'finger')"
   ]
  },
  {
   "cell_type": "code",
   "execution_count": 12,
   "metadata": {
    "colab": {
     "base_uri": "https://localhost:8080/"
    },
    "id": "sf2Cg82nnbQE",
    "outputId": "d2668623-3df4-47b4-9c74-1411fcde2def"
   },
   "outputs": [
    {
     "name": "stdout",
     "output_type": "stream",
     "text": [
      "talk : communicate :: read : interpret\n",
      "talk : communicate :: read : communicated\n",
      "talk : communicate :: read : transmit\n"
     ]
    }
   ],
   "source": [
    "embeddings.compute_and_print_analogy('talk', 'communicate', 'read')"
   ]
  },
  {
   "cell_type": "code",
   "execution_count": 13,
   "metadata": {
    "colab": {
     "base_uri": "https://localhost:8080/"
    },
    "id": "cYyVG3c8nbQE",
    "outputId": "5203961e-506c-4755-d6f1-f4d32284c6b9"
   },
   "outputs": [
    {
     "name": "stdout",
     "output_type": "stream",
     "text": [
      "blue : democrat :: red : republican\n",
      "blue : democrat :: red : congressman\n",
      "blue : democrat :: red : senator\n"
     ]
    }
   ],
   "source": [
    "embeddings.compute_and_print_analogy('blue', 'democrat', 'red')"
   ]
  },
  {
   "cell_type": "code",
   "execution_count": 14,
   "metadata": {
    "colab": {
     "base_uri": "https://localhost:8080/"
    },
    "id": "28L6Y98PnbQE",
    "outputId": "d46dbb78-114c-411c-b006-274b38797696"
   },
   "outputs": [
    {
     "name": "stdout",
     "output_type": "stream",
     "text": [
      "man : king :: woman : queen\n",
      "man : king :: woman : monarch\n",
      "man : king :: woman : throne\n"
     ]
    }
   ],
   "source": [
    "embeddings.compute_and_print_analogy('man', 'king', 'woman')"
   ]
  },
  {
   "cell_type": "code",
   "execution_count": 15,
   "metadata": {
    "colab": {
     "base_uri": "https://localhost:8080/"
    },
    "id": "gJVD1nyDnbQF",
    "outputId": "4fbfef64-cbbb-48b7-b7e4-2995e728db51"
   },
   "outputs": [
    {
     "name": "stdout",
     "output_type": "stream",
     "text": [
      "man : doctor :: woman : nurse\n",
      "man : doctor :: woman : physician\n",
      "man : doctor :: woman : doctors\n"
     ]
    }
   ],
   "source": [
    "embeddings.compute_and_print_analogy('man', 'doctor', 'woman')"
   ]
  },
  {
   "cell_type": "code",
   "execution_count": 16,
   "metadata": {
    "colab": {
     "base_uri": "https://localhost:8080/"
    },
    "id": "PUnCxUdcnbQF",
    "outputId": "e0bcebde-4aee-4b7d-dbf4-05a643f1bb93"
   },
   "outputs": [
    {
     "name": "stdout",
     "output_type": "stream",
     "text": [
      "fast : fastest :: small : smallest\n",
      "fast : fastest :: small : largest\n",
      "fast : fastest :: small : among\n",
      "fast : fastest :: small : quarters\n"
     ]
    }
   ],
   "source": [
    "embeddings.compute_and_print_analogy('fast', 'fastest', 'small')"
   ]
  },
  {
   "cell_type": "code",
   "execution_count": null,
   "metadata": {},
   "outputs": [],
   "source": []
  }
 ],
 "metadata": {
  "accelerator": "GPU",
  "colab": {
   "name": "5_1_Pretrained_Embeddings.ipynb",
   "provenance": []
  },
  "kernelspec": {
   "display_name": "Python 3",
   "language": "python",
   "name": "python3"
  },
  "language_info": {
   "codemirror_mode": {
    "name": "ipython",
    "version": 3
   },
   "file_extension": ".py",
   "mimetype": "text/x-python",
   "name": "python",
   "nbconvert_exporter": "python",
   "pygments_lexer": "ipython3",
   "version": "3.8.8"
  }
 },
 "nbformat": 4,
 "nbformat_minor": 1
}
