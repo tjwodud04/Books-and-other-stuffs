{
  "nbformat": 4,
  "nbformat_minor": 0,
  "metadata": {
    "colab": {
      "name": "트랜스포머에_적용된_기술들.ipynb",
      "provenance": [],
      "collapsed_sections": []
    },
    "kernelspec": {
      "name": "python3",
      "display_name": "Python 3"
    },
    "language_info": {
      "name": "python"
    }
  },
  "cells": [
    {
      "cell_type": "code",
      "execution_count": null,
      "metadata": {
        "id": "4yEfIX1VVxEV"
      },
      "outputs": [],
      "source": [
        "# 피드포워드 뉴럴네트워크 계산 예시 (1)\n",
        "import torch\n",
        "\n",
        "x = torch.tensor([2,1])\n",
        "w1 = torch.tensor([[3,2,-4],[2,-3,1]])\n",
        "b1 = 1\n",
        "w2 = torch.tensor([[-1, 1], [1,2], [3,1]])\n",
        "b2 = -1"
      ]
    },
    {
      "cell_type": "code",
      "source": [
        "# 피드포워드 뉴럴네트워크 계산 예시 (2)\n",
        "h_preact = torch.matmul(x, w1) + b1\n",
        "h = torch.nn.functional.relu(h_preact)\n",
        "y = torch.matmul(h, w2) + b2"
      ],
      "metadata": {
        "id": "Dew-wWloV6__"
      },
      "execution_count": null,
      "outputs": []
    },
    {
      "cell_type": "code",
      "source": [
        " h_preact"
      ],
      "metadata": {
        "colab": {
          "base_uri": "https://localhost:8080/"
        },
        "id": "gBVJHqGyV-lA",
        "outputId": "3f5e7243-e8ee-4c6c-fc32-b46f796cb0d3"
      },
      "execution_count": null,
      "outputs": [
        {
          "output_type": "execute_result",
          "data": {
            "text/plain": [
              "tensor([ 9,  2, -6])"
            ]
          },
          "metadata": {},
          "execution_count": 3
        }
      ]
    },
    {
      "cell_type": "code",
      "source": [
        "h"
      ],
      "metadata": {
        "colab": {
          "base_uri": "https://localhost:8080/"
        },
        "id": "I7_wZtcCWCUp",
        "outputId": "9cbec82a-1a3b-478e-cf57-6cf4591d522b"
      },
      "execution_count": null,
      "outputs": [
        {
          "output_type": "execute_result",
          "data": {
            "text/plain": [
              "tensor([9, 2, 0])"
            ]
          },
          "metadata": {},
          "execution_count": 4
        }
      ]
    },
    {
      "cell_type": "code",
      "source": [
        "y"
      ],
      "metadata": {
        "colab": {
          "base_uri": "https://localhost:8080/"
        },
        "id": "0fHuyJhDWENY",
        "outputId": "15e263af-c094-4a3a-80de-6e99294f21e1"
      },
      "execution_count": null,
      "outputs": [
        {
          "output_type": "execute_result",
          "data": {
            "text/plain": [
              "tensor([-8, 12])"
            ]
          },
          "metadata": {},
          "execution_count": 5
        }
      ]
    },
    {
      "cell_type": "code",
      "source": [
        "# 레이어 정규화 예시\n",
        "input = torch.tensor([[1.0, 2.0, 3.0], [1.0, 1.0, 1.0]])\n",
        "m = torch.nn.LayerNorm(input.shape[-1])\n",
        "output = m(input)"
      ],
      "metadata": {
        "id": "1RLXjTBDWEto"
      },
      "execution_count": null,
      "outputs": []
    },
    {
      "cell_type": "code",
      "source": [
        "output"
      ],
      "metadata": {
        "colab": {
          "base_uri": "https://localhost:8080/"
        },
        "id": "8tZchxOLWN-X",
        "outputId": "eaed3d38-cd33-4fab-87b6-75bef1778141"
      },
      "execution_count": null,
      "outputs": [
        {
          "output_type": "execute_result",
          "data": {
            "text/plain": [
              "tensor([[-1.2247,  0.0000,  1.2247],\n",
              "        [ 0.0000,  0.0000,  0.0000]], grad_fn=<NativeLayerNormBackward0>)"
            ]
          },
          "metadata": {},
          "execution_count": 7
        }
      ]
    },
    {
      "cell_type": "code",
      "source": [
        "m.weight"
      ],
      "metadata": {
        "colab": {
          "base_uri": "https://localhost:8080/"
        },
        "id": "triRCLaXWeKm",
        "outputId": "b2664852-46c0-4c05-8e1a-370e8ce4639c"
      },
      "execution_count": null,
      "outputs": [
        {
          "output_type": "execute_result",
          "data": {
            "text/plain": [
              "Parameter containing:\n",
              "tensor([1., 1., 1.], requires_grad=True)"
            ]
          },
          "metadata": {},
          "execution_count": 8
        }
      ]
    },
    {
      "cell_type": "code",
      "source": [
        "m.bias"
      ],
      "metadata": {
        "colab": {
          "base_uri": "https://localhost:8080/"
        },
        "id": "_m1M3x-wWhhV",
        "outputId": "c20d0597-1fdc-4225-f3b9-529f551075ec"
      },
      "execution_count": null,
      "outputs": [
        {
          "output_type": "execute_result",
          "data": {
            "text/plain": [
              "Parameter containing:\n",
              "tensor([0., 0., 0.], requires_grad=True)"
            ]
          },
          "metadata": {},
          "execution_count": 9
        }
      ]
    },
    {
      "cell_type": "code",
      "source": [
        "# 드롭아웃\n",
        "m = torch.nn.Dropout(p=0.2)\n",
        "input = torch.randn(1, 10)\n",
        "output = m(input)"
      ],
      "metadata": {
        "id": "qxZt1wAtWiTl"
      },
      "execution_count": null,
      "outputs": []
    },
    {
      "cell_type": "code",
      "source": [
        "input"
      ],
      "metadata": {
        "colab": {
          "base_uri": "https://localhost:8080/"
        },
        "id": "BwkqVpScWuuk",
        "outputId": "f41b6dd6-669f-4e7c-b864-a7976bf00121"
      },
      "execution_count": null,
      "outputs": [
        {
          "output_type": "execute_result",
          "data": {
            "text/plain": [
              "tensor([[ 2.0720,  1.0007,  1.6847, -0.5129, -1.5362,  0.2534,  0.0181, -1.6540,\n",
              "         -0.8076,  1.1447]])"
            ]
          },
          "metadata": {},
          "execution_count": 11
        }
      ]
    },
    {
      "cell_type": "code",
      "source": [
        "output"
      ],
      "metadata": {
        "colab": {
          "base_uri": "https://localhost:8080/"
        },
        "id": "slLLxtWdWqLG",
        "outputId": "512ee201-b0f2-458f-c02f-b2185d421724"
      },
      "execution_count": null,
      "outputs": [
        {
          "output_type": "execute_result",
          "data": {
            "text/plain": [
              "tensor([[ 2.5900,  1.2509,  2.1059, -0.6411, -0.0000,  0.3168,  0.0226, -2.0675,\n",
              "         -1.0095,  1.4308]])"
            ]
          },
          "metadata": {},
          "execution_count": 12
        }
      ]
    },
    {
      "cell_type": "code",
      "source": [
        "# # 아담 옵티마이저\n",
        "# from torch.optim import Adam\n",
        "\n",
        "# optimizer = Adam(model.parameters(), lr=model.learning_rate)"
      ],
      "metadata": {
        "id": "tuNk745PWrbN"
      },
      "execution_count": null,
      "outputs": []
    },
    {
      "cell_type": "code",
      "source": [
        ""
      ],
      "metadata": {
        "id": "XYvWNOkqW5br"
      },
      "execution_count": null,
      "outputs": []
    }
  ]
}