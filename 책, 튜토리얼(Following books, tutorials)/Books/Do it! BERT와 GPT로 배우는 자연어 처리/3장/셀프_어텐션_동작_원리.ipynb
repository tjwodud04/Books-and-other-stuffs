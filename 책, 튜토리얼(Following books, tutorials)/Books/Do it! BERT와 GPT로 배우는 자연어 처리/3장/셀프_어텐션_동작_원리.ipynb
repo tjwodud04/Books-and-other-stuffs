{
  "nbformat": 4,
  "nbformat_minor": 0,
  "metadata": {
    "colab": {
      "name": "셀프_어텐션_동작_원리.ipynb",
      "provenance": [],
      "collapsed_sections": []
    },
    "kernelspec": {
      "name": "python3",
      "display_name": "Python 3"
    },
    "language_info": {
      "name": "python"
    }
  },
  "cells": [
    {
      "cell_type": "code",
      "execution_count": 1,
      "metadata": {
        "id": "7wziikMlUX2B"
      },
      "outputs": [],
      "source": [
        "# 변수 정의\n",
        "import torch\n",
        "x = torch.tensor([\n",
        "  [1.0, 0.0, 1.0, 0.0],\n",
        "  [0.0, 2.0, 0.0, 2.0],\n",
        "  [1.0, 1.0, 1.0, 1.0],  \n",
        "])\n",
        "w_query = torch.tensor([\n",
        "  [1.0, 0.0, 1.0],\n",
        "  [1.0, 0.0, 0.0],\n",
        "  [0.0, 0.0, 1.0],\n",
        "  [0.0, 1.0, 1.0]\n",
        "])\n",
        "w_key = torch.tensor([\n",
        "  [0.0, 0.0, 1.0],\n",
        "  [1.0, 1.0, 0.0],\n",
        "  [0.0, 1.0, 0.0],\n",
        "  [1.0, 1.0, 0.0]\n",
        "])\n",
        "w_value = torch.tensor([\n",
        "  [0.0, 2.0, 0.0],\n",
        "  [0.0, 3.0, 0.0],\n",
        "  [1.0, 0.0, 3.0],\n",
        "  [1.0, 1.0, 0.0]\n",
        "])"
      ]
    },
    {
      "cell_type": "code",
      "source": [
        "# 쿼리, 키, 밸류 만들기\n",
        "keys = torch.matmul(x, w_key)\n",
        "querys = torch.matmul(x, w_query)\n",
        "values = torch.matmul(x, w_value)"
      ],
      "metadata": {
        "id": "AFuz0ab0Ub8S"
      },
      "execution_count": 2,
      "outputs": []
    },
    {
      "cell_type": "code",
      "source": [
        "# 어텐션 스코어 만들기\n",
        "attn_scores = torch.matmul(querys, keys.T)"
      ],
      "metadata": {
        "id": "aK2ShO2wUsDp"
      },
      "execution_count": 3,
      "outputs": []
    },
    {
      "cell_type": "code",
      "source": [
        "attn_scores"
      ],
      "metadata": {
        "colab": {
          "base_uri": "https://localhost:8080/"
        },
        "id": "pf6sVj9CUv5_",
        "outputId": "11a8b7b3-8405-4758-fe4d-1e91186176c6"
      },
      "execution_count": 4,
      "outputs": [
        {
          "output_type": "execute_result",
          "data": {
            "text/plain": [
              "tensor([[ 2.,  4.,  4.],\n",
              "        [ 4., 16., 12.],\n",
              "        [ 4., 12., 10.]])"
            ]
          },
          "metadata": {},
          "execution_count": 4
        }
      ]
    },
    {
      "cell_type": "code",
      "source": [
        "# 소프트맥스 확률값 만들기\n",
        "import numpy as np\n",
        "from torch.nn.functional import softmax\n",
        "\n",
        "key_dim_sqrt = np.sqrt(keys.shape[-1])\n",
        "attn_probs = softmax(attn_scores / key_dim_sqrt, dim=-1)"
      ],
      "metadata": {
        "id": "_J8zKDbOUx6H"
      },
      "execution_count": 5,
      "outputs": []
    },
    {
      "cell_type": "code",
      "source": [
        "attn_probs"
      ],
      "metadata": {
        "colab": {
          "base_uri": "https://localhost:8080/"
        },
        "id": "I3liesjYU3_v",
        "outputId": "0f014e70-35f6-49f2-d846-ea9b351aa141"
      },
      "execution_count": 6,
      "outputs": [
        {
          "output_type": "execute_result",
          "data": {
            "text/plain": [
              "tensor([[1.3613e-01, 4.3194e-01, 4.3194e-01],\n",
              "        [8.9045e-04, 9.0884e-01, 9.0267e-02],\n",
              "        [7.4449e-03, 7.5471e-01, 2.3785e-01]])"
            ]
          },
          "metadata": {},
          "execution_count": 6
        }
      ]
    },
    {
      "cell_type": "code",
      "source": [
        "# 소프트맥스 확률과 밸류를 가중합하기\n",
        "weighted_values = torch.matmul(attn_probs, values)"
      ],
      "metadata": {
        "id": "milvMZE2U6a2"
      },
      "execution_count": 7,
      "outputs": []
    },
    {
      "cell_type": "code",
      "source": [
        "weighted_values"
      ],
      "metadata": {
        "colab": {
          "base_uri": "https://localhost:8080/"
        },
        "id": "nAvB5GigU_Hu",
        "outputId": "2f748bff-2a34-4cdf-9ac5-6802045e5521"
      },
      "execution_count": 8,
      "outputs": [
        {
          "output_type": "execute_result",
          "data": {
            "text/plain": [
              "tensor([[1.8639, 6.3194, 1.7042],\n",
              "        [1.9991, 7.8141, 0.2735],\n",
              "        [1.9926, 7.4796, 0.7359]])"
            ]
          },
          "metadata": {},
          "execution_count": 8
        }
      ]
    },
    {
      "cell_type": "code",
      "source": [
        ""
      ],
      "metadata": {
        "id": "ZED53sjFVdLn"
      },
      "execution_count": 8,
      "outputs": []
    }
  ]
}