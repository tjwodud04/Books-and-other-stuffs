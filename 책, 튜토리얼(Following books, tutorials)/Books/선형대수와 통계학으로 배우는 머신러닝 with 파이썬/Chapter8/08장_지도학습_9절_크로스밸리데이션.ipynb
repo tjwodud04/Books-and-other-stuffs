{
 "cells": [
  {
   "cell_type": "markdown",
   "metadata": {},
   "source": [
    "# 개별코드 "
   ]
  },
  {
   "cell_type": "code",
   "execution_count": 1,
   "metadata": {},
   "outputs": [],
   "source": [
    "# 데이터 불러오기\n",
    "from sklearn import datasets\n",
    "\n",
    "raw_wine = datasets.load_wine()"
   ]
  },
  {
   "cell_type": "code",
   "execution_count": 2,
   "metadata": {},
   "outputs": [],
   "source": [
    "# 피쳐, 타깃 데이터 지정\n",
    "X = raw_wine.data\n",
    "y = raw_wine.target"
   ]
  },
  {
   "cell_type": "code",
   "execution_count": 3,
   "metadata": {},
   "outputs": [],
   "source": [
    "# 트레이닝/테스트 데이터 분할\n",
    "from sklearn.model_selection import train_test_split\n",
    "\n",
    "X_tn, X_te, y_tn, y_te=train_test_split(X,y,random_state=0)"
   ]
  },
  {
   "cell_type": "code",
   "execution_count": 4,
   "metadata": {},
   "outputs": [],
   "source": [
    "# 데이터 표준화\n",
    "from sklearn.preprocessing import StandardScaler\n",
    "\n",
    "std_scale = StandardScaler()\n",
    "\n",
    "std_scale.fit(X_tn)\n",
    "\n",
    "X_tn_std = std_scale.transform(X_tn)\n",
    "X_te_std  = std_scale.transform(X_te)"
   ]
  },
  {
   "cell_type": "code",
   "execution_count": 5,
   "metadata": {},
   "outputs": [
    {
     "data": {
      "text/plain": [
       "GridSearchCV(cv=StratifiedKFold(n_splits=5, random_state=0, shuffle=True),\n",
       "             estimator=SVC(random_state=0),\n",
       "             param_grid={'C': [0.5, 1, 10, 100], 'kernel': ('linear', 'rbf')},\n",
       "             scoring='accuracy')"
      ]
     },
     "execution_count": 5,
     "metadata": {},
     "output_type": "execute_result"
    }
   ],
   "source": [
    "# 그리드 서치 학습\n",
    "from sklearn import svm \n",
    "from sklearn.model_selection import StratifiedKFold\n",
    "from sklearn.model_selection import GridSearchCV\n",
    "\n",
    "param_grid= {'kernel': ('linear', 'rbf'),\n",
    "            'C': [0.5, 1, 10, 100]}\n",
    "kfold = StratifiedKFold(n_splits=5, shuffle=True, random_state=0)\n",
    "svc = svm.SVC(random_state=0)\n",
    "grid_cv = GridSearchCV(svc, param_grid, cv=kfold, scoring='accuracy')\n",
    "grid_cv.fit(X_tn_std, y_tn)"
   ]
  },
  {
   "cell_type": "code",
   "execution_count": 6,
   "metadata": {},
   "outputs": [
    {
     "data": {
      "text/plain": [
       "{'mean_fit_time': array([0.00160146, 0.00100083, 0.00060053, 0.00100093, 0.00060053,\n",
       "        0.00060043, 0.00100088, 0.00080066]),\n",
       " 'std_fit_time': array([1.74518899e-03, 9.53674316e-08, 4.90329667e-04, 1.78416128e-07,\n",
       "        4.90329667e-04, 4.90251785e-04, 2.13248060e-07, 4.00328647e-04]),\n",
       " 'mean_score_time': array([0.00020018, 0.00020018, 0.00040035, 0.00020018, 0.00020018,\n",
       "        0.00040045, 0.        , 0.00040045]),\n",
       " 'std_score_time': array([0.00040035, 0.00040035, 0.00049033, 0.00040035, 0.00040035,\n",
       "        0.00049045, 0.        , 0.00049045]),\n",
       " 'param_C': masked_array(data=[0.5, 0.5, 1, 1, 10, 10, 100, 100],\n",
       "              mask=[False, False, False, False, False, False, False, False],\n",
       "        fill_value='?',\n",
       "             dtype=object),\n",
       " 'param_kernel': masked_array(data=['linear', 'rbf', 'linear', 'rbf', 'linear', 'rbf',\n",
       "                    'linear', 'rbf'],\n",
       "              mask=[False, False, False, False, False, False, False, False],\n",
       "        fill_value='?',\n",
       "             dtype=object),\n",
       " 'params': [{'C': 0.5, 'kernel': 'linear'},\n",
       "  {'C': 0.5, 'kernel': 'rbf'},\n",
       "  {'C': 1, 'kernel': 'linear'},\n",
       "  {'C': 1, 'kernel': 'rbf'},\n",
       "  {'C': 10, 'kernel': 'linear'},\n",
       "  {'C': 10, 'kernel': 'rbf'},\n",
       "  {'C': 100, 'kernel': 'linear'},\n",
       "  {'C': 100, 'kernel': 'rbf'}],\n",
       " 'split0_test_score': array([0.88888889, 0.96296296, 0.88888889, 0.92592593, 0.88888889,\n",
       "        0.92592593, 0.88888889, 0.92592593]),\n",
       " 'split1_test_score': array([0.96296296, 1.        , 0.96296296, 0.96296296, 0.96296296,\n",
       "        0.96296296, 0.96296296, 0.96296296]),\n",
       " 'split2_test_score': array([0.92592593, 0.96296296, 0.92592593, 0.96296296, 0.92592593,\n",
       "        0.96296296, 0.92592593, 0.96296296]),\n",
       " 'split3_test_score': array([1.        , 0.96153846, 1.        , 0.96153846, 1.        ,\n",
       "        0.96153846, 1.        , 0.96153846]),\n",
       " 'split4_test_score': array([0.84615385, 1.        , 0.84615385, 1.        , 0.84615385,\n",
       "        1.        , 0.84615385, 1.        ]),\n",
       " 'mean_test_score': array([0.92478632, 0.97749288, 0.92478632, 0.96267806, 0.92478632,\n",
       "        0.96267806, 0.92478632, 0.96267806]),\n",
       " 'std_test_score': array([0.05401397, 0.01838435, 0.05401397, 0.02343121, 0.05401397,\n",
       "        0.02343121, 0.05401397, 0.02343121]),\n",
       " 'rank_test_score': array([5, 1, 5, 2, 5, 2, 5, 2])}"
      ]
     },
     "execution_count": 6,
     "metadata": {},
     "output_type": "execute_result"
    }
   ],
   "source": [
    "# 그리드 서치 결과 확인\n",
    "grid_cv.cv_results_"
   ]
  },
  {
   "cell_type": "code",
   "execution_count": 7,
   "metadata": {},
   "outputs": [
    {
     "data": {
      "text/html": [
       "<div>\n",
       "<style scoped>\n",
       "    .dataframe tbody tr th:only-of-type {\n",
       "        vertical-align: middle;\n",
       "    }\n",
       "\n",
       "    .dataframe tbody tr th {\n",
       "        vertical-align: top;\n",
       "    }\n",
       "\n",
       "    .dataframe thead th {\n",
       "        text-align: right;\n",
       "    }\n",
       "</style>\n",
       "<table border=\"1\" class=\"dataframe\">\n",
       "  <thead>\n",
       "    <tr style=\"text-align: right;\">\n",
       "      <th></th>\n",
       "      <th>0</th>\n",
       "      <th>1</th>\n",
       "      <th>2</th>\n",
       "      <th>3</th>\n",
       "      <th>4</th>\n",
       "      <th>5</th>\n",
       "      <th>6</th>\n",
       "      <th>7</th>\n",
       "    </tr>\n",
       "  </thead>\n",
       "  <tbody>\n",
       "    <tr>\n",
       "      <th>mean_fit_time</th>\n",
       "      <td>0.001601</td>\n",
       "      <td>0.001001</td>\n",
       "      <td>0.000601</td>\n",
       "      <td>0.001001</td>\n",
       "      <td>0.000601</td>\n",
       "      <td>0.0006</td>\n",
       "      <td>0.001001</td>\n",
       "      <td>0.000801</td>\n",
       "    </tr>\n",
       "    <tr>\n",
       "      <th>std_fit_time</th>\n",
       "      <td>0.001745</td>\n",
       "      <td>0.0</td>\n",
       "      <td>0.00049</td>\n",
       "      <td>0.0</td>\n",
       "      <td>0.00049</td>\n",
       "      <td>0.00049</td>\n",
       "      <td>0.0</td>\n",
       "      <td>0.0004</td>\n",
       "    </tr>\n",
       "    <tr>\n",
       "      <th>mean_score_time</th>\n",
       "      <td>0.0002</td>\n",
       "      <td>0.0002</td>\n",
       "      <td>0.0004</td>\n",
       "      <td>0.0002</td>\n",
       "      <td>0.0002</td>\n",
       "      <td>0.0004</td>\n",
       "      <td>0.0</td>\n",
       "      <td>0.0004</td>\n",
       "    </tr>\n",
       "    <tr>\n",
       "      <th>std_score_time</th>\n",
       "      <td>0.0004</td>\n",
       "      <td>0.0004</td>\n",
       "      <td>0.00049</td>\n",
       "      <td>0.0004</td>\n",
       "      <td>0.0004</td>\n",
       "      <td>0.00049</td>\n",
       "      <td>0.0</td>\n",
       "      <td>0.00049</td>\n",
       "    </tr>\n",
       "    <tr>\n",
       "      <th>param_C</th>\n",
       "      <td>0.5</td>\n",
       "      <td>0.5</td>\n",
       "      <td>1</td>\n",
       "      <td>1</td>\n",
       "      <td>10</td>\n",
       "      <td>10</td>\n",
       "      <td>100</td>\n",
       "      <td>100</td>\n",
       "    </tr>\n",
       "    <tr>\n",
       "      <th>param_kernel</th>\n",
       "      <td>linear</td>\n",
       "      <td>rbf</td>\n",
       "      <td>linear</td>\n",
       "      <td>rbf</td>\n",
       "      <td>linear</td>\n",
       "      <td>rbf</td>\n",
       "      <td>linear</td>\n",
       "      <td>rbf</td>\n",
       "    </tr>\n",
       "    <tr>\n",
       "      <th>params</th>\n",
       "      <td>{'C': 0.5, 'kernel': 'linear'}</td>\n",
       "      <td>{'C': 0.5, 'kernel': 'rbf'}</td>\n",
       "      <td>{'C': 1, 'kernel': 'linear'}</td>\n",
       "      <td>{'C': 1, 'kernel': 'rbf'}</td>\n",
       "      <td>{'C': 10, 'kernel': 'linear'}</td>\n",
       "      <td>{'C': 10, 'kernel': 'rbf'}</td>\n",
       "      <td>{'C': 100, 'kernel': 'linear'}</td>\n",
       "      <td>{'C': 100, 'kernel': 'rbf'}</td>\n",
       "    </tr>\n",
       "    <tr>\n",
       "      <th>split0_test_score</th>\n",
       "      <td>0.888889</td>\n",
       "      <td>0.962963</td>\n",
       "      <td>0.888889</td>\n",
       "      <td>0.925926</td>\n",
       "      <td>0.888889</td>\n",
       "      <td>0.925926</td>\n",
       "      <td>0.888889</td>\n",
       "      <td>0.925926</td>\n",
       "    </tr>\n",
       "    <tr>\n",
       "      <th>split1_test_score</th>\n",
       "      <td>0.962963</td>\n",
       "      <td>1.0</td>\n",
       "      <td>0.962963</td>\n",
       "      <td>0.962963</td>\n",
       "      <td>0.962963</td>\n",
       "      <td>0.962963</td>\n",
       "      <td>0.962963</td>\n",
       "      <td>0.962963</td>\n",
       "    </tr>\n",
       "    <tr>\n",
       "      <th>split2_test_score</th>\n",
       "      <td>0.925926</td>\n",
       "      <td>0.962963</td>\n",
       "      <td>0.925926</td>\n",
       "      <td>0.962963</td>\n",
       "      <td>0.925926</td>\n",
       "      <td>0.962963</td>\n",
       "      <td>0.925926</td>\n",
       "      <td>0.962963</td>\n",
       "    </tr>\n",
       "    <tr>\n",
       "      <th>split3_test_score</th>\n",
       "      <td>1.0</td>\n",
       "      <td>0.961538</td>\n",
       "      <td>1.0</td>\n",
       "      <td>0.961538</td>\n",
       "      <td>1.0</td>\n",
       "      <td>0.961538</td>\n",
       "      <td>1.0</td>\n",
       "      <td>0.961538</td>\n",
       "    </tr>\n",
       "    <tr>\n",
       "      <th>split4_test_score</th>\n",
       "      <td>0.846154</td>\n",
       "      <td>1.0</td>\n",
       "      <td>0.846154</td>\n",
       "      <td>1.0</td>\n",
       "      <td>0.846154</td>\n",
       "      <td>1.0</td>\n",
       "      <td>0.846154</td>\n",
       "      <td>1.0</td>\n",
       "    </tr>\n",
       "    <tr>\n",
       "      <th>mean_test_score</th>\n",
       "      <td>0.924786</td>\n",
       "      <td>0.977493</td>\n",
       "      <td>0.924786</td>\n",
       "      <td>0.962678</td>\n",
       "      <td>0.924786</td>\n",
       "      <td>0.962678</td>\n",
       "      <td>0.924786</td>\n",
       "      <td>0.962678</td>\n",
       "    </tr>\n",
       "    <tr>\n",
       "      <th>std_test_score</th>\n",
       "      <td>0.054014</td>\n",
       "      <td>0.018384</td>\n",
       "      <td>0.054014</td>\n",
       "      <td>0.023431</td>\n",
       "      <td>0.054014</td>\n",
       "      <td>0.023431</td>\n",
       "      <td>0.054014</td>\n",
       "      <td>0.023431</td>\n",
       "    </tr>\n",
       "    <tr>\n",
       "      <th>rank_test_score</th>\n",
       "      <td>5</td>\n",
       "      <td>1</td>\n",
       "      <td>5</td>\n",
       "      <td>2</td>\n",
       "      <td>5</td>\n",
       "      <td>2</td>\n",
       "      <td>5</td>\n",
       "      <td>2</td>\n",
       "    </tr>\n",
       "  </tbody>\n",
       "</table>\n",
       "</div>"
      ],
      "text/plain": [
       "                                                0  \\\n",
       "mean_fit_time                            0.001601   \n",
       "std_fit_time                             0.001745   \n",
       "mean_score_time                            0.0002   \n",
       "std_score_time                             0.0004   \n",
       "param_C                                       0.5   \n",
       "param_kernel                               linear   \n",
       "params             {'C': 0.5, 'kernel': 'linear'}   \n",
       "split0_test_score                        0.888889   \n",
       "split1_test_score                        0.962963   \n",
       "split2_test_score                        0.925926   \n",
       "split3_test_score                             1.0   \n",
       "split4_test_score                        0.846154   \n",
       "mean_test_score                          0.924786   \n",
       "std_test_score                           0.054014   \n",
       "rank_test_score                                 5   \n",
       "\n",
       "                                             1                             2  \\\n",
       "mean_fit_time                         0.001001                      0.000601   \n",
       "std_fit_time                               0.0                       0.00049   \n",
       "mean_score_time                         0.0002                        0.0004   \n",
       "std_score_time                          0.0004                       0.00049   \n",
       "param_C                                    0.5                             1   \n",
       "param_kernel                               rbf                        linear   \n",
       "params             {'C': 0.5, 'kernel': 'rbf'}  {'C': 1, 'kernel': 'linear'}   \n",
       "split0_test_score                     0.962963                      0.888889   \n",
       "split1_test_score                          1.0                      0.962963   \n",
       "split2_test_score                     0.962963                      0.925926   \n",
       "split3_test_score                     0.961538                           1.0   \n",
       "split4_test_score                          1.0                      0.846154   \n",
       "mean_test_score                       0.977493                      0.924786   \n",
       "std_test_score                        0.018384                      0.054014   \n",
       "rank_test_score                              1                             5   \n",
       "\n",
       "                                           3                              4  \\\n",
       "mean_fit_time                       0.001001                       0.000601   \n",
       "std_fit_time                             0.0                        0.00049   \n",
       "mean_score_time                       0.0002                         0.0002   \n",
       "std_score_time                        0.0004                         0.0004   \n",
       "param_C                                    1                             10   \n",
       "param_kernel                             rbf                         linear   \n",
       "params             {'C': 1, 'kernel': 'rbf'}  {'C': 10, 'kernel': 'linear'}   \n",
       "split0_test_score                   0.925926                       0.888889   \n",
       "split1_test_score                   0.962963                       0.962963   \n",
       "split2_test_score                   0.962963                       0.925926   \n",
       "split3_test_score                   0.961538                            1.0   \n",
       "split4_test_score                        1.0                       0.846154   \n",
       "mean_test_score                     0.962678                       0.924786   \n",
       "std_test_score                      0.023431                       0.054014   \n",
       "rank_test_score                            2                              5   \n",
       "\n",
       "                                            5                               6  \\\n",
       "mean_fit_time                          0.0006                        0.001001   \n",
       "std_fit_time                          0.00049                             0.0   \n",
       "mean_score_time                        0.0004                             0.0   \n",
       "std_score_time                        0.00049                             0.0   \n",
       "param_C                                    10                             100   \n",
       "param_kernel                              rbf                          linear   \n",
       "params             {'C': 10, 'kernel': 'rbf'}  {'C': 100, 'kernel': 'linear'}   \n",
       "split0_test_score                    0.925926                        0.888889   \n",
       "split1_test_score                    0.962963                        0.962963   \n",
       "split2_test_score                    0.962963                        0.925926   \n",
       "split3_test_score                    0.961538                             1.0   \n",
       "split4_test_score                         1.0                        0.846154   \n",
       "mean_test_score                      0.962678                        0.924786   \n",
       "std_test_score                       0.023431                        0.054014   \n",
       "rank_test_score                             2                               5   \n",
       "\n",
       "                                             7  \n",
       "mean_fit_time                         0.000801  \n",
       "std_fit_time                            0.0004  \n",
       "mean_score_time                         0.0004  \n",
       "std_score_time                         0.00049  \n",
       "param_C                                    100  \n",
       "param_kernel                               rbf  \n",
       "params             {'C': 100, 'kernel': 'rbf'}  \n",
       "split0_test_score                     0.925926  \n",
       "split1_test_score                     0.962963  \n",
       "split2_test_score                     0.962963  \n",
       "split3_test_score                     0.961538  \n",
       "split4_test_score                          1.0  \n",
       "mean_test_score                       0.962678  \n",
       "std_test_score                        0.023431  \n",
       "rank_test_score                              2  "
      ]
     },
     "execution_count": 7,
     "metadata": {},
     "output_type": "execute_result"
    }
   ],
   "source": [
    "# 그리드 서치 결과 학인(데이터프레임)\n",
    "import numpy as np\n",
    "import pandas as pd\n",
    "\n",
    "np.transpose(pd.DataFrame(grid_cv.cv_results_))"
   ]
  },
  {
   "cell_type": "code",
   "execution_count": 8,
   "metadata": {},
   "outputs": [
    {
     "data": {
      "text/plain": [
       "0.9774928774928775"
      ]
     },
     "execution_count": 8,
     "metadata": {},
     "output_type": "execute_result"
    }
   ],
   "source": [
    "# 베스트 스코어\n",
    "grid_cv.best_score_"
   ]
  },
  {
   "cell_type": "code",
   "execution_count": 9,
   "metadata": {},
   "outputs": [
    {
     "data": {
      "text/plain": [
       "{'C': 0.5, 'kernel': 'rbf'}"
      ]
     },
     "execution_count": 9,
     "metadata": {},
     "output_type": "execute_result"
    }
   ],
   "source": [
    "# 베스트 하이퍼파라미터\n",
    "grid_cv.best_params_"
   ]
  },
  {
   "cell_type": "code",
   "execution_count": 10,
   "metadata": {},
   "outputs": [
    {
     "name": "stdout",
     "output_type": "stream",
     "text": [
      "SVC(C=0.5, random_state=0)\n"
     ]
    }
   ],
   "source": [
    "# 최종 모형\n",
    "clf = grid_cv.best_estimator_\n",
    "print(clf)"
   ]
  },
  {
   "cell_type": "code",
   "execution_count": 11,
   "metadata": {},
   "outputs": [
    {
     "data": {
      "text/plain": [
       "{'fit_time': array([0.00100136, 0.00100136, 0.002002  , 0.00100112, 0.00100064]),\n",
       " 'score_time': array([0.00200129, 0.00100064, 0.00200152, 0.002002  , 0.00200152]),\n",
       " 'test_accuracy': array([0.96296296, 1.        , 0.96296296, 0.96153846, 1.        ]),\n",
       " 'test_precision_macro': array([0.96296296, 1.        , 0.96969697, 0.96969697, 1.        ]),\n",
       " 'test_recall_macro': array([0.96666667, 1.        , 0.96296296, 0.95833333, 1.        ]),\n",
       " 'test_f1_macro': array([0.9628483 , 1.        , 0.96451914, 0.96190476, 1.        ])}"
      ]
     },
     "execution_count": 11,
     "metadata": {},
     "output_type": "execute_result"
    }
   ],
   "source": [
    "# 크로스 밸리데이션 스코어 확인(1)\n",
    "from sklearn.model_selection import cross_validate\n",
    "\n",
    "metrics = ['accuracy', 'precision_macro', 'recall_macro', 'f1_macro']\n",
    "cv_scores = cross_validate(clf, X_tn_std, y_tn, \n",
    "                           cv=kfold, scoring=metrics)\n",
    "cv_scores"
   ]
  },
  {
   "cell_type": "code",
   "execution_count": 12,
   "metadata": {},
   "outputs": [
    {
     "name": "stdout",
     "output_type": "stream",
     "text": [
      "[0.96296296 1.         0.96296296 0.96153846 1.        ]\n",
      "0.9774928774928775\n",
      "0.01838434849561446\n"
     ]
    }
   ],
   "source": [
    "# 크로스 밸리데이션 스코어 확인(2)\n",
    "from sklearn.model_selection import cross_val_score\n",
    "\n",
    "cv_score = cross_val_score(clf, X_tn_std, y_tn, \n",
    "                         cv=kfold, scoring='accuracy')\n",
    "print(cv_score)\n",
    "print(cv_score.mean())\n",
    "print(cv_score.std())"
   ]
  },
  {
   "cell_type": "code",
   "execution_count": 13,
   "metadata": {},
   "outputs": [
    {
     "name": "stdout",
     "output_type": "stream",
     "text": [
      "[0 2 1 0 1 1 0 2 1 1 2 2 0 1 2 1 0 0 1 0 1 0 0 1 1 1 1 1 1 2 0 0 1 0 0 0 2\n",
      " 1 1 2 0 0 1 1 1]\n"
     ]
    }
   ],
   "source": [
    "# 예측\n",
    "pred_svm = clf.predict(X_te_std)\n",
    "print(pred_svm)"
   ]
  },
  {
   "cell_type": "code",
   "execution_count": 14,
   "metadata": {},
   "outputs": [
    {
     "name": "stdout",
     "output_type": "stream",
     "text": [
      "1.0\n"
     ]
    }
   ],
   "source": [
    "# 정확도\n",
    "from sklearn.metrics import accuracy_score\n",
    "\n",
    "accuracy = accuracy_score(y_te, pred_svm)\n",
    "print(accuracy)"
   ]
  },
  {
   "cell_type": "code",
   "execution_count": 15,
   "metadata": {},
   "outputs": [
    {
     "name": "stdout",
     "output_type": "stream",
     "text": [
      "[[16  0  0]\n",
      " [ 0 21  0]\n",
      " [ 0  0  8]]\n"
     ]
    }
   ],
   "source": [
    "# confusion matrix 확인 \n",
    "from sklearn.metrics import confusion_matrix\n",
    "\n",
    "conf_matrix = confusion_matrix(y_te, pred_svm)\n",
    "print(conf_matrix)"
   ]
  },
  {
   "cell_type": "code",
   "execution_count": 16,
   "metadata": {},
   "outputs": [
    {
     "name": "stdout",
     "output_type": "stream",
     "text": [
      "              precision    recall  f1-score   support\n",
      "\n",
      "           0       1.00      1.00      1.00        16\n",
      "           1       1.00      1.00      1.00        21\n",
      "           2       1.00      1.00      1.00         8\n",
      "\n",
      "    accuracy                           1.00        45\n",
      "   macro avg       1.00      1.00      1.00        45\n",
      "weighted avg       1.00      1.00      1.00        45\n",
      "\n"
     ]
    }
   ],
   "source": [
    "# 분류 레포트 확인\n",
    "from sklearn.metrics import classification_report\n",
    "\n",
    "class_report = classification_report(y_te, pred_svm)\n",
    "print(class_report)"
   ]
  },
  {
   "cell_type": "markdown",
   "metadata": {},
   "source": [
    "# 통합코드"
   ]
  },
  {
   "cell_type": "code",
   "execution_count": 17,
   "metadata": {
    "scrolled": false
   },
   "outputs": [
    {
     "name": "stdout",
     "output_type": "stream",
     "text": [
      "{'mean_fit_time': array([0.0008008 , 0.00080075, 0.00060062, 0.00100088, 0.00040035,\n",
      "       0.00060058, 0.00060048, 0.00100098]), 'std_fit_time': array([4.00400233e-04, 4.00376359e-04, 4.90407542e-04, 2.61174468e-07,\n",
      "       4.90329667e-04, 4.90368586e-04, 4.90290718e-04, 2.43140197e-07]), 'mean_score_time': array([0.0004005 , 0.00060043, 0.00020013, 0.00040035, 0.0004004 ,\n",
      "       0.00040026, 0.00020022, 0.00020013]), 'std_score_time': array([0.0004905 , 0.00049025, 0.00040026, 0.00049033, 0.00049039,\n",
      "       0.00049021, 0.00040045, 0.00040026]), 'param_C': masked_array(data=[0.5, 0.5, 1, 1, 10, 10, 100, 100],\n",
      "             mask=[False, False, False, False, False, False, False, False],\n",
      "       fill_value='?',\n",
      "            dtype=object), 'param_kernel': masked_array(data=['linear', 'rbf', 'linear', 'rbf', 'linear', 'rbf',\n",
      "                   'linear', 'rbf'],\n",
      "             mask=[False, False, False, False, False, False, False, False],\n",
      "       fill_value='?',\n",
      "            dtype=object), 'params': [{'C': 0.5, 'kernel': 'linear'}, {'C': 0.5, 'kernel': 'rbf'}, {'C': 1, 'kernel': 'linear'}, {'C': 1, 'kernel': 'rbf'}, {'C': 10, 'kernel': 'linear'}, {'C': 10, 'kernel': 'rbf'}, {'C': 100, 'kernel': 'linear'}, {'C': 100, 'kernel': 'rbf'}], 'split0_test_score': array([0.88888889, 0.96296296, 0.88888889, 0.92592593, 0.88888889,\n",
      "       0.92592593, 0.88888889, 0.92592593]), 'split1_test_score': array([0.96296296, 1.        , 0.96296296, 0.96296296, 0.96296296,\n",
      "       0.96296296, 0.96296296, 0.96296296]), 'split2_test_score': array([0.92592593, 0.96296296, 0.92592593, 0.96296296, 0.92592593,\n",
      "       0.96296296, 0.92592593, 0.96296296]), 'split3_test_score': array([1.        , 0.96153846, 1.        , 0.96153846, 1.        ,\n",
      "       0.96153846, 1.        , 0.96153846]), 'split4_test_score': array([0.84615385, 1.        , 0.84615385, 1.        , 0.84615385,\n",
      "       1.        , 0.84615385, 1.        ]), 'mean_test_score': array([0.92478632, 0.97749288, 0.92478632, 0.96267806, 0.92478632,\n",
      "       0.96267806, 0.92478632, 0.96267806]), 'std_test_score': array([0.05401397, 0.01838435, 0.05401397, 0.02343121, 0.05401397,\n",
      "       0.02343121, 0.05401397, 0.02343121]), 'rank_test_score': array([5, 1, 5, 2, 5, 2, 5, 2])}\n",
      "SVC(C=0.5, random_state=0)\n",
      "[0.96296296 1.         0.96296296 0.96153846 1.        ]\n",
      "0.9774928774928775\n",
      "0.01838434849561446\n",
      "[0 2 1 0 1 1 0 2 1 1 2 2 0 1 2 1 0 0 1 0 1 0 0 1 1 1 1 1 1 2 0 0 1 0 0 0 2\n",
      " 1 1 2 0 0 1 1 1]\n",
      "1.0\n",
      "[[16  0  0]\n",
      " [ 0 21  0]\n",
      " [ 0  0  8]]\n",
      "              precision    recall  f1-score   support\n",
      "\n",
      "           0       1.00      1.00      1.00        16\n",
      "           1       1.00      1.00      1.00        21\n",
      "           2       1.00      1.00      1.00         8\n",
      "\n",
      "    accuracy                           1.00        45\n",
      "   macro avg       1.00      1.00      1.00        45\n",
      "weighted avg       1.00      1.00      1.00        45\n",
      "\n"
     ]
    }
   ],
   "source": [
    "from sklearn import datasets\n",
    "from sklearn.model_selection import train_test_split\n",
    "from sklearn.preprocessing import StandardScaler\n",
    "from sklearn import svm \n",
    "from sklearn.model_selection import StratifiedKFold\n",
    "from sklearn.model_selection import GridSearchCV\n",
    "import numpy as np\n",
    "import pandas as pd\n",
    "from sklearn.model_selection import cross_validate\n",
    "from sklearn.metrics import accuracy_score\n",
    "from sklearn.metrics import confusion_matrix\n",
    "from sklearn.metrics import classification_report\n",
    "\n",
    "# 데이터 불러오기\n",
    "raw_wine = datasets.load_wine()\n",
    "\n",
    "# 피쳐, 타깃 데이터 지정\n",
    "X = raw_wine.data\n",
    "y = raw_wine.target\n",
    "\n",
    "# 트레이닝/테스트 데이터 분할\n",
    "X_tn, X_te, y_tn, y_te=train_test_split(X,y,random_state=0)\n",
    "\n",
    "# 데이터 표준화\n",
    "std_scale = StandardScaler()\n",
    "std_scale.fit(X_tn)\n",
    "X_tn_std = std_scale.transform(X_tn)\n",
    "X_te_std  = std_scale.transform(X_te)\n",
    "\n",
    "# 그리드 서치 학습\n",
    "param_grid= {'kernel': ('linear', 'rbf'),\n",
    "            'C': [0.5, 1, 10, 100]}\n",
    "kfold = StratifiedKFold(n_splits=5, shuffle=True, random_state=0)\n",
    "svc = svm.SVC(random_state=0)\n",
    "grid_cv = GridSearchCV(svc, param_grid, cv=kfold, scoring='accuracy')\n",
    "grid_cv.fit(X_tn_std, y_tn)\n",
    "\n",
    "# 그리드 서치 결과 확인\n",
    "print(grid_cv.cv_results_)\n",
    "np.transpose(pd.DataFrame(grid_cv.cv_results_))\n",
    "\n",
    "# 베스트 스코어\n",
    "grid_cv.best_score_\n",
    "\n",
    "# 베스트 하이퍼파라미터\n",
    "grid_cv.best_params_\n",
    "\n",
    "# 최종 모형\n",
    "clf = grid_cv.best_estimator_\n",
    "print(clf)\n",
    "\n",
    "# 크로스 밸리데이션 스코어 확인(1)\n",
    "metrics = ['accuracy', 'precision_macro', 'recall_macro', 'f1_macro']\n",
    "cv_scores = cross_validate(clf, X_tn_std, y_tn, \n",
    "                           cv=kfold, scoring=metrics)\n",
    "\n",
    "# 크로스 밸리데이션 스코어 확인(2)\n",
    "from sklearn.model_selection import cross_val_score\n",
    "\n",
    "cv_score = cross_val_score(clf, X_tn_std, y_tn, \n",
    "                         cv=kfold, scoring='accuracy')\n",
    "print(cv_score)\n",
    "print(cv_score.mean())\n",
    "print(cv_score.std())\n",
    "\n",
    "# 예측\n",
    "pred_svm = clf.predict(X_te_std)\n",
    "print(pred_svm)\n",
    "\n",
    "# 정확도\n",
    "accuracy = accuracy_score(y_te, pred_svm)\n",
    "print(accuracy)\n",
    "\n",
    "# confusion matrix 확인 \n",
    "conf_matrix = confusion_matrix(y_te, pred_svm)\n",
    "print(conf_matrix)\n",
    "\n",
    "# 분류 레포트 확인\n",
    "class_report = classification_report(y_te, pred_svm)\n",
    "print(class_report)"
   ]
  },
  {
   "cell_type": "code",
   "execution_count": null,
   "metadata": {},
   "outputs": [],
   "source": []
  }
 ],
 "metadata": {
  "kernelspec": {
   "display_name": "Python 3",
   "language": "python",
   "name": "python3"
  },
  "language_info": {
   "codemirror_mode": {
    "name": "ipython",
    "version": 3
   },
   "file_extension": ".py",
   "mimetype": "text/x-python",
   "name": "python",
   "nbconvert_exporter": "python",
   "pygments_lexer": "ipython3",
   "version": "3.8.8"
  }
 },
 "nbformat": 4,
 "nbformat_minor": 4
}
