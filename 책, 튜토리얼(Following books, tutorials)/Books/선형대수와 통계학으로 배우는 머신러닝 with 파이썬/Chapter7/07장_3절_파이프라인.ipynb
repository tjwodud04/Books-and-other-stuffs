{
 "cells": [
  {
   "cell_type": "markdown",
   "metadata": {},
   "source": [
    "# 파이프 라인"
   ]
  },
  {
   "cell_type": "code",
   "execution_count": 1,
   "metadata": {},
   "outputs": [],
   "source": [
    "from sklearn import datasets\n",
    "from sklearn.pipeline import Pipeline\n",
    "from sklearn.preprocessing import StandardScaler\n",
    "from sklearn.linear_model import LinearRegression\n",
    "from sklearn.model_selection import train_test_split\n",
    "from sklearn.metrics import mean_squared_error"
   ]
  },
  {
   "cell_type": "code",
   "execution_count": 2,
   "metadata": {},
   "outputs": [
    {
     "data": {
      "text/plain": [
       "29.5151377901976"
      ]
     },
     "execution_count": 2,
     "metadata": {},
     "output_type": "execute_result"
    }
   ],
   "source": [
    "raw_boston = datasets.load_boston()\n",
    "\n",
    "X = raw_boston.data\n",
    "y = raw_boston.target\n",
    "\n",
    "# 트레이닝 / 테스트 데이터 분할\n",
    "X_tn, X_te, y_tn, y_te = train_test_split(X,y,random_state=7)\n",
    "\n",
    "# 표준화 스케일링\n",
    "std_scale = StandardScaler()\n",
    "X_tn_std = std_scale.fit_transform(X_tn)\n",
    "X_te_std  = std_scale.transform(X_te)\n",
    "\n",
    "# 학습\n",
    "clf_linear =  LinearRegression()\n",
    "clf_linear.fit(X_tn_std, y_tn)\n",
    "\n",
    "# 예측\n",
    "pred_linear = clf_linear.predict(X_te_std)\n",
    "\n",
    "# 평가\n",
    "mean_squared_error(y_te, pred_linear)"
   ]
  },
  {
   "cell_type": "code",
   "execution_count": 3,
   "metadata": {},
   "outputs": [
    {
     "data": {
      "text/plain": [
       "29.5151377901976"
      ]
     },
     "execution_count": 3,
     "metadata": {},
     "output_type": "execute_result"
    }
   ],
   "source": [
    "# 트레이닝 / 테스트 데이터 분할\n",
    "X_tn, X_te, y_tn, y_te = train_test_split(X,y,random_state=7)\n",
    "\n",
    "# 파이프라인\n",
    "linear_pipline = Pipeline([\n",
    "    ('scaler',StandardScaler()), \n",
    "    ('linear_regression', LinearRegression()) \n",
    "])\n",
    "\n",
    "# 학습\n",
    "linear_pipline.fit(X_tn, y_tn)\n",
    "\n",
    "# 예측\n",
    "pred_linear = linear_pipline.predict(X_te)\n",
    "\n",
    "# 평가\n",
    "mean_squared_error(y_te, pred_linear)"
   ]
  },
  {
   "cell_type": "code",
   "execution_count": null,
   "metadata": {},
   "outputs": [],
   "source": []
  }
 ],
 "metadata": {
  "kernelspec": {
   "display_name": "Python 3",
   "language": "python",
   "name": "python3"
  },
  "language_info": {
   "codemirror_mode": {
    "name": "ipython",
    "version": 3
   },
   "file_extension": ".py",
   "mimetype": "text/x-python",
   "name": "python",
   "nbconvert_exporter": "python",
   "pygments_lexer": "ipython3",
   "version": "3.8.8"
  }
 },
 "nbformat": 4,
 "nbformat_minor": 4
}
