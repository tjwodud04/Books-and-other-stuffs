{
 "cells": [
  {
   "cell_type": "markdown",
   "metadata": {},
   "source": [
    "# 개별 코드"
   ]
  },
  {
   "cell_type": "code",
   "execution_count": 1,
   "metadata": {},
   "outputs": [],
   "source": [
    "# 랜덤 시드 설정\n",
    "import numpy as np\n",
    "import tensorflow as tf\n",
    "\n",
    "np.random.seed(0)\n",
    "tf.random.set_seed(0)"
   ]
  },
  {
   "cell_type": "code",
   "execution_count": 2,
   "metadata": {},
   "outputs": [],
   "source": [
    "# 데이터 불러오기\n",
    "from sklearn import datasets\n",
    "\n",
    "raw_wine = datasets.load_wine()"
   ]
  },
  {
   "cell_type": "code",
   "execution_count": 3,
   "metadata": {},
   "outputs": [],
   "source": [
    "# 피쳐, 타겟 데이터 지정\n",
    "X = raw_wine.data\n",
    "y = raw_wine.target"
   ]
  },
  {
   "cell_type": "code",
   "execution_count": 4,
   "metadata": {},
   "outputs": [
    {
     "name": "stdout",
     "output_type": "stream",
     "text": [
      "(178, 13)\n"
     ]
    }
   ],
   "source": [
    "# 피쳐 데이터 차원 확인\n",
    "print(X.shape)"
   ]
  },
  {
   "cell_type": "code",
   "execution_count": 5,
   "metadata": {},
   "outputs": [
    {
     "name": "stdout",
     "output_type": "stream",
     "text": [
      "{0, 1, 2}\n"
     ]
    }
   ],
   "source": [
    "# 타겟 데이터 종류 확인\n",
    "print(set(y))"
   ]
  },
  {
   "cell_type": "code",
   "execution_count": 6,
   "metadata": {},
   "outputs": [
    {
     "name": "stdout",
     "output_type": "stream",
     "text": [
      "[[1. 0. 0.]\n",
      " [1. 0. 0.]\n",
      " [1. 0. 0.]\n",
      " [1. 0. 0.]\n",
      " [1. 0. 0.]\n",
      " [1. 0. 0.]\n",
      " [1. 0. 0.]\n",
      " [1. 0. 0.]\n",
      " [1. 0. 0.]\n",
      " [1. 0. 0.]\n",
      " [1. 0. 0.]\n",
      " [1. 0. 0.]\n",
      " [1. 0. 0.]\n",
      " [1. 0. 0.]\n",
      " [1. 0. 0.]\n",
      " [1. 0. 0.]\n",
      " [1. 0. 0.]\n",
      " [1. 0. 0.]\n",
      " [1. 0. 0.]\n",
      " [1. 0. 0.]\n",
      " [1. 0. 0.]\n",
      " [1. 0. 0.]\n",
      " [1. 0. 0.]\n",
      " [1. 0. 0.]\n",
      " [1. 0. 0.]\n",
      " [1. 0. 0.]\n",
      " [1. 0. 0.]\n",
      " [1. 0. 0.]\n",
      " [1. 0. 0.]\n",
      " [1. 0. 0.]\n",
      " [1. 0. 0.]\n",
      " [1. 0. 0.]\n",
      " [1. 0. 0.]\n",
      " [1. 0. 0.]\n",
      " [1. 0. 0.]\n",
      " [1. 0. 0.]\n",
      " [1. 0. 0.]\n",
      " [1. 0. 0.]\n",
      " [1. 0. 0.]\n",
      " [1. 0. 0.]\n",
      " [1. 0. 0.]\n",
      " [1. 0. 0.]\n",
      " [1. 0. 0.]\n",
      " [1. 0. 0.]\n",
      " [1. 0. 0.]\n",
      " [1. 0. 0.]\n",
      " [1. 0. 0.]\n",
      " [1. 0. 0.]\n",
      " [1. 0. 0.]\n",
      " [1. 0. 0.]\n",
      " [1. 0. 0.]\n",
      " [1. 0. 0.]\n",
      " [1. 0. 0.]\n",
      " [1. 0. 0.]\n",
      " [1. 0. 0.]\n",
      " [1. 0. 0.]\n",
      " [1. 0. 0.]\n",
      " [1. 0. 0.]\n",
      " [1. 0. 0.]\n",
      " [0. 1. 0.]\n",
      " [0. 1. 0.]\n",
      " [0. 1. 0.]\n",
      " [0. 1. 0.]\n",
      " [0. 1. 0.]\n",
      " [0. 1. 0.]\n",
      " [0. 1. 0.]\n",
      " [0. 1. 0.]\n",
      " [0. 1. 0.]\n",
      " [0. 1. 0.]\n",
      " [0. 1. 0.]\n",
      " [0. 1. 0.]\n",
      " [0. 1. 0.]\n",
      " [0. 1. 0.]\n",
      " [0. 1. 0.]\n",
      " [0. 1. 0.]\n",
      " [0. 1. 0.]\n",
      " [0. 1. 0.]\n",
      " [0. 1. 0.]\n",
      " [0. 1. 0.]\n",
      " [0. 1. 0.]\n",
      " [0. 1. 0.]\n",
      " [0. 1. 0.]\n",
      " [0. 1. 0.]\n",
      " [0. 1. 0.]\n",
      " [0. 1. 0.]\n",
      " [0. 1. 0.]\n",
      " [0. 1. 0.]\n",
      " [0. 1. 0.]\n",
      " [0. 1. 0.]\n",
      " [0. 1. 0.]\n",
      " [0. 1. 0.]\n",
      " [0. 1. 0.]\n",
      " [0. 1. 0.]\n",
      " [0. 1. 0.]\n",
      " [0. 1. 0.]\n",
      " [0. 1. 0.]\n",
      " [0. 1. 0.]\n",
      " [0. 1. 0.]\n",
      " [0. 1. 0.]\n",
      " [0. 1. 0.]\n",
      " [0. 1. 0.]\n",
      " [0. 1. 0.]\n",
      " [0. 1. 0.]\n",
      " [0. 1. 0.]\n",
      " [0. 1. 0.]\n",
      " [0. 1. 0.]\n",
      " [0. 1. 0.]\n",
      " [0. 1. 0.]\n",
      " [0. 1. 0.]\n",
      " [0. 1. 0.]\n",
      " [0. 1. 0.]\n",
      " [0. 1. 0.]\n",
      " [0. 1. 0.]\n",
      " [0. 1. 0.]\n",
      " [0. 1. 0.]\n",
      " [0. 1. 0.]\n",
      " [0. 1. 0.]\n",
      " [0. 1. 0.]\n",
      " [0. 1. 0.]\n",
      " [0. 1. 0.]\n",
      " [0. 1. 0.]\n",
      " [0. 1. 0.]\n",
      " [0. 1. 0.]\n",
      " [0. 1. 0.]\n",
      " [0. 1. 0.]\n",
      " [0. 1. 0.]\n",
      " [0. 1. 0.]\n",
      " [0. 1. 0.]\n",
      " [0. 1. 0.]\n",
      " [0. 1. 0.]\n",
      " [0. 0. 1.]\n",
      " [0. 0. 1.]\n",
      " [0. 0. 1.]\n",
      " [0. 0. 1.]\n",
      " [0. 0. 1.]\n",
      " [0. 0. 1.]\n",
      " [0. 0. 1.]\n",
      " [0. 0. 1.]\n",
      " [0. 0. 1.]\n",
      " [0. 0. 1.]\n",
      " [0. 0. 1.]\n",
      " [0. 0. 1.]\n",
      " [0. 0. 1.]\n",
      " [0. 0. 1.]\n",
      " [0. 0. 1.]\n",
      " [0. 0. 1.]\n",
      " [0. 0. 1.]\n",
      " [0. 0. 1.]\n",
      " [0. 0. 1.]\n",
      " [0. 0. 1.]\n",
      " [0. 0. 1.]\n",
      " [0. 0. 1.]\n",
      " [0. 0. 1.]\n",
      " [0. 0. 1.]\n",
      " [0. 0. 1.]\n",
      " [0. 0. 1.]\n",
      " [0. 0. 1.]\n",
      " [0. 0. 1.]\n",
      " [0. 0. 1.]\n",
      " [0. 0. 1.]\n",
      " [0. 0. 1.]\n",
      " [0. 0. 1.]\n",
      " [0. 0. 1.]\n",
      " [0. 0. 1.]\n",
      " [0. 0. 1.]\n",
      " [0. 0. 1.]\n",
      " [0. 0. 1.]\n",
      " [0. 0. 1.]\n",
      " [0. 0. 1.]\n",
      " [0. 0. 1.]\n",
      " [0. 0. 1.]\n",
      " [0. 0. 1.]\n",
      " [0. 0. 1.]\n",
      " [0. 0. 1.]\n",
      " [0. 0. 1.]\n",
      " [0. 0. 1.]\n",
      " [0. 0. 1.]\n",
      " [0. 0. 1.]]\n"
     ]
    }
   ],
   "source": [
    "# 타겟 데이터 원-핫 인코딩\n",
    "from tensorflow.keras.utils import to_categorical\n",
    "\n",
    "y_hot = to_categorical(y) \n",
    "print(y_hot)"
   ]
  },
  {
   "cell_type": "code",
   "execution_count": 7,
   "metadata": {},
   "outputs": [],
   "source": [
    "# 트레이닝/테스트 데이터 분할\n",
    "from sklearn.model_selection import train_test_split\n",
    "\n",
    "X_tn, X_te, y_tn, y_te=train_test_split(X, y_hot, \n",
    "                                        random_state=0)"
   ]
  },
  {
   "cell_type": "code",
   "execution_count": 8,
   "metadata": {},
   "outputs": [],
   "source": [
    "# 신경망 생성\n",
    "from tensorflow.keras.models import Sequential\n",
    "from tensorflow.keras.layers import Dense\n",
    "from tensorflow.keras.layers import BatchNormalization\n",
    "from tensorflow.keras.layers import Activation\n",
    "\n",
    "n_feat = X_tn.shape[1]\n",
    "n_class = len(set(y))\n",
    "epo = 30\n",
    "\n",
    "model = Sequential()\n",
    "model.add(Dense(20, input_dim=n_feat))\n",
    "model.add(BatchNormalization())\n",
    "model.add(Activation('relu'))\n",
    "model.add(Dense(n_class))\n",
    "model.add(Activation('softmax'))"
   ]
  },
  {
   "cell_type": "code",
   "execution_count": 9,
   "metadata": {},
   "outputs": [
    {
     "name": "stdout",
     "output_type": "stream",
     "text": [
      "Model: \"sequential\"\n",
      "_________________________________________________________________\n",
      " Layer (type)                Output Shape              Param #   \n",
      "=================================================================\n",
      " dense (Dense)               (None, 20)                280       \n",
      "                                                                 \n",
      " batch_normalization (BatchN  (None, 20)               80        \n",
      " ormalization)                                                   \n",
      "                                                                 \n",
      " activation (Activation)     (None, 20)                0         \n",
      "                                                                 \n",
      " dense_1 (Dense)             (None, 3)                 63        \n",
      "                                                                 \n",
      " activation_1 (Activation)   (None, 3)                 0         \n",
      "                                                                 \n",
      "=================================================================\n",
      "Total params: 423\n",
      "Trainable params: 383\n",
      "Non-trainable params: 40\n",
      "_________________________________________________________________\n"
     ]
    }
   ],
   "source": [
    "# 신경망 모형 구조 확인\n",
    "model.summary()"
   ]
  },
  {
   "cell_type": "code",
   "execution_count": 10,
   "metadata": {},
   "outputs": [],
   "source": [
    "# 모형 컴파일\n",
    "model.compile(loss='categorical_crossentropy', \n",
    "              optimizer='adam', \n",
    "              metrics=['accuracy'])"
   ]
  },
  {
   "cell_type": "code",
   "execution_count": 11,
   "metadata": {},
   "outputs": [
    {
     "name": "stdout",
     "output_type": "stream",
     "text": [
      "Epoch 1/30\n",
      "27/27 [==============================] - 0s 808us/step - loss: 1.9798 - accuracy: 0.3459\n",
      "Epoch 2/30\n",
      "27/27 [==============================] - 0s 693us/step - loss: 1.6155 - accuracy: 0.3835\n",
      "Epoch 3/30\n",
      "27/27 [==============================] - 0s 693us/step - loss: 1.2918 - accuracy: 0.3985\n",
      "Epoch 4/30\n",
      "27/27 [==============================] - 0s 693us/step - loss: 1.0279 - accuracy: 0.4436\n",
      "Epoch 5/30\n",
      "27/27 [==============================] - 0s 693us/step - loss: 0.9092 - accuracy: 0.5263\n",
      "Epoch 6/30\n",
      "27/27 [==============================] - 0s 693us/step - loss: 0.8728 - accuracy: 0.6015\n",
      "Epoch 7/30\n",
      "27/27 [==============================] - 0s 693us/step - loss: 0.8734 - accuracy: 0.5639\n",
      "Epoch 8/30\n",
      "27/27 [==============================] - 0s 693us/step - loss: 0.7951 - accuracy: 0.6241\n",
      "Epoch 9/30\n",
      "27/27 [==============================] - 0s 693us/step - loss: 0.8200 - accuracy: 0.5940\n",
      "Epoch 10/30\n",
      "27/27 [==============================] - 0s 654us/step - loss: 0.7862 - accuracy: 0.6165\n",
      "Epoch 11/30\n",
      "27/27 [==============================] - 0s 654us/step - loss: 0.7411 - accuracy: 0.6617\n",
      "Epoch 12/30\n",
      "27/27 [==============================] - 0s 693us/step - loss: 0.7207 - accuracy: 0.6842\n",
      "Epoch 13/30\n",
      "27/27 [==============================] - 0s 693us/step - loss: 0.7284 - accuracy: 0.6842\n",
      "Epoch 14/30\n",
      "27/27 [==============================] - 0s 693us/step - loss: 0.7209 - accuracy: 0.6992\n",
      "Epoch 15/30\n",
      "27/27 [==============================] - 0s 693us/step - loss: 0.6617 - accuracy: 0.7143\n",
      "Epoch 16/30\n",
      "27/27 [==============================] - 0s 731us/step - loss: 0.6384 - accuracy: 0.7744\n",
      "Epoch 17/30\n",
      "27/27 [==============================] - 0s 731us/step - loss: 0.6167 - accuracy: 0.7519\n",
      "Epoch 18/30\n",
      "27/27 [==============================] - 0s 770us/step - loss: 0.6318 - accuracy: 0.7519\n",
      "Epoch 19/30\n",
      "27/27 [==============================] - 0s 693us/step - loss: 0.7050 - accuracy: 0.7444\n",
      "Epoch 20/30\n",
      "27/27 [==============================] - 0s 731us/step - loss: 0.5678 - accuracy: 0.7895\n",
      "Epoch 21/30\n",
      "27/27 [==============================] - 0s 693us/step - loss: 0.5817 - accuracy: 0.7970\n",
      "Epoch 22/30\n",
      "27/27 [==============================] - 0s 693us/step - loss: 0.5672 - accuracy: 0.7669\n",
      "Epoch 23/30\n",
      "27/27 [==============================] - 0s 731us/step - loss: 0.4888 - accuracy: 0.8421\n",
      "Epoch 24/30\n",
      "27/27 [==============================] - 0s 731us/step - loss: 0.5790 - accuracy: 0.8346\n",
      "Epoch 25/30\n",
      "27/27 [==============================] - 0s 731us/step - loss: 0.5101 - accuracy: 0.8271\n",
      "Epoch 26/30\n",
      "27/27 [==============================] - 0s 693us/step - loss: 0.4760 - accuracy: 0.8271\n",
      "Epoch 27/30\n",
      "27/27 [==============================] - 0s 693us/step - loss: 0.4275 - accuracy: 0.8647\n",
      "Epoch 28/30\n",
      "27/27 [==============================] - 0s 693us/step - loss: 0.4650 - accuracy: 0.8346\n",
      "Epoch 29/30\n",
      "27/27 [==============================] - 0s 693us/step - loss: 0.4384 - accuracy: 0.8346\n",
      "Epoch 30/30\n",
      "27/27 [==============================] - 0s 693us/step - loss: 0.4621 - accuracy: 0.8421\n"
     ]
    }
   ],
   "source": [
    "# 신경망 학습\n",
    "hist = model.fit(X_tn, y_tn, epochs=epo, batch_size=5)"
   ]
  },
  {
   "cell_type": "code",
   "execution_count": 12,
   "metadata": {},
   "outputs": [
    {
     "name": "stdout",
     "output_type": "stream",
     "text": [
      "5/5 [==============================] - 0s 1ms/step - loss: 1.6785 - accuracy: 0.6541\n",
      "0.6541353464126587\n"
     ]
    }
   ],
   "source": [
    "# 트레이닝 데이터 평가\n",
    "print(model.evaluate(X_tn, y_tn)[1])"
   ]
  },
  {
   "cell_type": "code",
   "execution_count": 13,
   "metadata": {},
   "outputs": [
    {
     "name": "stdout",
     "output_type": "stream",
     "text": [
      "2/2 [==============================] - 0s 2ms/step - loss: 1.8092 - accuracy: 0.6444\n",
      "0.644444465637207\n"
     ]
    }
   ],
   "source": [
    "# 테스트 데이터 평가\n",
    "print(model.evaluate(X_te, y_te)[1])"
   ]
  },
  {
   "cell_type": "code",
   "execution_count": 14,
   "metadata": {},
   "outputs": [
    {
     "name": "stdout",
     "output_type": "stream",
     "text": [
      "[ 1  2  3  4  5  6  7  8  9 10 11 12 13 14 15 16 17 18 19 20 21 22 23 24\n",
      " 25 26 27 28 29 30]\n"
     ]
    }
   ],
   "source": [
    "import numpy as np\n",
    "\n",
    "epoch = np.arange(1,epo+1)\n",
    "print(epoch)"
   ]
  },
  {
   "cell_type": "code",
   "execution_count": 15,
   "metadata": {},
   "outputs": [
    {
     "name": "stdout",
     "output_type": "stream",
     "text": [
      "[0.3458646535873413, 0.3834586441516876, 0.39849624037742615, 0.4436090290546417, 0.5263158082962036, 0.6015037298202515, 0.5639097690582275, 0.6240601539611816, 0.5939849615097046, 0.61654132604599, 0.6616541147232056, 0.6842105388641357, 0.6842105388641357, 0.6992481350898743, 0.7142857313156128, 0.7744361162185669, 0.7518796920776367, 0.7518796920776367, 0.7443609237670898, 0.7894737124443054, 0.7969924807548523, 0.7669172883033752, 0.8421052694320679, 0.8345864415168762, 0.8270676732063293, 0.8270676732063293, 0.8646616339683533, 0.8345864415168762, 0.8345864415168762, 0.8421052694320679]\n"
     ]
    }
   ],
   "source": [
    "accuracy = hist.history['accuracy'] \n",
    "print(accuracy)"
   ]
  },
  {
   "cell_type": "code",
   "execution_count": 16,
   "metadata": {},
   "outputs": [
    {
     "name": "stdout",
     "output_type": "stream",
     "text": [
      "[1.9797742366790771, 1.6155287027359009, 1.2918163537979126, 1.0279443264007568, 0.9091539978981018, 0.8727607727050781, 0.8733513951301575, 0.7951136827468872, 0.8200011849403381, 0.7861717343330383, 0.7411368489265442, 0.7207068800926208, 0.7283986806869507, 0.720860481262207, 0.661672830581665, 0.6384365558624268, 0.6166645288467407, 0.63180011510849, 0.7049688696861267, 0.5677863955497742, 0.5816552042961121, 0.5671985745429993, 0.4888032078742981, 0.5790027379989624, 0.5100629925727844, 0.4759792983531952, 0.4275209605693817, 0.4649997353553772, 0.43843644857406616, 0.46210217475891113]\n"
     ]
    }
   ],
   "source": [
    "loss = hist.history['loss'] \n",
    "print(loss)"
   ]
  },
  {
   "cell_type": "code",
   "execution_count": 17,
   "metadata": {},
   "outputs": [
    {
     "data": {
      "image/png": "[encoded data removed]",
      "text/plain": [
       "<Figure size 432x288 with 1 Axes>"
      ]
     },
     "metadata": {
      "needs_background": "light"
     },
     "output_type": "display_data"
    }
   ],
   "source": [
    "# 정확도 학습 그래프\n",
    "import matplotlib.pyplot as plt\n",
    "\n",
    "plt.plot(epoch, accuracy, label='accuracy')\n",
    "plt.xlabel('epoch')\n",
    "plt.ylabel('accuracy')\n",
    "plt.legend()\n",
    "plt.show()"
   ]
  },
  {
   "cell_type": "code",
   "execution_count": 18,
   "metadata": {},
   "outputs": [
    {
     "data": {
      "image/png": "[encoded data removed]",
      "text/plain": [
       "<Figure size 432x288 with 1 Axes>"
      ]
     },
     "metadata": {
      "needs_background": "light"
     },
     "output_type": "display_data"
    }
   ],
   "source": [
    "# 손실 그래프\n",
    "import matplotlib.pyplot as plt\n",
    "\n",
    "plt.plot(epoch, loss,'r', label='loss')\n",
    "plt.xlabel('epoch')\n",
    "plt.ylabel('loss')\n",
    "plt.legend()\n",
    "plt.show()"
   ]
  },
  {
   "cell_type": "markdown",
   "metadata": {},
   "source": [
    "# 통합코드"
   ]
  },
  {
   "cell_type": "code",
   "execution_count": 19,
   "metadata": {},
   "outputs": [
    {
     "name": "stdout",
     "output_type": "stream",
     "text": [
      "(178, 13)\n",
      "{0, 1, 2}\n",
      "Model: \"sequential_1\"\n",
      "_________________________________________________________________\n",
      " Layer (type)                Output Shape              Param #   \n",
      "=================================================================\n",
      " dense_2 (Dense)             (None, 20)                280       \n",
      "                                                                 \n",
      " batch_normalization_1 (Batc  (None, 20)               80        \n",
      " hNormalization)                                                 \n",
      "                                                                 \n",
      " activation_2 (Activation)   (None, 20)                0         \n",
      "                                                                 \n",
      " dense_3 (Dense)             (None, 3)                 63        \n",
      "                                                                 \n",
      " activation_3 (Activation)   (None, 3)                 0         \n",
      "                                                                 \n",
      "=================================================================\n",
      "Total params: 423\n",
      "Trainable params: 383\n",
      "Non-trainable params: 40\n",
      "_________________________________________________________________\n",
      "Epoch 1/30\n",
      "27/27 [==============================] - 0s 731us/step - loss: 1.9798 - accuracy: 0.3459\n",
      "Epoch 2/30\n",
      "27/27 [==============================] - 0s 693us/step - loss: 1.6155 - accuracy: 0.3835\n",
      "Epoch 3/30\n",
      "27/27 [==============================] - 0s 693us/step - loss: 1.2918 - accuracy: 0.3985\n",
      "Epoch 4/30\n",
      "27/27 [==============================] - 0s 654us/step - loss: 1.0279 - accuracy: 0.4436\n",
      "Epoch 5/30\n",
      "27/27 [==============================] - 0s 693us/step - loss: 0.9092 - accuracy: 0.5263\n",
      "Epoch 6/30\n",
      "27/27 [==============================] - 0s 654us/step - loss: 0.8728 - accuracy: 0.6015\n",
      "Epoch 7/30\n",
      "27/27 [==============================] - 0s 654us/step - loss: 0.8734 - accuracy: 0.5639\n",
      "Epoch 8/30\n",
      "27/27 [==============================] - 0s 693us/step - loss: 0.7951 - accuracy: 0.6241\n",
      "Epoch 9/30\n",
      "27/27 [==============================] - 0s 731us/step - loss: 0.8200 - accuracy: 0.5940\n",
      "Epoch 10/30\n",
      "27/27 [==============================] - 0s 731us/step - loss: 0.7862 - accuracy: 0.6165\n",
      "Epoch 11/30\n",
      "27/27 [==============================] - 0s 731us/step - loss: 0.7411 - accuracy: 0.6617\n",
      "Epoch 12/30\n",
      "27/27 [==============================] - 0s 731us/step - loss: 0.7207 - accuracy: 0.6842\n",
      "Epoch 13/30\n",
      "27/27 [==============================] - 0s 731us/step - loss: 0.7284 - accuracy: 0.6842\n",
      "Epoch 14/30\n",
      "27/27 [==============================] - 0s 731us/step - loss: 0.7209 - accuracy: 0.6992\n",
      "Epoch 15/30\n",
      "27/27 [==============================] - 0s 693us/step - loss: 0.6617 - accuracy: 0.7143\n",
      "Epoch 16/30\n",
      "27/27 [==============================] - 0s 693us/step - loss: 0.6384 - accuracy: 0.7744\n",
      "Epoch 17/30\n",
      "27/27 [==============================] - 0s 731us/step - loss: 0.6167 - accuracy: 0.7519\n",
      "Epoch 18/30\n",
      "27/27 [==============================] - 0s 770us/step - loss: 0.6318 - accuracy: 0.7519\n",
      "Epoch 19/30\n",
      "27/27 [==============================] - 0s 731us/step - loss: 0.7050 - accuracy: 0.7444\n",
      "Epoch 20/30\n",
      "27/27 [==============================] - 0s 770us/step - loss: 0.5678 - accuracy: 0.7895\n",
      "Epoch 21/30\n",
      "27/27 [==============================] - 0s 731us/step - loss: 0.5817 - accuracy: 0.7970\n",
      "Epoch 22/30\n",
      "27/27 [==============================] - 0s 693us/step - loss: 0.5672 - accuracy: 0.7669\n",
      "Epoch 23/30\n",
      "27/27 [==============================] - 0s 731us/step - loss: 0.4888 - accuracy: 0.8421\n",
      "Epoch 24/30\n",
      "27/27 [==============================] - 0s 731us/step - loss: 0.5790 - accuracy: 0.8346\n",
      "Epoch 25/30\n",
      "27/27 [==============================] - 0s 770us/step - loss: 0.5101 - accuracy: 0.8271\n",
      "Epoch 26/30\n",
      "27/27 [==============================] - 0s 731us/step - loss: 0.4760 - accuracy: 0.8271\n",
      "Epoch 27/30\n",
      "27/27 [==============================] - 0s 731us/step - loss: 0.4275 - accuracy: 0.8647\n",
      "Epoch 28/30\n",
      "27/27 [==============================] - 0s 731us/step - loss: 0.4650 - accuracy: 0.8346\n",
      "Epoch 29/30\n",
      "27/27 [==============================] - 0s 731us/step - loss: 0.4384 - accuracy: 0.8346\n",
      "Epoch 30/30\n",
      "27/27 [==============================] - 0s 731us/step - loss: 0.4621 - accuracy: 0.8421\n",
      "5/5 [==============================] - 0s 751us/step - loss: 1.6785 - accuracy: 0.6541\n",
      "0.6541353464126587\n",
      "2/2 [==============================] - 0s 2ms/step - loss: 1.8092 - accuracy: 0.6444\n",
      "0.644444465637207\n"
     ]
    },
    {
     "data": {
      "image/png": "[encoded data removed]",
      "text/plain": [
       "<Figure size 432x288 with 1 Axes>"
      ]
     },
     "metadata": {
      "needs_background": "light"
     },
     "output_type": "display_data"
    },
    {
     "data": {
      "image/png": "[encoded data removed]",
      "text/plain": [
       "<Figure size 432x288 with 1 Axes>"
      ]
     },
     "metadata": {
      "needs_background": "light"
     },
     "output_type": "display_data"
    }
   ],
   "source": [
    "from sklearn import datasets\n",
    "from tensorflow.keras.utils import to_categorical\n",
    "from sklearn.model_selection import train_test_split\n",
    "\n",
    "import numpy as np\n",
    "import tensorflow as tf\n",
    "\n",
    "from tensorflow.keras.models import Sequential\n",
    "from tensorflow.keras.layers import Dense\n",
    "from tensorflow.keras.layers import BatchNormalization\n",
    "from tensorflow.keras.layers import Activation\n",
    "\n",
    "import matplotlib.pyplot as plt\n",
    "\n",
    "# 랜덤 시드 설정\n",
    "np.random.seed(0)\n",
    "tf.random.set_seed(0)\n",
    "\n",
    "# 데이터 불러오기\n",
    "raw_wine = datasets.load_wine()\n",
    "\n",
    "# 피쳐, 타겟 데이터 지정\n",
    "X = raw_wine.data\n",
    "y = raw_wine.target\n",
    "\n",
    "# 피쳐 데이터 차원 확인\n",
    "print(X.shape)\n",
    "\n",
    "# 타겟 데이터 종류 확인\n",
    "print(set(y))\n",
    "\n",
    "# 타겟 데이터 원-핫 인코딩\n",
    "y_hot = to_categorical(y) \n",
    "\n",
    "# 트레이닝/테스트 데이터 분할\n",
    "X_tn, X_te, y_tn, y_te=train_test_split(X, y_hot, \n",
    "                                        random_state=0)\n",
    "\n",
    "# 신경망 생성\n",
    "n_feat = X_tn.shape[1]\n",
    "n_class = len(set(y))\n",
    "epo = 30\n",
    "\n",
    "model = Sequential()\n",
    "model.add(Dense(20, input_dim=n_feat))\n",
    "model.add(BatchNormalization())\n",
    "model.add(Activation('relu'))\n",
    "model.add(Dense(n_class))\n",
    "model.add(Activation('softmax'))\n",
    "\n",
    "# 신경망 모형 구조 확인\n",
    "model.summary()\n",
    "\n",
    "# 모형 컴파일\n",
    "model.compile(loss='categorical_crossentropy', \n",
    "              optimizer='adam', \n",
    "              metrics=['accuracy'])\n",
    "\n",
    "# 신경망 학습\n",
    "hist = model.fit(X_tn, y_tn, epochs=epo, batch_size=5)\n",
    "\n",
    "# 트레이닝 데이터 평가\n",
    "print(model.evaluate(X_tn, y_tn)[1])\n",
    "\n",
    "# 테스트 데이터 평가\n",
    "print(model.evaluate(X_te, y_te)[1])\n",
    "\n",
    "\n",
    "epoch = np.arange(1,epo+1)\n",
    "accuracy = hist.history['accuracy'] \n",
    "loss = hist.history['loss'] \n",
    "\n",
    "# 정확도 학습 그래프\n",
    "plt.plot(epoch, accuracy, label='accuracy')\n",
    "plt.xlabel('epoch')\n",
    "plt.ylabel('accuracy')\n",
    "plt.legend()\n",
    "plt.show()\n",
    "\n",
    "# 손실 그래프\n",
    "plt.plot(epoch, loss,'r', label='loss')\n",
    "plt.xlabel('epoch')\n",
    "plt.ylabel('loss')\n",
    "plt.legend()\n",
    "plt.show()"
   ]
  },
  {
   "cell_type": "code",
   "execution_count": null,
   "metadata": {},
   "outputs": [],
   "source": []
  }
 ],
 "metadata": {
  "kernelspec": {
   "display_name": "Python 3",
   "language": "python",
   "name": "python3"
  },
  "language_info": {
   "codemirror_mode": {
    "name": "ipython",
    "version": 3
   },
   "file_extension": ".py",
   "mimetype": "text/x-python",
   "name": "python",
   "nbconvert_exporter": "python",
   "pygments_lexer": "ipython3",
   "version": "3.8.8"
  }
 },
 "nbformat": 4,
 "nbformat_minor": 4
}
