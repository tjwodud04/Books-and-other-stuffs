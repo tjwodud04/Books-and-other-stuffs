{
 "cells": [
  {
   "cell_type": "markdown",
   "metadata": {},
   "source": [
    "# 개별 코드 "
   ]
  },
  {
   "cell_type": "code",
   "execution_count": 1,
   "metadata": {},
   "outputs": [],
   "source": [
    "# 랜덤 시드 설정\n",
    "import numpy as np\n",
    "import tensorflow as tf\n",
    "\n",
    "np.random.seed(0)\n",
    "tf.random.set_seed(0)"
   ]
  },
  {
   "cell_type": "code",
   "execution_count": 2,
   "metadata": {},
   "outputs": [],
   "source": [
    "# 데이터 불러오기\n",
    "from sklearn import datasets\n",
    "\n",
    "raw_boston = datasets.load_boston()"
   ]
  },
  {
   "cell_type": "code",
   "execution_count": 3,
   "metadata": {},
   "outputs": [],
   "source": [
    "# 피쳐, 타겟 데이터 지정\n",
    "X = raw_boston.data\n",
    "y = raw_boston.target"
   ]
  },
  {
   "cell_type": "code",
   "execution_count": 4,
   "metadata": {},
   "outputs": [
    {
     "name": "stdout",
     "output_type": "stream",
     "text": [
      "(506, 13)\n"
     ]
    }
   ],
   "source": [
    "# 피쳐 데이터 차원 확인\n",
    "print(X.shape)"
   ]
  },
  {
   "cell_type": "code",
   "execution_count": 5,
   "metadata": {},
   "outputs": [
    {
     "name": "stdout",
     "output_type": "stream",
     "text": [
      "{5.0, 6.3, 7.2, 8.8, 7.4, 10.2, 11.8, 12.7, 13.6, 14.5, 15.0, 16.5, 17.5, 18.9, 18.2, 20.4, 21.6, 22.9, 21.7, 24.0, 19.9, 26.6, 26.5, 27.5, 23.1, 27.1, 28.7, 24.7, 30.8, 33.4, 34.7, 34.9, 36.2, 35.4, 31.6, 33.0, 38.7, 33.2, 43.8, 41.3, 37.2, 39.8, 42.3, 48.5, 44.8, 50.0, 46.7, 48.3, 44.0, 48.8, 46.0, 10.5, 11.5, 11.0, 12.5, 12.0, 13.5, 13.0, 14.0, 16.6, 16.0, 16.1, 16.4, 17.4, 17.1, 17.0, 17.6, 17.9, 18.4, 18.6, 18.5, 18.0, 18.1, 19.6, 19.4, 19.5, 19.1, 19.0, 20.0, 20.5, 20.9, 20.6, 20.1, 21.0, 21.4, 21.5, 21.9, 21.1, 22.0, 22.5, 22.6, 22.4, 22.1, 23.4, 23.5, 23.9, 23.6, 23.0, 24.1, 24.6, 24.4, 24.5, 25.0, 25.1, 26.4, 27.0, 27.9, 28.0, 28.4, 28.1, 28.5, 28.6, 29.4, 29.9, 29.6, 29.1, 29.0, 30.5, 30.1, 31.1, 31.5, 31.0, 32.5, 32.0, 32.9, 32.4, 32.2, 33.3, 33.8, 33.1, 32.7, 8.4, 34.6, 35.2, 35.1, 10.4, 10.9, 7.0, 36.4, 36.0, 36.5, 36.1, 11.9, 37.9, 37.0, 37.6, 37.3, 13.9, 13.4, 14.4, 14.9, 15.4, 8.5, 41.7, 42.8, 43.1, 43.5, 45.4, 9.5, 8.3, 8.7, 9.7, 10.8, 11.3, 11.7, 12.3, 12.8, 13.2, 13.3, 13.8, 14.8, 14.3, 14.2, 15.2, 15.7, 15.3, 16.2, 16.8, 16.3, 16.7, 17.3, 17.8, 17.2, 17.7, 18.7, 18.8, 18.3, 19.3, 19.7, 19.8, 19.2, 20.2, 20.8, 20.3, 20.7, 21.2, 21.8, 22.2, 22.8, 22.7, 22.3, 23.3, 23.8, 23.2, 23.7, 24.8, 24.2, 24.3, 25.3, 25.2, 26.7, 26.2, 7.5, 28.2, 29.8, 30.3, 30.7, 5.6, 31.7, 31.2, 8.1, 9.6, 12.1, 12.6, 13.1, 14.6, 14.1, 15.6, 15.1}\n"
     ]
    }
   ],
   "source": [
    "# 타겟 데이터 종류 확인\n",
    "print(set(y))"
   ]
  },
  {
   "cell_type": "code",
   "execution_count": 6,
   "metadata": {},
   "outputs": [],
   "source": [
    "# 트레이닝/테스트 데이터 분할\n",
    "from sklearn.model_selection import train_test_split\n",
    "\n",
    "X_tn, X_te, y_tn, y_te=train_test_split(X, y, random_state=0)"
   ]
  },
  {
   "cell_type": "code",
   "execution_count": 7,
   "metadata": {},
   "outputs": [],
   "source": [
    "# 신경망 생성\n",
    "from tensorflow.keras.models import Sequential\n",
    "from tensorflow.keras.layers import Dense\n",
    "\n",
    "n_feat = X_tn.shape[1]\n",
    "epo = 30\n",
    "\n",
    "model = Sequential()\n",
    "model.add(Dense(20, input_dim=n_feat, activation='relu'))\n",
    "model.add(Dense(1))"
   ]
  },
  {
   "cell_type": "code",
   "execution_count": 8,
   "metadata": {},
   "outputs": [],
   "source": [
    "# 모형 컴파일\n",
    "model.compile(loss='mean_squared_error', \n",
    "              optimizer='adam', \n",
    "              metrics=['mean_squared_error'])"
   ]
  },
  {
   "cell_type": "code",
   "execution_count": 9,
   "metadata": {},
   "outputs": [
    {
     "name": "stdout",
     "output_type": "stream",
     "text": [
      "Epoch 1/30\n",
      "76/76 [==============================] - 0s 601us/step - loss: 474.8179 - mean_squared_error: 474.8179\n",
      "Epoch 2/30\n",
      "76/76 [==============================] - 0s 561us/step - loss: 97.4737 - mean_squared_error: 97.4737\n",
      "Epoch 3/30\n",
      "76/76 [==============================] - 0s 574us/step - loss: 81.1661 - mean_squared_error: 81.1661\n",
      "Epoch 4/30\n",
      "76/76 [==============================] - 0s 574us/step - loss: 72.6058 - mean_squared_error: 72.6058\n",
      "Epoch 5/30\n",
      "76/76 [==============================] - 0s 574us/step - loss: 63.1071 - mean_squared_error: 63.1071\n",
      "Epoch 6/30\n",
      "76/76 [==============================] - 0s 561us/step - loss: 57.3056 - mean_squared_error: 57.3056\n",
      "Epoch 7/30\n",
      "76/76 [==============================] - 0s 574us/step - loss: 53.3248 - mean_squared_error: 53.3248\n",
      "Epoch 8/30\n",
      "76/76 [==============================] - 0s 561us/step - loss: 48.0305 - mean_squared_error: 48.0305\n",
      "Epoch 9/30\n",
      "76/76 [==============================] - 0s 574us/step - loss: 44.4123 - mean_squared_error: 44.4123\n",
      "Epoch 10/30\n",
      "76/76 [==============================] - 0s 561us/step - loss: 44.6246 - mean_squared_error: 44.6246\n",
      "Epoch 11/30\n",
      "76/76 [==============================] - 0s 547us/step - loss: 39.8854 - mean_squared_error: 39.8854\n",
      "Epoch 12/30\n",
      "76/76 [==============================] - 0s 547us/step - loss: 37.4677 - mean_squared_error: 37.4677\n",
      "Epoch 13/30\n",
      "76/76 [==============================] - 0s 561us/step - loss: 37.2101 - mean_squared_error: 37.2101\n",
      "Epoch 14/30\n",
      "76/76 [==============================] - 0s 561us/step - loss: 34.6580 - mean_squared_error: 34.6580\n",
      "Epoch 15/30\n",
      "76/76 [==============================] - 0s 561us/step - loss: 35.2240 - mean_squared_error: 35.2240\n",
      "Epoch 16/30\n",
      "76/76 [==============================] - 0s 561us/step - loss: 37.2569 - mean_squared_error: 37.2569\n",
      "Epoch 17/30\n",
      "76/76 [==============================] - 0s 561us/step - loss: 36.6201 - mean_squared_error: 36.6201\n",
      "Epoch 18/30\n",
      "76/76 [==============================] - 0s 561us/step - loss: 35.4106 - mean_squared_error: 35.4106\n",
      "Epoch 19/30\n",
      "76/76 [==============================] - 0s 561us/step - loss: 33.9078 - mean_squared_error: 33.9078\n",
      "Epoch 20/30\n",
      "76/76 [==============================] - 0s 574us/step - loss: 34.4738 - mean_squared_error: 34.4738\n",
      "Epoch 21/30\n",
      "76/76 [==============================] - 0s 587us/step - loss: 36.5775 - mean_squared_error: 36.5775\n",
      "Epoch 22/30\n",
      "76/76 [==============================] - 0s 574us/step - loss: 35.8795 - mean_squared_error: 35.8795\n",
      "Epoch 23/30\n",
      "76/76 [==============================] - 0s 574us/step - loss: 34.4425 - mean_squared_error: 34.4425\n",
      "Epoch 24/30\n",
      "76/76 [==============================] - 0s 587us/step - loss: 35.3789 - mean_squared_error: 35.3789\n",
      "Epoch 25/30\n",
      "76/76 [==============================] - 0s 587us/step - loss: 33.2604 - mean_squared_error: 33.2604\n",
      "Epoch 26/30\n",
      "76/76 [==============================] - 0s 574us/step - loss: 36.9733 - mean_squared_error: 36.9733\n",
      "Epoch 27/30\n",
      "76/76 [==============================] - 0s 561us/step - loss: 31.0006 - mean_squared_error: 31.0006\n",
      "Epoch 28/30\n",
      "76/76 [==============================] - 0s 547us/step - loss: 34.8582 - mean_squared_error: 34.8582\n",
      "Epoch 29/30\n",
      "76/76 [==============================] - 0s 534us/step - loss: 32.4770 - mean_squared_error: 32.4770\n",
      "Epoch 30/30\n",
      "76/76 [==============================] - 0s 561us/step - loss: 31.6907 - mean_squared_error: 31.6907\n"
     ]
    }
   ],
   "source": [
    "# 신경망 학습\n",
    "hist = model.fit(X_tn, y_tn, epochs=epo, batch_size=5)"
   ]
  },
  {
   "cell_type": "code",
   "execution_count": 10,
   "metadata": {},
   "outputs": [
    {
     "name": "stdout",
     "output_type": "stream",
     "text": [
      "12/12 [==============================] - 0s 637us/step - loss: 51.5558 - mean_squared_error: 51.5558\n",
      "51.55579376220703\n"
     ]
    }
   ],
   "source": [
    "# 트레이닝 데이터 평가\n",
    "print(model.evaluate(X_tn, y_tn)[1])"
   ]
  },
  {
   "cell_type": "code",
   "execution_count": 11,
   "metadata": {},
   "outputs": [
    {
     "name": "stdout",
     "output_type": "stream",
     "text": [
      "4/4 [==============================] - 0s 1ms/step - loss: 73.9726 - mean_squared_error: 73.9726\n",
      "73.97261810302734\n"
     ]
    }
   ],
   "source": [
    "# 테스트 데이터 평가\n",
    "print(model.evaluate(X_te, y_te)[1])"
   ]
  },
  {
   "cell_type": "code",
   "execution_count": 12,
   "metadata": {},
   "outputs": [
    {
     "name": "stdout",
     "output_type": "stream",
     "text": [
      "[ 1  2  3  4  5  6  7  8  9 10 11 12 13 14 15 16 17 18 19 20 21 22 23 24\n",
      " 25 26 27 28 29 30]\n"
     ]
    }
   ],
   "source": [
    "import numpy as np\n",
    "\n",
    "epoch = np.arange(1,epo+1)\n",
    "print(epoch)"
   ]
  },
  {
   "cell_type": "code",
   "execution_count": 13,
   "metadata": {},
   "outputs": [
    {
     "name": "stdout",
     "output_type": "stream",
     "text": [
      "[474.81793212890625, 97.47374725341797, 81.16605377197266, 72.60584259033203, 63.10710144042969, 57.305572509765625, 53.32482147216797, 48.030460357666016, 44.412330627441406, 44.62458419799805, 39.885398864746094, 37.46773147583008, 37.21006393432617, 34.65798568725586, 35.22400665283203, 37.25694274902344, 36.62007141113281, 35.410621643066406, 33.90780258178711, 34.47383499145508, 36.57752990722656, 35.87949752807617, 34.44245147705078, 35.378902435302734, 33.26035690307617, 36.97325897216797, 31.0006103515625, 34.85820388793945, 32.47700881958008, 31.6906795501709]\n"
     ]
    }
   ],
   "source": [
    "mse = hist.history['mean_squared_error'] \n",
    "print(mse)"
   ]
  },
  {
   "cell_type": "code",
   "execution_count": 14,
   "metadata": {},
   "outputs": [
    {
     "name": "stdout",
     "output_type": "stream",
     "text": [
      "[474.81793212890625, 97.47374725341797, 81.16605377197266, 72.60584259033203, 63.10710144042969, 57.305572509765625, 53.32482147216797, 48.030460357666016, 44.412330627441406, 44.62458419799805, 39.885398864746094, 37.46773147583008, 37.21006393432617, 34.65798568725586, 35.22400665283203, 37.25694274902344, 36.62007141113281, 35.410621643066406, 33.90780258178711, 34.47383499145508, 36.57752990722656, 35.87949752807617, 34.44245147705078, 35.378902435302734, 33.26035690307617, 36.973262786865234, 31.0006103515625, 34.85820388793945, 32.47700881958008, 31.6906795501709]\n"
     ]
    }
   ],
   "source": [
    "loss = hist.history['loss'] \n",
    "print(loss)"
   ]
  },
  {
   "cell_type": "code",
   "execution_count": 15,
   "metadata": {},
   "outputs": [
    {
     "data": {
      "image/png": "[encoded data removed]",
      "text/plain": [
       "<Figure size 432x288 with 1 Axes>"
      ]
     },
     "metadata": {
      "needs_background": "light"
     },
     "output_type": "display_data"
    }
   ],
   "source": [
    "# MSE 학습 그래프\n",
    "import matplotlib.pyplot as plt\n",
    "\n",
    "plt.plot(epoch, mse, label='mse')\n",
    "plt.xlabel('epoch')\n",
    "plt.ylabel('mean_squred_error')\n",
    "plt.legend()\n",
    "plt.show()"
   ]
  },
  {
   "cell_type": "code",
   "execution_count": 16,
   "metadata": {},
   "outputs": [
    {
     "data": {
      "image/png": "[encoded data removed]",
      "text/plain": [
       "<Figure size 432x288 with 1 Axes>"
      ]
     },
     "metadata": {
      "needs_background": "light"
     },
     "output_type": "display_data"
    }
   ],
   "source": [
    "# 손실 학습 그래프\n",
    "import matplotlib.pyplot as plt\n",
    "\n",
    "plt.plot(epoch, loss, 'r', label='loss')\n",
    "plt.xlabel('epoch')\n",
    "plt.ylabel('loss')\n",
    "plt.legend()\n",
    "plt.show()"
   ]
  },
  {
   "cell_type": "code",
   "execution_count": 17,
   "metadata": {},
   "outputs": [
    {
     "name": "stdout",
     "output_type": "stream",
     "text": [
      "[14.926858  17.68186   26.267515   7.917684  15.005158  20.33469\n",
      " 11.632039  22.128693  13.236667   7.889089   5.1158195  9.61797\n",
      " 10.792668   2.5619862 33.263203  22.72695   13.689984  29.558794\n",
      " 24.675909  21.299322  22.893751  17.08631   16.023733  26.365967\n",
      " 21.479921  10.689122  17.379736  11.004315  28.346972  15.011754\n",
      " 10.714337  12.856969  17.735548  20.255527  24.8231    12.98763\n",
      "  4.140386  16.951506   6.4117637  6.4219794 22.591516  18.943966\n",
      " 12.94563    9.773442  17.00797   23.849703  16.26448   14.620755\n",
      "  7.636907  20.454527   7.7502265 11.073209  18.992067  22.401669\n",
      "  7.765287  15.407378  17.322477  10.0682535 14.971913  18.075153\n",
      " 16.16294   18.721216  24.99944   24.195602   9.034825  24.184431\n",
      " 11.682729  13.96901    8.437734  20.76813   15.780751  17.59316\n",
      " 26.882368  23.865847  16.954939  -1.2630564 27.121996  20.394733\n",
      " 23.056791  16.387403  22.719763  17.167486  14.822988  28.526918\n",
      " 28.235516  21.92799   20.246086   4.790792  24.334208   9.029683\n",
      "  9.72614    4.301397  23.69546   25.389898  24.684221  17.659786\n",
      " -3.0273845 24.955671   7.976171  17.916893  20.10526   19.003878\n",
      " 25.384787  17.426325  20.630219  20.279562  -1.1384226 12.0693865\n",
      " 23.5985    20.722708  26.47717    5.1499076 15.841153   9.9932375\n",
      "  5.092775  17.211647  -3.8662975 18.965399   5.444471  38.194515\n",
      " 23.669447   7.592397  15.863933  17.590742  22.656437  18.330112\n",
      " 30.23239  ]\n"
     ]
    }
   ],
   "source": [
    "# 실제값, 예측값 데이터 프레임 생성\n",
    "pred_y = model.predict(X_te).flatten() \n",
    "print(pred_y)"
   ]
  },
  {
   "cell_type": "code",
   "execution_count": 18,
   "metadata": {},
   "outputs": [],
   "source": [
    "import pandas as pd\n",
    "\n",
    "res_df = pd.DataFrame(pred_y, columns=['predict_val'])\n",
    "res_df['real_val'] = y_te"
   ]
  },
  {
   "cell_type": "code",
   "execution_count": 19,
   "metadata": {
    "scrolled": true
   },
   "outputs": [
    {
     "data": {
      "text/html": [
       "<div>\n",
       "<style scoped>\n",
       "    .dataframe tbody tr th:only-of-type {\n",
       "        vertical-align: middle;\n",
       "    }\n",
       "\n",
       "    .dataframe tbody tr th {\n",
       "        vertical-align: top;\n",
       "    }\n",
       "\n",
       "    .dataframe thead th {\n",
       "        text-align: right;\n",
       "    }\n",
       "</style>\n",
       "<table border=\"1\" class=\"dataframe\">\n",
       "  <thead>\n",
       "    <tr style=\"text-align: right;\">\n",
       "      <th></th>\n",
       "      <th>predict_val</th>\n",
       "      <th>real_val</th>\n",
       "    </tr>\n",
       "  </thead>\n",
       "  <tbody>\n",
       "    <tr>\n",
       "      <th>0</th>\n",
       "      <td>14.926858</td>\n",
       "      <td>22.6</td>\n",
       "    </tr>\n",
       "    <tr>\n",
       "      <th>1</th>\n",
       "      <td>17.681860</td>\n",
       "      <td>50.0</td>\n",
       "    </tr>\n",
       "    <tr>\n",
       "      <th>2</th>\n",
       "      <td>26.267515</td>\n",
       "      <td>23.0</td>\n",
       "    </tr>\n",
       "  </tbody>\n",
       "</table>\n",
       "</div>"
      ],
      "text/plain": [
       "   predict_val  real_val\n",
       "0    14.926858      22.6\n",
       "1    17.681860      50.0\n",
       "2    26.267515      23.0"
      ]
     },
     "execution_count": 19,
     "metadata": {},
     "output_type": "execute_result"
    }
   ],
   "source": [
    "res_df.head(3)"
   ]
  },
  {
   "cell_type": "code",
   "execution_count": 20,
   "metadata": {},
   "outputs": [],
   "source": [
    "df_sort = res_df.sort_values([\"predict_val\"], \n",
    "                             ascending=True)"
   ]
  },
  {
   "cell_type": "code",
   "execution_count": 21,
   "metadata": {
    "scrolled": true
   },
   "outputs": [
    {
     "data": {
      "text/html": [
       "<div>\n",
       "<style scoped>\n",
       "    .dataframe tbody tr th:only-of-type {\n",
       "        vertical-align: middle;\n",
       "    }\n",
       "\n",
       "    .dataframe tbody tr th {\n",
       "        vertical-align: top;\n",
       "    }\n",
       "\n",
       "    .dataframe thead th {\n",
       "        text-align: right;\n",
       "    }\n",
       "</style>\n",
       "<table border=\"1\" class=\"dataframe\">\n",
       "  <thead>\n",
       "    <tr style=\"text-align: right;\">\n",
       "      <th></th>\n",
       "      <th>predict_val</th>\n",
       "      <th>real_val</th>\n",
       "    </tr>\n",
       "  </thead>\n",
       "  <tbody>\n",
       "    <tr>\n",
       "      <th>116</th>\n",
       "      <td>-3.866297</td>\n",
       "      <td>8.4</td>\n",
       "    </tr>\n",
       "    <tr>\n",
       "      <th>96</th>\n",
       "      <td>-3.027385</td>\n",
       "      <td>13.8</td>\n",
       "    </tr>\n",
       "    <tr>\n",
       "      <th>75</th>\n",
       "      <td>-1.263056</td>\n",
       "      <td>7.4</td>\n",
       "    </tr>\n",
       "  </tbody>\n",
       "</table>\n",
       "</div>"
      ],
      "text/plain": [
       "     predict_val  real_val\n",
       "116    -3.866297       8.4\n",
       "96     -3.027385      13.8\n",
       "75     -1.263056       7.4"
      ]
     },
     "execution_count": 21,
     "metadata": {},
     "output_type": "execute_result"
    }
   ],
   "source": [
    "df_sort.head(3)"
   ]
  },
  {
   "cell_type": "code",
   "execution_count": 22,
   "metadata": {},
   "outputs": [
    {
     "data": {
      "text/plain": [
       "127"
      ]
     },
     "execution_count": 22,
     "metadata": {},
     "output_type": "execute_result"
    }
   ],
   "source": [
    "len(df_sort)"
   ]
  },
  {
   "cell_type": "code",
   "execution_count": 23,
   "metadata": {},
   "outputs": [
    {
     "data": {
      "image/png": "[encoded data removed]",
      "text/plain": [
       "<Figure size 432x288 with 1 Axes>"
      ]
     },
     "metadata": {
      "needs_background": "light"
     },
     "output_type": "display_data"
    }
   ],
   "source": [
    "# 예측값 실제값 그래프\n",
    "import matplotlib.pyplot as plt\n",
    "import numpy as np\n",
    "\n",
    "idx = np.arange(1,len(df_sort)+1)\n",
    "plt.scatter(idx, df_sort['real_val'], \n",
    "            marker='o', \n",
    "            label='real_val')\n",
    "plt.plot(idx, df_sort['predict_val'], \n",
    "         color='r', \n",
    "         label='predict_val')\n",
    "plt.xlabel('index')\n",
    "plt.ylabel('value')\n",
    "plt.legend()\n",
    "plt.show()"
   ]
  },
  {
   "cell_type": "markdown",
   "metadata": {},
   "source": [
    "# 통합 코드"
   ]
  },
  {
   "cell_type": "code",
   "execution_count": 24,
   "metadata": {},
   "outputs": [
    {
     "name": "stdout",
     "output_type": "stream",
     "text": [
      "(506, 13)\n",
      "{5.0, 6.3, 7.2, 8.8, 7.4, 10.2, 11.8, 12.7, 13.6, 14.5, 15.0, 16.5, 17.5, 18.9, 18.2, 20.4, 21.6, 22.9, 21.7, 24.0, 19.9, 26.6, 26.5, 27.5, 23.1, 27.1, 28.7, 24.7, 30.8, 33.4, 34.7, 34.9, 36.2, 35.4, 31.6, 33.0, 38.7, 33.2, 43.8, 41.3, 37.2, 39.8, 42.3, 48.5, 44.8, 50.0, 46.7, 48.3, 44.0, 48.8, 46.0, 10.5, 11.5, 11.0, 12.5, 12.0, 13.5, 13.0, 14.0, 16.6, 16.0, 16.1, 16.4, 17.4, 17.1, 17.0, 17.6, 17.9, 18.4, 18.6, 18.5, 18.0, 18.1, 19.6, 19.4, 19.5, 19.1, 19.0, 20.0, 20.5, 20.9, 20.6, 20.1, 21.0, 21.4, 21.5, 21.9, 21.1, 22.0, 22.5, 22.6, 22.4, 22.1, 23.4, 23.5, 23.9, 23.6, 23.0, 24.1, 24.6, 24.4, 24.5, 25.0, 25.1, 26.4, 27.0, 27.9, 28.0, 28.4, 28.1, 28.5, 28.6, 29.4, 29.9, 29.6, 29.1, 29.0, 30.5, 30.1, 31.1, 31.5, 31.0, 32.5, 32.0, 32.9, 32.4, 32.2, 33.3, 33.8, 33.1, 32.7, 8.4, 34.6, 35.2, 35.1, 10.4, 10.9, 7.0, 36.4, 36.0, 36.5, 36.1, 11.9, 37.9, 37.0, 37.6, 37.3, 13.9, 13.4, 14.4, 14.9, 15.4, 8.5, 41.7, 42.8, 43.1, 43.5, 45.4, 9.5, 8.3, 8.7, 9.7, 10.8, 11.3, 11.7, 12.3, 12.8, 13.2, 13.3, 13.8, 14.8, 14.3, 14.2, 15.2, 15.7, 15.3, 16.2, 16.8, 16.3, 16.7, 17.3, 17.8, 17.2, 17.7, 18.7, 18.8, 18.3, 19.3, 19.7, 19.8, 19.2, 20.2, 20.8, 20.3, 20.7, 21.2, 21.8, 22.2, 22.8, 22.7, 22.3, 23.3, 23.8, 23.2, 23.7, 24.8, 24.2, 24.3, 25.3, 25.2, 26.7, 26.2, 7.5, 28.2, 29.8, 30.3, 30.7, 5.6, 31.7, 31.2, 8.1, 9.6, 12.1, 12.6, 13.1, 14.6, 14.1, 15.6, 15.1}\n",
      "Epoch 1/30\n",
      "76/76 [==============================] - 0s 587us/step - loss: 474.8179 - mean_squared_error: 474.8179\n",
      "Epoch 2/30\n",
      "76/76 [==============================] - 0s 574us/step - loss: 97.4737 - mean_squared_error: 97.4737\n",
      "Epoch 3/30\n",
      "76/76 [==============================] - 0s 560us/step - loss: 81.1661 - mean_squared_error: 81.1661\n",
      "Epoch 4/30\n",
      "76/76 [==============================] - 0s 561us/step - loss: 72.6058 - mean_squared_error: 72.6058\n",
      "Epoch 5/30\n",
      "76/76 [==============================] - 0s 574us/step - loss: 63.1071 - mean_squared_error: 63.1071\n",
      "Epoch 6/30\n",
      "76/76 [==============================] - 0s 560us/step - loss: 57.3056 - mean_squared_error: 57.3056\n",
      "Epoch 7/30\n",
      "76/76 [==============================] - 0s 547us/step - loss: 53.3248 - mean_squared_error: 53.3248\n",
      "Epoch 8/30\n",
      "76/76 [==============================] - 0s 561us/step - loss: 48.0305 - mean_squared_error: 48.0305\n",
      "Epoch 9/30\n",
      "76/76 [==============================] - 0s 574us/step - loss: 44.4123 - mean_squared_error: 44.4123\n",
      "Epoch 10/30\n",
      "76/76 [==============================] - 0s 547us/step - loss: 44.6246 - mean_squared_error: 44.6246\n",
      "Epoch 11/30\n",
      "76/76 [==============================] - 0s 574us/step - loss: 39.8854 - mean_squared_error: 39.8854\n",
      "Epoch 12/30\n",
      "76/76 [==============================] - 0s 574us/step - loss: 37.4677 - mean_squared_error: 37.4677\n",
      "Epoch 13/30\n",
      "76/76 [==============================] - 0s 574us/step - loss: 37.2101 - mean_squared_error: 37.2101\n",
      "Epoch 14/30\n",
      "76/76 [==============================] - 0s 587us/step - loss: 34.6580 - mean_squared_error: 34.6580\n",
      "Epoch 15/30\n",
      "76/76 [==============================] - 0s 601us/step - loss: 35.2240 - mean_squared_error: 35.2240\n",
      "Epoch 16/30\n",
      "76/76 [==============================] - 0s 601us/step - loss: 37.2569 - mean_squared_error: 37.2569\n",
      "Epoch 17/30\n",
      "76/76 [==============================] - 0s 587us/step - loss: 36.6201 - mean_squared_error: 36.6201\n",
      "Epoch 18/30\n",
      "76/76 [==============================] - 0s 561us/step - loss: 35.4106 - mean_squared_error: 35.4106\n",
      "Epoch 19/30\n",
      "76/76 [==============================] - 0s 574us/step - loss: 33.9078 - mean_squared_error: 33.9078\n",
      "Epoch 20/30\n",
      "76/76 [==============================] - 0s 574us/step - loss: 34.4738 - mean_squared_error: 34.4738\n",
      "Epoch 21/30\n",
      "76/76 [==============================] - 0s 574us/step - loss: 36.5775 - mean_squared_error: 36.5775\n",
      "Epoch 22/30\n",
      "76/76 [==============================] - 0s 587us/step - loss: 35.8795 - mean_squared_error: 35.8795\n",
      "Epoch 23/30\n",
      "76/76 [==============================] - 0s 601us/step - loss: 34.4425 - mean_squared_error: 34.4425\n",
      "Epoch 24/30\n",
      "76/76 [==============================] - 0s 574us/step - loss: 35.3789 - mean_squared_error: 35.3789\n",
      "Epoch 25/30\n",
      "76/76 [==============================] - 0s 574us/step - loss: 33.2604 - mean_squared_error: 33.2604\n",
      "Epoch 26/30\n",
      "76/76 [==============================] - 0s 574us/step - loss: 36.9733 - mean_squared_error: 36.9733\n",
      "Epoch 27/30\n",
      "76/76 [==============================] - 0s 574us/step - loss: 31.0006 - mean_squared_error: 31.0006\n",
      "Epoch 28/30\n",
      "76/76 [==============================] - 0s 561us/step - loss: 34.8582 - mean_squared_error: 34.8582\n",
      "Epoch 29/30\n",
      "76/76 [==============================] - 0s 574us/step - loss: 32.4770 - mean_squared_error: 32.4770\n",
      "Epoch 30/30\n",
      "76/76 [==============================] - 0s 561us/step - loss: 31.6907 - mean_squared_error: 31.6907\n",
      "12/12 [==============================] - 0s 728us/step - loss: 51.5558 - mean_squared_error: 51.5558\n",
      "51.55579376220703\n",
      "4/4 [==============================] - 0s 1ms/step - loss: 73.9726 - mean_squared_error: 73.9726\n",
      "73.97261810302734\n"
     ]
    },
    {
     "data": {
      "image/png": "[encoded data removed]",
      "text/plain": [
       "<Figure size 432x288 with 1 Axes>"
      ]
     },
     "metadata": {
      "needs_background": "light"
     },
     "output_type": "display_data"
    },
    {
     "data": {
      "image/png": "[encoded data removed]",
      "text/plain": [
       "<Figure size 432x288 with 1 Axes>"
      ]
     },
     "metadata": {
      "needs_background": "light"
     },
     "output_type": "display_data"
    },
    {
     "data": {
      "image/png": "[encoded data removed]",
      "text/plain": [
       "<Figure size 432x288 with 1 Axes>"
      ]
     },
     "metadata": {
      "needs_background": "light"
     },
     "output_type": "display_data"
    }
   ],
   "source": [
    "from sklearn import datasets\n",
    "from sklearn.model_selection import train_test_split\n",
    "\n",
    "import numpy as np\n",
    "import tensorflow as tf\n",
    "\n",
    "from tensorflow.keras.models import Sequential\n",
    "from tensorflow.keras.layers import Dense\n",
    "\n",
    "import matplotlib.pyplot as plt\n",
    "import pandas as pd\n",
    "\n",
    "# 랜덤 시드 설정\n",
    "np.random.seed(0)\n",
    "tf.random.set_seed(0)\n",
    "\n",
    "# 데이터 불러오기\n",
    "raw_boston = datasets.load_boston()\n",
    "\n",
    "# 피쳐, 타겟 데이터 지정\n",
    "X = raw_boston.data\n",
    "y = raw_boston.target\n",
    "\n",
    "# 피쳐 데이터 차원 확인\n",
    "print(X.shape)\n",
    "\n",
    "# 타겟 데이터 종류 확인\n",
    "print(set(y))\n",
    "\n",
    "# 트레이닝/테스트 데이터 분할\n",
    "X_tn, X_te, y_tn, y_te=train_test_split(X, y, random_state=0)\n",
    "\n",
    "# 신경망 생성\n",
    "n_feat = X_tn.shape[1]\n",
    "epo = 30\n",
    "\n",
    "model = Sequential()\n",
    "model.add(Dense(20, input_dim=n_feat, activation='relu'))\n",
    "model.add(Dense(1))\n",
    "\n",
    "# 모형 컴파일\n",
    "model.compile(loss='mean_squared_error', \n",
    "              optimizer='adam', \n",
    "              metrics=['mean_squared_error'])\n",
    "\n",
    "# 신경망 학습\n",
    "hist = model.fit(X_tn, y_tn, epochs=epo, batch_size=5)\n",
    "\n",
    "# 트레이닝 데이터 평가\n",
    "print(model.evaluate(X_tn, y_tn)[1])\n",
    "\n",
    "# 테스트 데이터 평가\n",
    "print(model.evaluate(X_te, y_te)[1])\n",
    "\n",
    "epoch = np.arange(1,epo+1)\n",
    "mse = hist.history['mean_squared_error'] \n",
    "loss = hist.history['loss'] \n",
    "\n",
    "# MSE 학습 그래프\n",
    "plt.plot(epoch, mse, label='mse')\n",
    "plt.xlabel('epoch')\n",
    "plt.ylabel('mean_squred_error')\n",
    "plt.legend()\n",
    "plt.show()\n",
    "\n",
    "# 손실 학습 그래프\n",
    "plt.plot(epoch, loss, 'r', label='loss')\n",
    "plt.xlabel('epoch')\n",
    "plt.ylabel('loss')\n",
    "plt.legend()\n",
    "plt.show()\n",
    "\n",
    "# 실제값, 예측값 데이터 프레임 생성\n",
    "pred_y = model.predict(X_te).flatten() \n",
    "res_df = pd.DataFrame(pred_y, columns=['predict_val'])\n",
    "res_df['real_val'] = y_te\n",
    "df_sort = res_df.sort_values([\"predict_val\"], \n",
    "                             ascending=True)\n",
    "\n",
    "# 예측값 실제값 그래프\n",
    "idx = np.arange(1,len(df_sort)+1)\n",
    "plt.scatter(idx, df_sort['real_val'], \n",
    "            marker='o', \n",
    "            label='real_val')\n",
    "plt.plot(idx, df_sort['predict_val'], \n",
    "         color='r',\n",
    "         label='predict_val')\n",
    "plt.xlabel('index')\n",
    "plt.ylabel('value')\n",
    "plt.legend()\n",
    "plt.show()"
   ]
  },
  {
   "cell_type": "code",
   "execution_count": null,
   "metadata": {},
   "outputs": [],
   "source": []
  }
 ],
 "metadata": {
  "kernelspec": {
   "display_name": "Python 3",
   "language": "python",
   "name": "python3"
  },
  "language_info": {
   "codemirror_mode": {
    "name": "ipython",
    "version": 3
   },
   "file_extension": ".py",
   "mimetype": "text/x-python",
   "name": "python",
   "nbconvert_exporter": "python",
   "pygments_lexer": "ipython3",
   "version": "3.8.8"
  }
 },
 "nbformat": 4,
 "nbformat_minor": 4
}
