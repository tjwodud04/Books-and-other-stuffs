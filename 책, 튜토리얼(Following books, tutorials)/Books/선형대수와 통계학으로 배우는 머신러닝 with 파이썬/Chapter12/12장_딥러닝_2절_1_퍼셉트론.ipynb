{
 "cells": [
  {
   "cell_type": "markdown",
   "metadata": {},
   "source": [
    "# 개별코드"
   ]
  },
  {
   "cell_type": "code",
   "execution_count": 1,
   "metadata": {},
   "outputs": [
    {
     "name": "stdout",
     "output_type": "stream",
     "text": [
      "[[2 3]\n",
      " [5 1]]\n",
      "[2 3 5 1]\n"
     ]
    }
   ],
   "source": [
    "import numpy as np\n",
    "\n",
    "# 입력층\n",
    "input_data = np.array([[2,3], [5,1]])\n",
    "print(input_data)\n",
    "\n",
    "x = input_data.reshape(-1)\n",
    "print(x)"
   ]
  },
  {
   "cell_type": "code",
   "execution_count": 2,
   "metadata": {},
   "outputs": [],
   "source": [
    "# 가중치 및 편향\n",
    "w1 = np.array([2,1,-3,3])\n",
    "w2 = np.array([1,-3,1,3])\n",
    "b1 = 3\n",
    "b2 = 3"
   ]
  },
  {
   "cell_type": "code",
   "execution_count": 3,
   "metadata": {},
   "outputs": [
    {
     "name": "stdout",
     "output_type": "stream",
     "text": [
      "[[ 2  1 -3  3]\n",
      " [ 1 -3  1  3]]\n",
      "[3 3]\n",
      "[-2  4]\n"
     ]
    }
   ],
   "source": [
    "# 가중합\n",
    "W = np.array([w1, w2])\n",
    "print(W)\n",
    "\n",
    "b = np.array([b1, b2])\n",
    "print(b)\n",
    "\n",
    "weight_sum = np.dot(W, x) + b\n",
    "print(weight_sum)"
   ]
  },
  {
   "cell_type": "code",
   "execution_count": 4,
   "metadata": {},
   "outputs": [
    {
     "name": "stdout",
     "output_type": "stream",
     "text": [
      "[0.11920292 0.98201379]\n"
     ]
    }
   ],
   "source": [
    "# 출력층\n",
    "res = 1/(1+np.exp(-weight_sum))\n",
    "print(res)"
   ]
  },
  {
   "cell_type": "markdown",
   "metadata": {},
   "source": [
    "# 통합 코드"
   ]
  },
  {
   "cell_type": "code",
   "execution_count": 5,
   "metadata": {},
   "outputs": [],
   "source": [
    "import numpy as np\n",
    "\n",
    "# 입력층\n",
    "input_data = np.array([[2,3], [5,1]])\n",
    "x = input_data.reshape(-1)\n",
    "\n",
    "# 가중치 및 편향\n",
    "w1 = np.array([2,1,-3,3])\n",
    "w2 = np.array([1,-3,1,3])\n",
    "b1 = 3\n",
    "b2 = 3\n",
    "\n",
    "# 가중합\n",
    "W = np.array([w1, w2])\n",
    "b = np.array([b1, b2])\n",
    "weight_sum = np.dot(W, x) + b\n",
    "\n",
    "# 출력층\n",
    "res = 1/(1+np.exp(-weight_sum))"
   ]
  },
  {
   "cell_type": "code",
   "execution_count": null,
   "metadata": {},
   "outputs": [],
   "source": []
  }
 ],
 "metadata": {
  "kernelspec": {
   "display_name": "Python 3",
   "language": "python",
   "name": "python3"
  },
  "language_info": {
   "codemirror_mode": {
    "name": "ipython",
    "version": 3
   },
   "file_extension": ".py",
   "mimetype": "text/x-python",
   "name": "python",
   "nbconvert_exporter": "python",
   "pygments_lexer": "ipython3",
   "version": "3.8.8"
  }
 },
 "nbformat": 4,
 "nbformat_minor": 4
}
