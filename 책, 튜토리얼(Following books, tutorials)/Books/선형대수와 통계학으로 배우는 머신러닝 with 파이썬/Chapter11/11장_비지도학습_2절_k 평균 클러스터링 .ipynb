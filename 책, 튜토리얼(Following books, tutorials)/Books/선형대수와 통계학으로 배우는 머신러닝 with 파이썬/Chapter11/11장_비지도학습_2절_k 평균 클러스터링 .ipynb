{
 "cells": [
  {
   "cell_type": "markdown",
   "metadata": {},
   "source": [
    "# 개별 코드"
   ]
  },
  {
   "cell_type": "code",
   "execution_count": 1,
   "metadata": {},
   "outputs": [],
   "source": [
    "# 데이터 생성\n",
    "from sklearn.datasets import make_blobs\n",
    "\n",
    "X,y = make_blobs(n_samples=100, \n",
    "                 n_features=2, \n",
    "                 centers=5, \n",
    "                 random_state=10)"
   ]
  },
  {
   "cell_type": "code",
   "execution_count": 2,
   "metadata": {
    "scrolled": true
   },
   "outputs": [
    {
     "name": "stdout",
     "output_type": "stream",
     "text": [
      "(100, 2)\n",
      "(100,)\n"
     ]
    }
   ],
   "source": [
    "# 생성된 데이터 차원 확인\n",
    "print(X.shape)\n",
    "print(y.shape)"
   ]
  },
  {
   "cell_type": "code",
   "execution_count": 3,
   "metadata": {},
   "outputs": [
    {
     "data": {
      "image/png": "[encoded data removed]",
      "text/plain": [
       "<Figure size 432x288 with 1 Axes>"
      ]
     },
     "metadata": {
      "needs_background": "light"
     },
     "output_type": "display_data"
    }
   ],
   "source": [
    "# 라벨링 되지 않은 데이터 플랏\n",
    "import matplotlib.pyplot as plt\n",
    "\n",
    "plt.scatter(X[:,0], X[:,1], \n",
    "            c='gray', \n",
    "            edgecolor='black', \n",
    "            marker='o')\n",
    "plt.show()"
   ]
  },
  {
   "cell_type": "code",
   "execution_count": 4,
   "metadata": {},
   "outputs": [
    {
     "name": "stdout",
     "output_type": "stream",
     "text": [
      "[2 4 3 1 0 2 2 3 0 2 3 2 0 1 0 2 4 1 0 2 2 1 4 3 2 2 1 0 3 4 1 1 0 1 2 0 3\n",
      " 1 3 4 1 1 1 0 3 3 2 0 4 0 4 0 2 3 0 0 1 4 1 3 0 4 4 1 2 4 0 4 0 3 3 2 4 0\n",
      " 1 1 3 4 2 2 0 0 4 1 4 3 1 3 1 3 4 3 2 4 4 4 3 2 2 3]\n"
     ]
    }
   ],
   "source": [
    "# k-means clustering\n",
    "from sklearn.cluster import KMeans\n",
    "\n",
    "kmc = KMeans(n_clusters=5, \n",
    "             init='random', \n",
    "             max_iter=100, \n",
    "             random_state=0)\n",
    "kmc.fit(X)\n",
    "label_kmc = kmc.labels_ \n",
    "print(label_kmc)"
   ]
  },
  {
   "cell_type": "code",
   "execution_count": 5,
   "metadata": {},
   "outputs": [
    {
     "data": {
      "text/html": [
       "<div>\n",
       "<style scoped>\n",
       "    .dataframe tbody tr th:only-of-type {\n",
       "        vertical-align: middle;\n",
       "    }\n",
       "\n",
       "    .dataframe tbody tr th {\n",
       "        vertical-align: top;\n",
       "    }\n",
       "\n",
       "    .dataframe thead th {\n",
       "        text-align: right;\n",
       "    }\n",
       "</style>\n",
       "<table border=\"1\" class=\"dataframe\">\n",
       "  <thead>\n",
       "    <tr style=\"text-align: right;\">\n",
       "      <th></th>\n",
       "      <th>kmc_comp1</th>\n",
       "      <th>kmc_comp2</th>\n",
       "      <th>target</th>\n",
       "      <th>label_kmc</th>\n",
       "    </tr>\n",
       "  </thead>\n",
       "  <tbody>\n",
       "    <tr>\n",
       "      <th>0</th>\n",
       "      <td>-5.577854</td>\n",
       "      <td>5.872988</td>\n",
       "      <td>3</td>\n",
       "      <td>2</td>\n",
       "    </tr>\n",
       "    <tr>\n",
       "      <th>1</th>\n",
       "      <td>1.627832</td>\n",
       "      <td>4.178069</td>\n",
       "      <td>1</td>\n",
       "      <td>4</td>\n",
       "    </tr>\n",
       "    <tr>\n",
       "      <th>2</th>\n",
       "      <td>-6.950884</td>\n",
       "      <td>-9.024594</td>\n",
       "      <td>4</td>\n",
       "      <td>3</td>\n",
       "    </tr>\n",
       "    <tr>\n",
       "      <th>3</th>\n",
       "      <td>-0.952769</td>\n",
       "      <td>-5.034316</td>\n",
       "      <td>2</td>\n",
       "      <td>1</td>\n",
       "    </tr>\n",
       "    <tr>\n",
       "      <th>4</th>\n",
       "      <td>6.550104</td>\n",
       "      <td>-7.912339</td>\n",
       "      <td>0</td>\n",
       "      <td>0</td>\n",
       "    </tr>\n",
       "  </tbody>\n",
       "</table>\n",
       "</div>"
      ],
      "text/plain": [
       "   kmc_comp1  kmc_comp2  target  label_kmc\n",
       "0  -5.577854   5.872988       3          2\n",
       "1   1.627832   4.178069       1          4\n",
       "2  -6.950884  -9.024594       4          3\n",
       "3  -0.952769  -5.034316       2          1\n",
       "4   6.550104  -7.912339       0          0"
      ]
     },
     "execution_count": 5,
     "metadata": {},
     "output_type": "execute_result"
    }
   ],
   "source": [
    "# 시각화를 위한 데이터프레임 생성\n",
    "import pandas as pd\n",
    "\n",
    "kmc_columns = ['kmc_comp1', 'kmc_comp2']\n",
    "X_kmc_df = pd.DataFrame(X, columns=kmc_columns)\n",
    "X_kmc_df['target'] = y\n",
    "X_kmc_df['label_kmc'] = label_kmc\n",
    "X_kmc_df.head(5)"
   ]
  },
  {
   "cell_type": "code",
   "execution_count": 6,
   "metadata": {},
   "outputs": [
    {
     "name": "stdout",
     "output_type": "stream",
     "text": [
      "{0, 1, 2, 3, 4}\n",
      "{0, 1, 2, 3, 4}\n"
     ]
    }
   ],
   "source": [
    "# 타겟 클래스 종류 확인\n",
    "print(set(X_kmc_df['target']))\n",
    "print(set(X_kmc_df['label_kmc']))"
   ]
  },
  {
   "cell_type": "code",
   "execution_count": 7,
   "metadata": {},
   "outputs": [
    {
     "data": {
      "image/png": "[encoded data removed]",
      "text/plain": [
       "<Figure size 432x288 with 1 Axes>"
      ]
     },
     "metadata": {
      "needs_background": "light"
     },
     "output_type": "display_data"
    }
   ],
   "source": [
    "# k-means clustering을 이용한 데이터 플랏\n",
    "df = X_kmc_df\n",
    "markers=['o','x','^','s','*']\n",
    "\n",
    "for i, mark in enumerate(markers):\n",
    "    df_i = df[df['label_kmc']==i]\n",
    "    target_i = i\n",
    "    X1 = df_i['kmc_comp1']\n",
    "    X2 = df_i['kmc_comp2']\n",
    "    plt.scatter(X1, X2, \n",
    "                marker=mark, \n",
    "                label=target_i)\n",
    "\n",
    "plt.xlabel('kmc_component1')\n",
    "plt.ylabel('kmc_component2')\n",
    "plt.legend()\n",
    "plt.show()"
   ]
  },
  {
   "cell_type": "code",
   "execution_count": 8,
   "metadata": {},
   "outputs": [
    {
     "data": {
      "image/png": "[encoded data removed]",
      "text/plain": [
       "<Figure size 432x288 with 1 Axes>"
      ]
     },
     "metadata": {
      "needs_background": "light"
     },
     "output_type": "display_data"
    }
   ],
   "source": [
    "# 실제 타겟 플랏\n",
    "df = X_kmc_df\n",
    "markers=['o','x','^','s','*']\n",
    "\n",
    "for i, mark in enumerate(markers):\n",
    "    df_i = df[df['target']==i]\n",
    "    target_i = i\n",
    "    X1 = df_i['kmc_comp1']\n",
    "    X2 = df_i['kmc_comp2']\n",
    "    plt.scatter(X1, X2, \n",
    "                marker=mark, \n",
    "                label=target_i)\n",
    "\n",
    "plt.xlabel('kmc_component1')\n",
    "plt.ylabel('kmc_component2')\n",
    "plt.legend()\n",
    "plt.show()"
   ]
  },
  {
   "cell_type": "code",
   "execution_count": 9,
   "metadata": {},
   "outputs": [
    {
     "name": "stdout",
     "output_type": "stream",
     "text": [
      "0.7598181300128782\n"
     ]
    }
   ],
   "source": [
    "# 모형 평가\n",
    "from sklearn.metrics import silhouette_score\n",
    "\n",
    "sil_score = silhouette_score(X, label_kmc)\n",
    "print(sil_score)"
   ]
  },
  {
   "cell_type": "markdown",
   "metadata": {},
   "source": [
    "# 통합 코드"
   ]
  },
  {
   "cell_type": "code",
   "execution_count": 10,
   "metadata": {},
   "outputs": [
    {
     "name": "stdout",
     "output_type": "stream",
     "text": [
      "(100, 2)\n",
      "(100,)\n"
     ]
    },
    {
     "data": {
      "image/png": "[encoded data removed]",
      "text/plain": [
       "<Figure size 432x288 with 1 Axes>"
      ]
     },
     "metadata": {
      "needs_background": "light"
     },
     "output_type": "display_data"
    },
    {
     "name": "stdout",
     "output_type": "stream",
     "text": [
      "[2 4 3 1 0 2 2 3 0 2 3 2 0 1 0 2 4 1 0 2 2 1 4 3 2 2 1 0 3 4 1 1 0 1 2 0 3\n",
      " 1 3 4 1 1 1 0 3 3 2 0 4 0 4 0 2 3 0 0 1 4 1 3 0 4 4 1 2 4 0 4 0 3 3 2 4 0\n",
      " 1 1 3 4 2 2 0 0 4 1 4 3 1 3 1 3 4 3 2 4 4 4 3 2 2 3]\n",
      "{0, 1, 2, 3, 4}\n",
      "{0, 1, 2, 3, 4}\n"
     ]
    },
    {
     "data": {
      "image/png": "[encoded data removed]",
      "text/plain": [
       "<Figure size 432x288 with 1 Axes>"
      ]
     },
     "metadata": {
      "needs_background": "light"
     },
     "output_type": "display_data"
    },
    {
     "data": {
      "image/png": "[encoded data removed]",
      "text/plain": [
       "<Figure size 432x288 with 1 Axes>"
      ]
     },
     "metadata": {
      "needs_background": "light"
     },
     "output_type": "display_data"
    },
    {
     "name": "stdout",
     "output_type": "stream",
     "text": [
      "0.7598181300128782\n"
     ]
    }
   ],
   "source": [
    "from sklearn.datasets import make_blobs\n",
    "\n",
    "import pandas as pd\n",
    "import matplotlib.pyplot as plt\n",
    "\n",
    "from sklearn.cluster import KMeans\n",
    "from sklearn.metrics import silhouette_score\n",
    "\n",
    "# 데이터 생성\n",
    "X,y = make_blobs(n_samples=100, \n",
    "                 n_features=2, \n",
    "                 centers=5, \n",
    "                 random_state=10)\n",
    "\n",
    "# 생성된 데이터 차원 확인\n",
    "print(X.shape)\n",
    "print(y.shape)\n",
    "\n",
    "# 라벨링 되지 않은 데이터 플랏\n",
    "plt.scatter(X[:,0], X[:,1], \n",
    "            c='gray', \n",
    "            edgecolor='black', \n",
    "            marker='o')\n",
    "plt.show()\n",
    "\n",
    "# k-means clustering\n",
    "kmc = KMeans(n_clusters=5, \n",
    "             init='random', \n",
    "             max_iter=100, \n",
    "             random_state=0)\n",
    "kmc.fit(X)\n",
    "label_kmc = kmc.labels_ \n",
    "print(label_kmc)\n",
    "\n",
    "# 시각화를 위한 데이터프레임 생성\n",
    "kmc_columns = ['kmc_comp1', 'kmc_comp2']\n",
    "X_kmc_df = pd.DataFrame(X, columns=kmc_columns)\n",
    "X_kmc_df['target'] = y\n",
    "X_kmc_df['label_kmc'] = label_kmc\n",
    "X_kmc_df.head(5)\n",
    "\n",
    "# 타겟 클래스 종류 확인\n",
    "print(set(X_kmc_df['target']))\n",
    "print(set(X_kmc_df['label_kmc']))\n",
    "\n",
    "# k-means clustering을 이용한 데이터 플랏\n",
    "df = X_kmc_df\n",
    "markers=['o','x','^','s','*']\n",
    "\n",
    "for i, mark in enumerate(markers):\n",
    "    df_i = df[df['label_kmc']==i]\n",
    "    target_i = i\n",
    "    X1 = df_i['kmc_comp1']\n",
    "    X2 = df_i['kmc_comp2']\n",
    "    plt.scatter(X1, X2, \n",
    "                marker=mark, \n",
    "                label=target_i)\n",
    "\n",
    "plt.xlabel('kmc_component1')\n",
    "plt.ylabel('kmc_component2')\n",
    "plt.legend()\n",
    "plt.show()\n",
    "\n",
    "# 실제 타겟 플랏\n",
    "df = X_kmc_df\n",
    "markers=['o','x','^','s','*']\n",
    "\n",
    "for i, mark in enumerate(markers):\n",
    "    df_i = df[df['target']==i]\n",
    "    target_i = i\n",
    "    X1 = df_i['kmc_comp1']\n",
    "    X2 = df_i['kmc_comp2']\n",
    "    plt.scatter(X1, X2, \n",
    "                marker=mark, \n",
    "                label=target_i)\n",
    "\n",
    "plt.xlabel('kmc_component1')\n",
    "plt.ylabel('kmc_component2')\n",
    "plt.legend()\n",
    "plt.show()\n",
    "\n",
    "\n",
    "# 모형 평가\n",
    "sil_score = silhouette_score(X, label_kmc)\n",
    "print(sil_score)"
   ]
  },
  {
   "cell_type": "code",
   "execution_count": null,
   "metadata": {},
   "outputs": [],
   "source": []
  }
 ],
 "metadata": {
  "kernelspec": {
   "display_name": "Python 3",
   "language": "python",
   "name": "python3"
  },
  "language_info": {
   "codemirror_mode": {
    "name": "ipython",
    "version": 3
   },
   "file_extension": ".py",
   "mimetype": "text/x-python",
   "name": "python",
   "nbconvert_exporter": "python",
   "pygments_lexer": "ipython3",
   "version": "3.8.8"
  }
 },
 "nbformat": 4,
 "nbformat_minor": 4
}
