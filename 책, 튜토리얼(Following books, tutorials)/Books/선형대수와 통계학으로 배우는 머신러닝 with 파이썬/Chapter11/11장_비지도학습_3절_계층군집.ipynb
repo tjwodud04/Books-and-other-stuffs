{
 "cells": [
  {
   "cell_type": "markdown",
   "metadata": {},
   "source": [
    "# 개별 코드 "
   ]
  },
  {
   "cell_type": "code",
   "execution_count": 1,
   "metadata": {},
   "outputs": [],
   "source": [
    "# 데이터 생성\n",
    "from sklearn.datasets import make_blobs\n",
    "\n",
    "X,y = make_blobs(n_samples=10, \n",
    "                 n_features=2, \n",
    "                 random_state=0)"
   ]
  },
  {
   "cell_type": "code",
   "execution_count": 2,
   "metadata": {},
   "outputs": [
    {
     "name": "stdout",
     "output_type": "stream",
     "text": [
      "(10, 2)\n",
      "(10,)\n"
     ]
    }
   ],
   "source": [
    "# 생성된 데이터 차원 확인\n",
    "print(X.shape)\n",
    "print(y.shape)"
   ]
  },
  {
   "cell_type": "code",
   "execution_count": 3,
   "metadata": {},
   "outputs": [
    {
     "name": "stdout",
     "output_type": "stream",
     "text": [
      "[8 9 6 4 5 2 7 3 1 0]\n"
     ]
    }
   ],
   "source": [
    "# 병합 계층 클러스터링\n",
    "from sklearn.cluster import AgglomerativeClustering\n",
    "\n",
    "aggc = AgglomerativeClustering(n_clusters=None, \n",
    "                               distance_threshold=0, \n",
    "                               linkage='complete')\n",
    "label_aggc = aggc.fit_predict(X)\n",
    "print(label_aggc)"
   ]
  },
  {
   "cell_type": "code",
   "execution_count": 4,
   "metadata": {},
   "outputs": [
    {
     "name": "stdout",
     "output_type": "stream",
     "text": [
      "[0 0 0 0 0 0 1 0 0 0]\n"
     ]
    }
   ],
   "source": [
    "# 클러스터 2개로 병합\n",
    "aggc2 = AgglomerativeClustering(n_clusters=2, \n",
    "                                linkage='complete')\n",
    "label_aggc2 = aggc2.fit_predict(X)\n",
    "print(label_aggc2)"
   ]
  },
  {
   "cell_type": "code",
   "execution_count": 5,
   "metadata": {},
   "outputs": [
    {
     "name": "stdout",
     "output_type": "stream",
     "text": [
      "[0 0 2 0 0 0 1 2 2 0]\n"
     ]
    }
   ],
   "source": [
    "# 클러스터 3개로 병합\n",
    "aggc3 = AgglomerativeClustering(n_clusters=3, \n",
    "                                linkage='complete')\n",
    "label_aggc3 = aggc3.fit_predict(X)\n",
    "print(label_aggc3)"
   ]
  },
  {
   "cell_type": "code",
   "execution_count": 6,
   "metadata": {},
   "outputs": [
    {
     "data": {
      "image/png": "[encoded data removed]",
      "text/plain": [
       "<Figure size 432x288 with 1 Axes>"
      ]
     },
     "metadata": {
      "needs_background": "light"
     },
     "output_type": "display_data"
    }
   ],
   "source": [
    "# 덴드로그램 \n",
    "from scipy.cluster.hierarchy import dendrogram\n",
    "from scipy.cluster.hierarchy import linkage\n",
    "import matplotlib.pyplot as plt\n",
    "\n",
    "linked = linkage(X, 'complete')\n",
    "labels = label_aggc\n",
    "dendrogram(linked, \n",
    "           orientation='top', \n",
    "           labels=labels, \n",
    "           show_leaf_counts=True)\n",
    "plt.show()"
   ]
  },
  {
   "cell_type": "markdown",
   "metadata": {},
   "source": [
    "# 통합 코드"
   ]
  },
  {
   "cell_type": "code",
   "execution_count": 7,
   "metadata": {},
   "outputs": [
    {
     "name": "stdout",
     "output_type": "stream",
     "text": [
      "(10, 2)\n",
      "(10,)\n",
      "[8 9 6 4 5 2 7 3 1 0]\n",
      "[0 0 0 0 0 0 1 0 0 0]\n",
      "[0 0 2 0 0 0 1 2 2 0]\n"
     ]
    },
    {
     "data": {
      "image/png": "[encoded data removed]",
      "text/plain": [
       "<Figure size 432x288 with 1 Axes>"
      ]
     },
     "metadata": {
      "needs_background": "light"
     },
     "output_type": "display_data"
    }
   ],
   "source": [
    "from sklearn.datasets import make_blobs\n",
    "\n",
    "from sklearn.cluster import AgglomerativeClustering\n",
    "\n",
    "import matplotlib.pyplot as plt\n",
    "from scipy.cluster.hierarchy import dendrogram\n",
    "from scipy.cluster.hierarchy import linkage\n",
    "\n",
    "# 데이터 생성\n",
    "X,y = make_blobs(n_samples=10, \n",
    "                 n_features=2, \n",
    "                 random_state=0)\n",
    "\n",
    "# 생성된 데이터 차원 확인\n",
    "print(X.shape)\n",
    "print(y.shape)\n",
    "\n",
    "# 병합 계층 클러스터링\n",
    "aggc = AgglomerativeClustering(n_clusters=None, \n",
    "                               distance_threshold=0, \n",
    "                               linkage='complete')\n",
    "label_aggc = aggc.fit_predict(X)\n",
    "print(label_aggc)\n",
    "\n",
    "# 클러스터 2개로 병합\n",
    "aggc2 = AgglomerativeClustering(n_clusters=2, \n",
    "                                linkage='complete')\n",
    "label_aggc2 = aggc2.fit_predict(X)\n",
    "print(label_aggc2)\n",
    "\n",
    "# 클러스터 3개로 병합\n",
    "aggc3 = AgglomerativeClustering(n_clusters=3, \n",
    "                                linkage='complete')\n",
    "label_aggc3 = aggc3.fit_predict(X)\n",
    "print(label_aggc3)\n",
    "\n",
    "# 덴드로그램 \n",
    "linked = linkage(X, 'complete')\n",
    "labels = label_aggc\n",
    "dendrogram(linked, orientation='top', \n",
    "           labels=labels, \n",
    "           show_leaf_counts=True)\n",
    "plt.show()"
   ]
  },
  {
   "cell_type": "code",
   "execution_count": null,
   "metadata": {},
   "outputs": [],
   "source": []
  }
 ],
 "metadata": {
  "kernelspec": {
   "display_name": "Python 3",
   "language": "python",
   "name": "python3"
  },
  "language_info": {
   "codemirror_mode": {
    "name": "ipython",
    "version": 3
   },
   "file_extension": ".py",
   "mimetype": "text/x-python",
   "name": "python",
   "nbconvert_exporter": "python",
   "pygments_lexer": "ipython3",
   "version": "3.8.8"
  }
 },
 "nbformat": 4,
 "nbformat_minor": 4
}
